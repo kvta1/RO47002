{
 "cells": [
  {
   "cell_type": "markdown",
   "id": "d5955546",
   "metadata": {},
   "source": [
    "# Final Assignment RO47002 - Machine Learning for Robotics 2023/2024\n",
    "\n",
    "Before you start, fill in the cell below your lab group's number and the names of both lab partners.\n",
    "It is also suggested that you carefully read through all provided content before you start adding things.\n",
    "\n",
    "*Note*: as always, basic plagiarism and ethical guidelines apply:\n",
    "* By submitting this notebook, **you both claim that the solution is yours and yours only.**\n",
    "* You are not allowed to share your work with others.\n",
    "* Even after the deadline has passed, do *not* share or upload your solution anywhere (e.g. do not put it on github)."
   ]
  },
  {
   "cell_type": "code",
   "execution_count": 1,
   "id": "b3ab9a3d",
   "metadata": {},
   "outputs": [],
   "source": [
    "GROUP_NUMBER = \"74\"\n",
    "STUDENT_NAME1 = \"Kevin Tran\"\n",
    "STUDENT_NUMBER1 = \"4904672\"\n",
    "STUDENT_NAME2 = \"Dielof van Loon\"\n",
    "STUDENT_NUMBER2 = \"5346894\""
   ]
  },
  {
   "cell_type": "code",
   "execution_count": 2,
   "id": "d8f97ea6",
   "metadata": {},
   "outputs": [],
   "source": [
    "# Note: this block is a check that you have filled in the above information.\n",
    "# It will throw an AssertionError until all fields are filled\n",
    "assert(GROUP_NUMBER != \"\")\n",
    "assert(STUDENT_NAME1 != \"\")\n",
    "assert(STUDENT_NUMBER1 != \"\")\n",
    "assert(STUDENT_NAME2 != \"\")\n",
    "assert(STUDENT_NUMBER2 != \"\")"
   ]
  },
  {
   "cell_type": "markdown",
   "id": "7c7a819d",
   "metadata": {},
   "source": [
    "---\n",
    "\n",
    "## Introduction\n",
    "We are in the year 2023. Tech companies are striving to develop robotic helpers to help people with their day to day tasks. Your employer is working on a new feature for their robots. The feature aims at enabling their robots to go outside and collect deliveries for their owners. The deliveries would be dropped off at designated locations in front of a person's home. The robots should be able to navigate safely towards the delivered parcels, taking care not to enter the road. They should also be able to operate at any given time of day.\n",
    "\n",
    "For the upcoming demo to their stakeholders, your employer would like to showcase the robot going along the sidewalk to collect a red parcel. The demo is to take place within a blocked off part of the sidewalk in front of your workplace. Safety cones have been propped up next to the sidewalk in order to have a safety bound between the sidewalk and the road. The robot needs to remain on the sidewalk and go to the parcel at the end of the sidewalk. To prepare for the demo, your employer has booked three timeslots with the robot throughout the week. These timeslots ('Time 0', 'Time 1', and 'Time 2') are at different times of the day.\n",
    "\n",
    "As you are just starting out as a robot AI engineer, you first get the familiarization assignment to train a model solely for opperating at 'Time 1' before moving on to designing a more general AI.\n",
    "\n",
    "## Robot AI\n",
    "\n",
    "In this task, the robot's actions need to be determined based on only the robot's last observation (i.e. sensor measurements). More technically: the goal is to create a function $policy(observation) \\rightarrow action$, which the robot can continuously apply in a loop on its sensor measurements to determine its next action. This type of function is often called a *policy*.\n",
    "\n",
    "In this assignment, the input and output of the policy function `policy` are defined as:\n",
    "- the input `observation` will be an RGB image (a numpy array) containing a view of the robot's surroundings.\n",
    "- the output `action` should be an integer out of one of the possible actions (an integer between 0 and 2):\n",
    "\n",
    "    0. Turn left\n",
    "    1. Turn right\n",
    "    2. Move forward\n",
    "\n",
    "[comment]:<> (More details will be provided later in the section 0. Code to get you started\" below.)\n",
    "\n",
    "Note that the policy function will completely determine the behavior of the robot.\n",
    "You can think of the robot executing the policy in a never-ending loop (in pseudo-code):\n",
    "```python\n",
    "# Pseudo robot main loop with policy f\n",
    "while True:\n",
    "    observation = read_sensor_measurement()\n",
    "    action = policy(observation) # apply the policy\n",
    "    execute_action(action)\n",
    "```\n",
    "In fact, the behavior is already implemented for you in a **simulator**. This means you can test a policy function `policy` by plugging it in the simulator and seeing how your robot behaves!\n",
    "The simulator also allows us to quantify how well your robot behaved by returning a 'reward' value for each simulation step (a higher reward is better). More details on the rewards will be explained below in Section 0.\n",
    "\n",
    "## Task description: imitation learning\n",
    "\n",
    "These type of tasks, where a robot's policy needs to be optimized to achieve a high expected reward for operating in some environment, is often addressed through *reinforcement learning*. However, in this assignment we will *not* use reinforcement learning techniques, but mainly treat the problem as a **supervised classification task**.\n",
    "The training input (observations) and output (action labels) data will be obtained through demonstrations of humans *manually* controlling the robot. By training your machine learning models on these demonstrations, you will create an AI which \"imitates\" how a human would control the robot. This type of supervised machine learning is therefore called *imitation learning*.\n",
    "\n",
    "There are some coding challenges and design choices that you have to solve to use human demonstrations as labeled data to create your machine learning models. As before, you will have to think about feature extraction, hyperparemeter optimization, evaluation metrics, comparing models, etc.\n",
    "\n",
    "Once you have trained a classification model, you could define a new policy function which uses your trained model, and test this policy in the simulator. Does your most successful model also accumulate the most reward in the simulation? Can you make an AI which successfully operates at recorded and unrecorded times of the day?"
   ]
  },
  {
   "cell_type": "markdown",
   "id": "ef10e769",
   "metadata": {},
   "source": [
    "## Deliverables\n",
    "The deadline is **Tuesday, October 31th, 2023 at 12:00**. Late submission is –1 grade point per day.\n",
    "\n",
    "* The main deliverable is this Jupyter Notebook, integrating the report (markdown cells) and the code.\n",
    "* Submission is again in the form of a single ZIP file that *includes your notebook, and all files required to run the notebook and reproduce the results*. This includes all used data/demonstrations (including the ones that were provided), any loadable parameter files, any auxiliary scripts, etc.\n",
    "* Name the ZIP file \"**GroupNumber_final_assignment.zip**\", e.g., if you are in group 456, the name would be \"456_final_assignment.zip\".\n",
    "* Unlike previous lab assignments, there are no autograded cells or asserts, but we will grade the notebook manually. Therefore, you are free to add cells as you see fit, as long as the required sections are still present in the notebook.\n",
    "* Make sure that the notebook runs correctly. That is, clear all outputs, restart the kernel and run the notebook from top to bottom. \n",
    "* The notebook needs to be able to run within 20 minutes on a high-end PC, performing all steps (also including training, the only exception is hyperparameter optimization which can be commented out).\n",
    "* In contrast to the practica, please submit the notebook *including* the output (i.e., do not clear the outputs before zipping it up). \n",
    "\n",
    "\n",
    "## Grading Criteria\n",
    "Below you will find an outline of the sections that the notebook needs to contain and what we expect for each part. More specific requirements are listed there as well. The indicated number of points, out of a total of 100, should give you a rough indication of how much effort to put into each part.\n",
    "\n",
    "<div class=\"alert alert-block alert-warning\">\n",
    "In general, we will not focus as much on the performance of the method you design, but rather the <b>level of understanding and argumentation about your design choices</b>. So, we are not only interested in WHAT you did, but will put a strong emphasis on your reasoning about the WHY. Try to synthesize rather than describing what you did step by step.\n",
    "</div>\n",
    "\n",
    "### Quality of the report (20 points)\n",
    "- Structure & Readability\n",
    " - Logical flow\n",
    " - Connection between parts\n",
    "- Academic English\n",
    " - Do not use short forms, so not \"isn't\" / \"wouldn't\" but \"is not\" / \"would not\".\n",
    " - Do not use colloquial style, like \"a couple of\".\n",
    " - Spell check and proofread your report.\n",
    "- Level of detail\n",
    " - Strive for elegant, concise text - longer reports do not necessarily yield higher grades.\n",
    " - There is no need to re-explain theory. Assume that the target audience of the report has followed the course.\n",
    "- Figures & Tables\n",
    " - Choose figures/plots/tables carefully. Only include those that add to the story of the report. Do not put the burden on the reviewer to figure out which results you are basing your conclusions on, but specifically refer (parts of) the specific table/plot/figure when needed.\n",
    " - When comparing two or more signals display them in one plot. Explain the colors / line types. The scale of the plots must be carefully chosen in order to clearly convey the information intended. Label the axes in graphs properly (variables and units).\n",
    "- Citations\n",
    " - If you use images, theory and methods beyond what was covered in the course, etc., always reference sources.\n",
    "\n",
    "\n",
    "### Your implementations and answers (80 points)\n",
    "\n",
    "The remainder of this notebook follows the following structure:\n",
    "\n",
    "0. Code to get you started (0 points, *nothing for you to do here*)\n",
    "1. Explore & Inspect the Data (5 points)\n",
    "2. Prepare the Data and Evaluate Features (15 points)\n",
    "3. Single Time of Day Action Classification  (35 points)\n",
    "4. Enabling Generalization (20 points)\n",
    "5. Present your solution (5 points)\n",
    "\n",
    "Apart from section 0, you will have to implement and answer questions for all of the other 5 sections to earn points. *For each of these 5 sections, we have various questions or implementation tasks that your submission should address. These are listed in the cells at the end of this notebook.*\n",
    "\n",
    "Note that there is not one best answer to these questions, and the task could be addressed in different ways. We want to know *your* motivation for *your* selected approach."
   ]
  },
  {
   "cell_type": "markdown",
   "id": "7bf01613",
   "metadata": {},
   "source": [
    "---\n",
    "\n",
    "# 0. Code to get you started\n",
    "\n",
    "Before you start working on this notebook, **you will first need to install the Miniworld environment in your `homl3` conda environment**\n",
    "```\n",
    "pip install miniworld\n",
    "```\n",
    "\n",
    "**You will also need to install OpenCV in your `homl3` conda environment**\n",
    "```\n",
    "pip install opencv-python\n",
    "```\n",
    "\n",
    "<div class=\"alert alert-block alert-info\">\n",
    "If you encounter \"zmq message arrived on closed channel\" errors when working on this notebook, ensure that you do not have AdBlockers, Firewalls or similar active. If this does not resolve the issue, contact us regarding your particular case.\n",
    "</div>\n",
    "\n",
    "Note, you will not have to implement anything in this section, but you are free to play around with what is provided here, or copy parts to new cells in your solutions."
   ]
  },
  {
   "cell_type": "markdown",
   "id": "67d7ea8d",
   "metadata": {},
   "source": [
    "## Global flags"
   ]
  },
  {
   "cell_type": "markdown",
   "id": "786bd5f6",
   "metadata": {},
   "source": [
    "Here we define two global flags that will influence if this notebook will show popup windows when running the simulation:\n",
    "- `show_policy` defines whether you will see a pop-up window visualizing the policy from a random initial configuration\n",
    "- `collect_demo` defines whether you will see an interactive window that allows you to collect your own demonstrations\n",
    "\n",
    "Feel free to change the flags later if you need. For instance, if you want to test if your notebook runs properly and reproduces your results, but you do not want to wait for the popup windows, you can set these flags to False."
   ]
  },
  {
   "cell_type": "code",
   "execution_count": 3,
   "id": "a5a7c2c5",
   "metadata": {},
   "outputs": [],
   "source": [
    "# Configure if the simulator should show pop-up windows\n",
    "# CHANGE IF NEEDED\n",
    "show_policy = False\n",
    "collect_demo = False"
   ]
  },
  {
   "cell_type": "markdown",
   "id": "733da8fe",
   "metadata": {},
   "source": [
    "## Load default modules"
   ]
  },
  {
   "cell_type": "code",
   "execution_count": 4,
   "id": "192dd7ba",
   "metadata": {},
   "outputs": [],
   "source": [
    "import pickle\n",
    "import numpy as np\n",
    "import matplotlib.pyplot as plt\n",
    "\n",
    "import cv2 # you are allowed to use functions from cv2\n",
    "import glob\n",
    "\n",
    "# import the simulation environment\n",
    "import sidewalk_ro47002\n",
    "from sidewalk_ro47002 import Sidewalk"
   ]
  },
  {
   "cell_type": "code",
   "execution_count": 5,
   "id": "5a81daf6",
   "metadata": {},
   "outputs": [],
   "source": [
    "# (this cell is included for debugging, it makes it easy to reload sidewalk_ro47002.py without restarting the kernel)\n",
    "import importlib\n",
    "importlib.reload(sidewalk_ro47002)\n",
    "from sidewalk_ro47002 import Sidewalk"
   ]
  },
  {
   "cell_type": "code",
   "execution_count": 6,
   "id": "a1fbe749",
   "metadata": {},
   "outputs": [],
   "source": [
    "# creating environments for the 4 environments with rendering\n",
    "envs = []\n",
    " \n",
    "for n in range(4): \n",
    "    envs.append(Sidewalk(time_id=n, max_episode_time_step=1000, rendering=True))\n",
    "    \n",
    "# N.B.: on some computer you might get a warning \"Cannot change thread mode after it is set\"\n",
    "# when you run this cell the first time. It is safe to ignore this warning, the notebook should still work properly."
   ]
  },
  {
   "cell_type": "code",
   "execution_count": 7,
   "id": "8625ec82",
   "metadata": {},
   "outputs": [],
   "source": [
    "# creating environments for the 4 environments without rendering\n",
    "envs_norender = []\n",
    " \n",
    "for n in range(4): \n",
    "    envs_norender.append(Sidewalk(time_id=n, max_episode_time_step=1000, rendering=False)) "
   ]
  },
  {
   "cell_type": "markdown",
   "id": "d1127d2d",
   "metadata": {},
   "source": [
    "First, we explore the available environments. The code below generates an image from the 3 environments. You do not need to understand how this code works, but it should help you understand the context of what we are doing."
   ]
  },
  {
   "cell_type": "code",
   "execution_count": 8,
   "id": "d2a595ae",
   "metadata": {},
   "outputs": [
    {
     "data": {
      "application/vnd.jupyter.widget-view+json": {
       "model_id": "74c8994d97974c589b677f576d824fb9",
       "version_major": 2,
       "version_minor": 0
      },
      "text/plain": [
       "interactive(children=(IntSlider(value=1, description='time_id', max=2), Output()), _dom_classes=('widget-inter…"
      ]
     },
     "execution_count": 8,
     "metadata": {},
     "output_type": "execute_result"
    }
   ],
   "source": [
    "import ipywidgets\n",
    "import pyglet\n",
    "\n",
    "# Show screenshot of a sampled environment\n",
    "def plot_time_example(time_id):\n",
    "    env = envs_norender[time_id]\n",
    "    env.reset(seed=1)\n",
    "    plt.imshow(env.render())\n",
    "    env.render()\n",
    "    plt.title(f'Time {time_id}')\n",
    "    \n",
    "\n",
    "ipywidgets.interactive(plot_time_example, time_id=(0,2), continuous_update=False)"
   ]
  },
  {
   "cell_type": "markdown",
   "id": "7ed13a94",
   "metadata": {},
   "source": [
    "## Loading pre-recorded human demonstrations\n",
    "\n",
    "You are provided several pre-recorded demonstrations of a human *manually controlling* the robot on several runs in several environments.\n",
    "**You can use this data to train a classifier that you can use to implement one or more better policies, which should (ideally) perform similar to how a human would control the robot.**\n",
    "\n",
    "Each provided demonstration ...\n",
    "* ... contains a sequence of (observation, action) pairs ...\n",
    "* ... recorded at a specific time of day, ...\n",
    "* ... for convenience, also contains arrays containing the fixed time id of these input/output pair.\n",
    "\n",
    "A demonstration is stored as a python pickle file.\n",
    "The code below shows how to load the saved demonstrations, and to do some simple pre-processing."
   ]
  },
  {
   "cell_type": "code",
   "execution_count": 78,
   "id": "e11bb94b",
   "metadata": {
    "scrolled": true
   },
   "outputs": [
    {
     "name": "stdout",
     "output_type": "stream",
     "text": [
      "Found 76 demonstrations\n",
      "Loaded 62 samples from demonstrations\\demo-0-20230929_113424.pickle ...\n",
      "Loaded 3 samples from demonstrations\\demo-0-20230929_125159.pickle ...\n",
      "Loaded 12 samples from demonstrations\\demo-0-20230929_125237.pickle ...\n",
      "Loaded 7 samples from demonstrations\\demo-0-20230929_125255.pickle ...\n",
      "Loaded 22 samples from demonstrations\\demo-0-20230929_125307.pickle ...\n",
      "Loaded 2 samples from demonstrations\\demo-0-20230929_125335.pickle ...\n",
      "Loaded 1 samples from demonstrations\\demo-0-20230929_125419.pickle ...\n",
      "Loaded 2 samples from demonstrations\\demo-0-20230929_125518.pickle ...\n",
      "Loaded 3 samples from demonstrations\\demo-0-20230929_125612.pickle ...\n",
      "Loaded 5 samples from demonstrations\\demo-0-20230929_125639.pickle ...\n",
      "Loaded 18 samples from demonstrations\\demo-0-20230929_125659.pickle ...\n",
      "Loaded 6 samples from demonstrations\\demo-0-20230929_162031.pickle ...\n",
      "Loaded 4 samples from demonstrations\\demo-0-20230929_162115.pickle ...\n",
      "Loaded 7 samples from demonstrations\\demo-0-20230929_162258.pickle ...\n",
      "Loaded 5 samples from demonstrations\\demo-0-20230929_162340.pickle ...\n",
      "Loaded 7 samples from demonstrations\\demo-0-20230929_162352.pickle ...\n",
      "Loaded 1 samples from demonstrations\\demo-0-20231003_094248.pickle ...\n",
      "Loaded 1 samples from demonstrations\\demo-0-20231003_094259.pickle ...\n",
      "Loaded 2 samples from demonstrations\\demo-0-20231003_094325.pickle ...\n",
      "Loaded 2 samples from demonstrations\\demo-0-20231003_094549.pickle ...\n",
      "Loaded 2 samples from demonstrations\\demo-0-20231003_094734.pickle ...\n",
      "Loaded 4 samples from demonstrations\\demo-0-20231003_094743.pickle ...\n",
      "Loaded 2 samples from demonstrations\\demo-0-20231003_094750.pickle ...\n",
      "Loaded 70 samples from demonstrations\\demo-1-20230929_171322.pickle ...\n",
      "Loaded 6 samples from demonstrations\\demo-1-20230929_171459.pickle ...\n",
      "Loaded 3 samples from demonstrations\\demo-1-20230929_171509.pickle ...\n",
      "Loaded 1 samples from demonstrations\\demo-1-20230929_171533.pickle ...\n",
      "Loaded 2 samples from demonstrations\\demo-1-20230929_171553.pickle ...\n",
      "Loaded 2 samples from demonstrations\\demo-1-20230929_171609.pickle ...\n",
      "Loaded 22 samples from demonstrations\\demo-1-20230929_171716.pickle ...\n",
      "Loaded 3 samples from demonstrations\\demo-1-20230929_171751.pickle ...\n",
      "Loaded 12 samples from demonstrations\\demo-1-20230929_171804.pickle ...\n",
      "Loaded 6 samples from demonstrations\\demo-1-20230929_171833.pickle ...\n",
      "Loaded 3 samples from demonstrations\\demo-1-20230929_171844.pickle ...\n",
      "Loaded 2 samples from demonstrations\\demo-1-20230929_171922.pickle ...\n",
      "Loaded 8 samples from demonstrations\\demo-1-20230929_172005.pickle ...\n",
      "Loaded 16 samples from demonstrations\\demo-1-20230929_172027.pickle ...\n",
      "Loaded 3 samples from demonstrations\\demo-1-20230929_172043.pickle ...\n",
      "Loaded 2 samples from demonstrations\\demo-1-20230929_172111.pickle ...\n",
      "Loaded 1 samples from demonstrations\\demo-1-20230929_172127.pickle ...\n",
      "Loaded 2 samples from demonstrations\\demo-1-20230929_172151.pickle ...\n",
      "Loaded 2 samples from demonstrations\\demo-1-20230929_172226.pickle ...\n",
      "Loaded 1 samples from demonstrations\\demo-1-20230929_172258.pickle ...\n",
      "Loaded 6 samples from demonstrations\\demo-1-20230929_172317.pickle ...\n",
      "Loaded 3 samples from demonstrations\\demo-1-20230929_172328.pickle ...\n",
      "Loaded 2 samples from demonstrations\\demo-1-20230929_172458.pickle ...\n",
      "Loaded 4 samples from demonstrations\\demo-1-20230929_172525.pickle ...\n",
      "Loaded 2 samples from demonstrations\\demo-1-20231003_095243.pickle ...\n",
      "Loaded 1 samples from demonstrations\\demo-1-20231003_095343.pickle ...\n",
      "Loaded 2 samples from demonstrations\\demo-1-20231003_095653.pickle ...\n",
      "Loaded 4 samples from demonstrations\\demo-1-20231003_100023.pickle ...\n",
      "Loaded 68 samples from demonstrations\\demo-2-20231003_113230.pickle ...\n",
      "Loaded 7 samples from demonstrations\\demo-2-20231003_113256.pickle ...\n",
      "Loaded 7 samples from demonstrations\\demo-2-20231003_113543.pickle ...\n",
      "Loaded 1 samples from demonstrations\\demo-2-20231003_114355.pickle ...\n",
      "Loaded 1 samples from demonstrations\\demo-2-20231003_114607.pickle ...\n",
      "Loaded 2 samples from demonstrations\\demo-2-20231003_114622.pickle ...\n",
      "Loaded 1 samples from demonstrations\\demo-2-20231003_114828.pickle ...\n",
      "Loaded 2 samples from demonstrations\\demo-2-20231003_115053.pickle ...\n",
      "Loaded 3 samples from demonstrations\\demo-2-20231003_115133.pickle ...\n",
      "Loaded 3 samples from demonstrations\\demo-2-20231003_115712.pickle ...\n",
      "Loaded 4 samples from demonstrations\\demo-2-20231003_115726.pickle ...\n",
      "Loaded 2 samples from demonstrations\\demo-2-20231003_115818.pickle ...\n",
      "Loaded 2 samples from demonstrations\\demo-2-20231003_115945.pickle ...\n",
      "Loaded 3 samples from demonstrations\\demo-2-20231003_120007.pickle ...\n",
      "Loaded 2 samples from demonstrations\\demo-2-20231003_120058.pickle ...\n",
      "Loaded 6 samples from demonstrations\\demo-2-20231003_120154.pickle ...\n",
      "Loaded 2 samples from demonstrations\\demo-2-20231003_120239.pickle ...\n",
      "Loaded 4 samples from demonstrations\\demo-2-20231003_120305.pickle ...\n",
      "Loaded 2 samples from demonstrations\\demo-2-20231003_120321.pickle ...\n",
      "Loaded 3 samples from demonstrations\\demo-2-20231003_120347.pickle ...\n",
      "Loaded 15 samples from demonstrations\\demo-2-20231003_120429.pickle ...\n",
      "Loaded 2 samples from demonstrations\\demo-2-20231003_120503.pickle ...\n",
      "Loaded 3 samples from demonstrations\\demo-2-20231003_121328.pickle ...\n",
      "Loaded 4 samples from demonstrations\\demo-2-20231003_121350.pickle ...\n",
      "Loaded 2 samples from demonstrations\\demo-2-20231003_121654.pickle ...\n"
     ]
    }
   ],
   "source": [
    "# Look for all the demonstration pickle files in the demonstrations/ directory.\n",
    "#  The originally provided demo files are called: demo-[time_id]-[datetime].pickle\n",
    "#  Any demo files you record yourself are called: demostud-[time_id]-[datetime].pickle\n",
    "\n",
    "# CHANGE THIS IF NEEDED: select the pickle file pattern to match ...\n",
    "\n",
    "DEMO_FILEPATTERN = 'demo-*-*.pickle'      # only use ORIGINALLY provided demo files\n",
    "#DEMO_FILEPATTERN = 'demostud-*-*.pickle'  # only use YOUR own collected demo files\n",
    "#DEMO_FILEPATTERN = 'demo*-*.pickle'        # use ALL available demo files\n",
    "\n",
    "# find the relevant filenames\n",
    "filenames = glob.glob(f'demonstrations/{DEMO_FILEPATTERN}')\n",
    "filenames.sort() # ensure the order is well-defined\n",
    "print(f'Found {len(filenames)} demonstrations')\n",
    "\n",
    "# in a loop, load the found pickle files\n",
    "demonstrations = []\n",
    "for filename in filenames:\n",
    "    with open(filename, 'rb') as fd:\n",
    "        demonstration = pickle.load(fd)\n",
    "        \n",
    "        actions = demonstration['actions']\n",
    "        print(f'Loaded {actions.shape[0]} samples from {filename} ...')\n",
    "        \n",
    "        demonstrations.append(demonstration)"
   ]
  },
  {
   "cell_type": "code",
   "execution_count": 81,
   "id": "388fd5e8",
   "metadata": {},
   "outputs": [],
   "source": [
    "# we can combine all the observations, actions, and time ids\n",
    "\n",
    "observations = np.concatenate([d['observations'] for d in demonstrations])\n",
    "actions = np.concatenate([d['actions'] for d in demonstrations])\n",
    "time_ids = np.concatenate([d['time'] for d in demonstrations])\n",
    "\n",
    "# pre-processing: subsample and only keep every n-th sample for efficiency\n",
    "# this can speed up training\n",
    "ss = 1\n",
    "observations = observations[::ss]\n",
    "actions = actions[::ss]\n",
    "time_ids = time_ids[::ss]"
   ]
  },
  {
   "cell_type": "markdown",
   "id": "bb5c823a",
   "metadata": {},
   "source": [
    "## Understanding the data\n",
    "\n",
    "We here take a closer look at format of the demonstration data. The observations (input) are RGB images. The actions (target class labels) are integers."
   ]
  },
  {
   "cell_type": "code",
   "execution_count": 82,
   "id": "656bccb6",
   "metadata": {},
   "outputs": [
    {
     "name": "stdout",
     "output_type": "stream",
     "text": [
      "The data consists of 522 (observation, action) pairs:\n",
      "- observations : a (522, 60, 80, 3) numpy int8 array, i-th entry contains RGB image of sample i\n",
      "- actions      : a (522,) numpy int array, i-th entry contains action (class) label of sample i\n",
      "- time_ids     : a (522,) numpy int array, i-th entry contains the time_id of sample i\n"
     ]
    }
   ],
   "source": [
    "# count the total number of observations\n",
    "N = observations.shape[0]\n",
    "\n",
    "print(f'The data consists of {N} (observation, action) pairs:')\n",
    "print(f'- observations : a {observations.shape} numpy int8 array, i-th entry contains RGB image of sample i')\n",
    "print(f'- actions      : a {actions.shape} numpy int array, i-th entry contains action (class) label of sample i')\n",
    "print(f'- time_ids     : a {time_ids.shape} numpy int array, i-th entry contains the time_id of sample i')"
   ]
  },
  {
   "cell_type": "markdown",
   "id": "f121026e",
   "metadata": {},
   "source": [
    "We can inspect inspect a single sample in the recorded data:"
   ]
  },
  {
   "cell_type": "code",
   "execution_count": 12,
   "id": "db3a2b2e",
   "metadata": {
    "scrolled": false
   },
   "outputs": [
    {
     "name": "stdout",
     "output_type": "stream",
     "text": [
      "Action of sample 20:                     2\n",
      "Time id when sample 20 was recorded:     0\n"
     ]
    },
    {
     "data": {
      "image/png": "[encoded data removed]",
      "text/plain": [
       "<Figure size 640x480 with 1 Axes>"
      ]
     },
     "metadata": {},
     "output_type": "display_data"
    }
   ],
   "source": [
    "idx = 20 # sample index, should be in range [0, N-1]\n",
    "\n",
    "print(f'Action of sample {idx}:                    ', actions[idx])\n",
    "print(f'Time id when sample {idx} was recorded:    ', time_ids[idx])\n",
    "\n",
    "plt.imshow(observations[idx])\n",
    "plt.title(f'Observation of sample {idx}');"
   ]
  },
  {
   "cell_type": "markdown",
   "id": "eff18b10",
   "metadata": {},
   "source": [
    "Note that the observation is just a low-resolution image of the simulated environment.\n",
    "\n",
    "An action (label) is simply an integer. The three possible action values are:"
   ]
  },
  {
   "cell_type": "code",
   "execution_count": 13,
   "id": "3021679b",
   "metadata": {},
   "outputs": [],
   "source": [
    "ACTION_LEFT = 0  # Turn left\n",
    "ACTION_RIGHT = 1 # Turn right\n",
    "ACTION_FORWARD = 2  # Move forward"
   ]
  },
  {
   "cell_type": "markdown",
   "id": "82908e5a",
   "metadata": {},
   "source": [
    "You can use the demonstration data to train and validate your machine learning methods.\n",
    "Of course, you would first need to define some feature extraction procedure(s) to convert the observations into some suitable feature vectors for your machine learning techniques."
   ]
  },
  {
   "cell_type": "markdown",
   "id": "0a476e18",
   "metadata": {},
   "source": [
    "### Replay demonstrations"
   ]
  },
  {
   "cell_type": "markdown",
   "id": "8b15c060",
   "metadata": {},
   "source": [
    "The following cell allows you to replay some of the demonstrations found in the dataset.\n",
    "\n",
    "Study the demonstrations. \n",
    "\n",
    " - Are you able to recognize a specific strategy employed by the human demonstrator to solve this environment? \n",
    " - What would happen if different strategies were employed by the demonstrator? How does this relate to *irreducible error*?\n",
    "\n",
    "If you were to collect demonstrations yourself, these are questions that you should take into account."
   ]
  },
  {
   "cell_type": "code",
   "execution_count": 14,
   "id": "536b6ab8",
   "metadata": {},
   "outputs": [
    {
     "data": {
      "application/vnd.jupyter.widget-view+json": {
       "model_id": "783744fce6c74c66bc76ee914d78de73",
       "version_major": 2,
       "version_minor": 0
      },
      "text/plain": [
       "interactive(children=(IntSlider(value=2, description='demo_id', max=5), Output()), _dom_classes=('widget-inter…"
      ]
     },
     "execution_count": 14,
     "metadata": {},
     "output_type": "execute_result"
    }
   ],
   "source": [
    "from matplotlib import animation\n",
    "from IPython.display import HTML, display, clear_output\n",
    "import ipywidgets\n",
    "\n",
    "\n",
    "class ReplayDemos(animation.FuncAnimation):\n",
    "    def __init__(self, demo_id):\n",
    "        # np array with shape (frames, height, width, channels)\n",
    "        self.video_init = np.array(complete_demonstrations[demo_id]['observations'])\n",
    "        \n",
    "        # Add black frames at the end of the video\n",
    "        length_end = 20\n",
    "        self.end_video = np.zeros(np.append(length_end, self.video_init.shape[1:]), dtype=np.int)\n",
    "        self.video = np.append(self.video_init, self.end_video, axis=0)\n",
    "        \n",
    "        # Create figure\n",
    "        self.fig = plt.figure()\n",
    "        self.im = plt.imshow(self.video[0,:,:,:])\n",
    "        \n",
    "        plt.title('Replaying demonstration %i' % demo_id)\n",
    "        plt.close() # this is required to not display the generated image\n",
    "        \n",
    "        # Init parent\n",
    "        super().__init__(self.fig, self.animate, init_func=self.init, frames=self.video.shape[0], interval=50)\n",
    "        \n",
    "    def init(self):\n",
    "        self.im.set_data(self.video[0,:,:,:])\n",
    "\n",
    "    def animate(self, i):\n",
    "        self.im.set_data(self.video[i,:,:,:])\n",
    "        return self.im\n",
    "\n",
    "\n",
    "def filter_demos(demonstrations, thr=50):\n",
    "    # Remove all short demonstrations\n",
    "    complete_demonstrations = []\n",
    "    for demo in demonstrations:\n",
    "        if demo['observations'].shape[0] > thr:\n",
    "            complete_demonstrations.append(demo)\n",
    "            \n",
    "    return complete_demonstrations\n",
    "\n",
    "complete_demonstrations = filter_demos(demonstrations, thr=50)\n",
    "\n",
    "def replay_function(demo_id):\n",
    "    clear_output(wait=True)\n",
    "    replay_demos = ReplayDemos(demo_id)\n",
    "    display(HTML(replay_demos.to_html5_video()))\n",
    "\n",
    "ipywidgets.interactive(replay_function, demo_id=(0,len(complete_demonstrations)-1), continuous_update=False)"
   ]
  },
  {
   "cell_type": "markdown",
   "id": "a9eb2415",
   "metadata": {},
   "source": [
    "## Testing your model in  the simulator\n",
    "\n",
    "\n",
    "At some point, *after you have trained and evaluated your classifier*, you might want to check how well your classification method can actually control the robot. For this, you will need to wrap your trained classifier into a policy function that the simulator can use.\n",
    "\n",
    "This section will go over the details of\n",
    "* how to start the simulator;\n",
    "* how to implement a policy `policy`;\n",
    "* how to analyse the rewards.\n",
    "\n",
    "\n",
    "### Running a simulation\n",
    "\n",
    "The function `run_simulation` below will setup a simulation of your robot on a given environment (`env`) and will use the policy `policy` you provide to control the robot, for a maximum of `max_steps` simulation steps. The previously created environments `env = Sidewalk(time_id, max_episode_time_step=1000, rendering=False)` determine the environment and whether the simulation is shown in a popup-window. The simulation function can also record all the (observation, actions) pairs (`record_data=True`).\n",
    "\n",
    "The function signature of `run_simulation` is:\n",
    "```python\n",
    "rewards = run_simulation(policy, env, max_steps=500, verbose=1, record_data=False, delay=0.0, seed=-1, human_control=False)\n",
    "    \"\"\" Run robot simulation\n",
    "    Input arguments:\n",
    "    - policy        # [function] the robot's policy function\n",
    "    - env           # [instance of Sidewalk] the environment to simulate\n",
    "    - record_data   # [True/False] if true, return all (observation, action) pairs from the simulation\n",
    "    - max_steps     # [int] the maximum number of steps N to run the simulation\n",
    "    - delay         # [float] a time delay that can be added to make the simulation run a bit slower\n",
    "    - seed          # [int] location generation random seed - only set if >=0\n",
    "    - verbose       # [int] how much text gets printed: 0 = none, 1 = final stats, 2 = all\n",
    "    - human_control # [True/False] if true the key presses will be passed on the policy\n",
    "    \n",
    "    Returns:\n",
    "    - rewards       # [numpy array of floats] all N rewards accumulated during the simulation\n",
    "    - observations  # [numpy array N x H x W x 3] N observations, each observation being a WxH 3-channel image\n",
    "    - actions       # [numpy array of ints] all N actions outputted by the given policy f\n",
    "    \n",
    "    Note: `observations` and `actions` are only returned if record_data=True\n",
    "    \"\"\" \n",
    "```\n"
   ]
  },
  {
   "cell_type": "code",
   "execution_count": 15,
   "id": "23f56f40",
   "metadata": {},
   "outputs": [],
   "source": [
    "# user key input handler\n",
    "from pyglet.window import key\n",
    "import time\n",
    "\n",
    "# keep track if which keys have been pressed in the popup window\n",
    "# (will be used later for the human control)\n",
    "KEY_PRESSED = {key.LEFT: False, key.RIGHT: False, key.UP: False}\n",
    "\n",
    "# define the set of all actions    \n",
    "ACTIONS = [0, 1, 2]\n",
    "ACTION_NAMES = ['turn_left', 'turn_right', 'move_forward']\n",
    "NUM_ACTIONS = 3 # number of distinct actions\n",
    "\n",
    "def run_simulation(policy, env, max_steps=500, verbose=1, record_data=False, delay=0.0, seed=-1, human_control=False):\n",
    "    \"\"\" Run robot simulation\n",
    "    Input arguments:\n",
    "    - policy        # [function] the robot's policy function\n",
    "    - env           # [instance of Sidewalk] the environment to simulate\n",
    "    - record_data   # [True/False] if true, return all (observation, action) pairs from the simulation\n",
    "    - max_steps     # [int] the maximum number of steps N to run the simulation\n",
    "    - delay         # [float] a time delay that can be added to make the simulation run a bit slower\n",
    "    - seed          # [int] location generation random seed - only set if >=0\n",
    "    - verbose       # [int] how much texts gets printed: 0 = none, 1 = final stats, 2 = all\n",
    "    - human_control # [True/False] if true the key presses will be passed on the policy\n",
    "    \n",
    "    Returns:\n",
    "    - rewards       # [numpy array of floats] all N rewards accumulated during the simulation\n",
    "    - observations  # [numpy array N x H x W x 3] N observations, each observation being a WxH 3-channel image\n",
    "    - actions       # [numpy array of ints] all N actions outputted by the given policy f\n",
    "    \n",
    "    Note: `observations` and `actions` are only returned if record_data=True\n",
    "    \"\"\"\n",
    "    \n",
    "    if verbose > 0:\n",
    "        print(f'Starting simulation for {max_steps} steps.')\n",
    "        if env.rendering:\n",
    "            print('*** Press ESC key in popup window to stop the simulation! ***')\n",
    "        print()\n",
    "\n",
    "    if seed>=0:\n",
    "        env.reset(seed=seed)\n",
    "    else:\n",
    "        env.reset(seed=int( time.time() * 1000.0 ))\n",
    "\n",
    "    rewards = [] # will store the accumulated rewards\n",
    "    observations = [] # will store the accumulated observations (only if record_data==True)\n",
    "    actions = [] # will store the accumulated actions outputted by policy f (only if record_data==True)\n",
    "\n",
    "    completed_steps = 0   \n",
    "    \n",
    "    \n",
    "    try:\n",
    "        # reset the simulation, and get the initial observation (robot \"sensor measurement\")\n",
    "        obs = env.reinit(max_steps, wait_for_keypress=human_control)[0]\n",
    "        \n",
    "        # main simulation loop\n",
    "        for step in range(max_steps):\n",
    "            time.sleep(delay)\n",
    "               \n",
    "            if env.rendering:\n",
    "                env.render()\n",
    "            \n",
    "            # get keyboard pressed button status from environment\n",
    "            KEY_PRESSED.update(env.key_pressed)\n",
    "\n",
    "            if env.stop_simulation: break\n",
    "            \n",
    "                \n",
    "            # ** APPLYING YOUR POLICY **\n",
    "            # execute the given policy on the observation to determine the robot's action\n",
    "            action = policy(obs)\n",
    "            \n",
    "            # sanity check: is the policy implemented correctly?\n",
    "            assert (isinstance(action, (int, np.integer))) # returned action should be a builtin or numpy integer\n",
    "            assert (action in ACTIONS) # action should be an integer 0, 1, 2 or 3\n",
    "            \n",
    "            if verbose > 1:\n",
    "                print(f'step {step}: action = {ACTION_NAMES[action]}')\n",
    "\n",
    "            if record_data:\n",
    "                # only store all the observation and action pairs during the simulation\n",
    "                #   if the record_data argument is set to True\n",
    "                observations.append(obs)\n",
    "                actions.append(action)\n",
    "\n",
    "            # execute simulation step with the given control input\n",
    "            obs, reward, environment_done, _, info = env.step(action)\n",
    "            completed_steps += 1\n",
    "            \n",
    "            if verbose > 1:\n",
    "                print(f'step {step}: reward = {reward}')\n",
    "\n",
    "            # collect all rewards in a list\n",
    "            rewards.append(reward)\n",
    "\n",
    "            # exit simulation when goal is reached\n",
    "            if environment_done:\n",
    "                break\n",
    "\n",
    "    finally:\n",
    "        # close the pop-up window,\n",
    "        if env.rendering:\n",
    "            env.close()\n",
    "            env.window = None\n",
    "        \n",
    "    rewards = np.array(rewards)\n",
    "    total_reward = np.sum(rewards)\n",
    "    \n",
    "    if verbose > 0:\n",
    "        print(f'total reward after {completed_steps} steps: {total_reward}')\n",
    "        print(f'average reward: {total_reward/completed_steps}')\n",
    "    \n",
    "    if record_data:\n",
    "        return rewards, np.array(observations), np.array(actions, dtype=int)\n",
    "    \n",
    "    # by default, only return the rewards\n",
    "    return rewards"
   ]
  },
  {
   "cell_type": "markdown",
   "id": "9ce82c5e",
   "metadata": {},
   "source": [
    "The function `test_policy` below will run the `policy` in given environment (`env`) for a number `no_runs` different initial configurations. This function ensures that always the same set of configurations is used, allowing you to reproducibly compare the performance of different policies.\n",
    "\n",
    "The function signature of `test_policy` is:\n",
    "```python\n",
    "no_completed, avg_reward = test_policy(policy, env, verbose=0, no_runs=10)\n",
    "    \"\"\" Test a policy\n",
    "    Input arguments:\n",
    "    - policy        # [function] the robot's policy function\n",
    "    - env           # [instance of Sidewalk] the environment to simulate\n",
    "    - verbose       # [int] how much text gets printed: 0 = none, 1 = final stats, 2 = all\n",
    "    - no_runs       # [int] how many configurations to evaluate\n",
    "    \n",
    "    Returns:\n",
    "    - no_completed  # [int] number of runs in which the goal was reached\n",
    "    - avg_reward    # [float] average reward over the runs\n",
    "    \"\"\" \n",
    "```"
   ]
  },
  {
   "cell_type": "code",
   "execution_count": 16,
   "id": "e8d80d6c",
   "metadata": {},
   "outputs": [],
   "source": [
    "def test_policy(policy, env, verbose=0, no_runs=10):\n",
    "    \"\"\" Test a policy\n",
    "    Input arguments:\n",
    "    - policy        # [function] the robot's policy function\n",
    "    - env           # [instance of Sidewalk] the environment to simulate\n",
    "    - verbose       # [int] how much text gets printed: 0 = none, 1 = final stats, 2 = all\n",
    "    - no_runs       # [int] how many configurations to evaluate\n",
    "    \n",
    "    Returns:\n",
    "    - no_completed  # [int] number of runs in which the goal was reached\n",
    "    - avg_reward    # [float] average reward over the runs\n",
    "    \"\"\" \n",
    "    \n",
    "    no_completed = 0\n",
    "    avg_reward = 0.0\n",
    "  \n",
    "    seeds = range(0,no_runs)\n",
    "    run_count = 1\n",
    "    for seed in seeds:\n",
    "        print('Run %i / %i' % (run_count, no_runs))\n",
    "        success = False\n",
    "        run_count += 1\n",
    "        rs = run_simulation(\n",
    "            policy,\n",
    "            env,\n",
    "            record_data=False,\n",
    "            verbose=verbose, \n",
    "            max_steps=300, \n",
    "            delay=0.0,\n",
    "            seed=seed)\n",
    "\n",
    "        avg_reward += np.mean(rs)\n",
    "        if np.sum(rs) > 0:\n",
    "            no_completed += 1\n",
    "            success = True\n",
    "            \n",
    "        print('Success:', success)\n",
    "    \n",
    "    avg_reward /= float(no_runs)\n",
    "    \n",
    "    print()\n",
    "    print(f'average reward: {avg_reward}')\n",
    "    print(f'reached target: {no_completed} / {no_runs}')\n",
    "    \n",
    "    return no_completed, avg_reward"
   ]
  },
  {
   "cell_type": "markdown",
   "id": "239132f0",
   "metadata": {},
   "source": [
    "### Implementing a policy\n",
    "\n",
    "For the simulator, $policy(observation) \\rightarrow action$ should be implemented as a plain python function which takes a numpy array as input (the observation) and returns an integer (the action).\n",
    "So generally, a policy implementation would look like this:\n",
    "\n",
    "```python\n",
    "\n",
    "def policy(observation):    \n",
    "    \"\"\"\n",
    "    Input: observation, a H x W x 3 numpy array containing an RGB image of the surroundings\n",
    "    Output: action,     an integer representing the action (0 = Left, ... 2 = Forward)\n",
    "    N.B.: actions is just an int, NOT a numpy array\n",
    "    \"\"\" \n",
    "    \n",
    "    # YOUR CODE\n",
    "    #   convert observation to feature vector\n",
    "    #   predict action class given the feature vector using some ML technique\n",
    "    \n",
    "    return action\n",
    "```\n",
    "*Of course, don't name you policy just `policy`, but give it some more descriptive name!*\n",
    "\n",
    "To illustrate, here is a dummy policy which just picks a random actions (without actually looking at the observation)."
   ]
  },
  {
   "cell_type": "code",
   "execution_count": 17,
   "id": "91446514",
   "metadata": {},
   "outputs": [],
   "source": [
    "# a dummy policy\n",
    "def policy_dummy(observation):\n",
    "    \"\"\" Dummy policy function, which just returns random action. \n",
    "    \n",
    "    Input: observation, a H x W x 3 numpy array containing an RGB image of the surroundings\n",
    "    Output: action,     an integer representing the action (0 = Left, ... 2 = Forward)\n",
    "    N.B.: actions is just an int, NOT a numpy array\n",
    "    \"\"\"\n",
    "    \n",
    "    # in this dummy policy, we ignore the observation and just select a random action\n",
    "    action = np.random.randint(0, NUM_ACTIONS)\n",
    "    \n",
    "    # print(f'Received observation: {observation.shape} numpy array of type {observation.dtype}, returning action {action}')\n",
    "    return action"
   ]
  },
  {
   "cell_type": "markdown",
   "id": "4667f5a1",
   "metadata": {},
   "source": [
    "We can confirm that the policy returns a valid action label:"
   ]
  },
  {
   "cell_type": "code",
   "execution_count": 18,
   "id": "ad47b72f",
   "metadata": {},
   "outputs": [],
   "source": [
    "action = policy_dummy(observations)\n",
    "\n",
    "# returned action should be a builtin int or a numpy integer (NOT a numpy array) in the range [0, 2]\n",
    "assert (isinstance(action, (int, np.integer)))\n",
    "assert (action in ACTIONS) # ACTIONS is the set of possible action labels, [0,1,2]"
   ]
  },
  {
   "cell_type": "markdown",
   "id": "92ab36b3",
   "metadata": {},
   "source": [
    "### Reward\n",
    "\n",
    "To quantify how well a policy is working, the simulator will return the *rewards* that the robot collected at each simulation step. The rewards determine how well you are doing, and are based on whether or not you reach the target (red cube) or not and how quickly you do so:\n",
    "\n",
    "* The robot receives a reward of 0 when not reaching the target within the given maximum number of steps.\n",
    "* The robot receives a reward of 1 when reaching the target, at which time also the episode ends. The robot also gets a small malus for the number of steps it needs to reach the target, as a penalty for spending time. The equation for this is: 1.0 - 0.2 * (step_count / max_episode_steps)\n",
    "\n",
    "Overall, the goal is to reach the red cube as quickly as possible."
   ]
  },
  {
   "cell_type": "markdown",
   "id": "f908609e",
   "metadata": {},
   "source": [
    "### Illustration of running the simulator with the dummy policy\n",
    "\n",
    "Let's try to run the simulation with the dummy policy, and render the output in the popup-window for 100 steps."
   ]
  },
  {
   "cell_type": "code",
   "execution_count": 19,
   "id": "20d825fb",
   "metadata": {
    "scrolled": true
   },
   "outputs": [],
   "source": [
    "time_id = 1 # <-- CHANGE THIS to select the time; can be 0, 1, 2\n",
    "\n",
    "if show_policy:\n",
    "    # running the simulation with the dummy policy\n",
    "    rs = run_simulation(policy_dummy, envs[time_id], max_steps=100)"
   ]
  },
  {
   "cell_type": "markdown",
   "id": "0918c2c8",
   "metadata": {},
   "source": [
    "Clearly, this policy does not do anything particularly useful, and should make the robot just move around randomly. Let's visualize the rewards that the robot collected during the simulation.\n",
    "\n",
    "The first plot below shows when the reward is collected. The second plot shows the total/cumulative reward. You will probably see two flat lines as the dummy policy did not accumulate any rewards. This is indicative of a bad policy."
   ]
  },
  {
   "cell_type": "code",
   "execution_count": 20,
   "id": "760569cd",
   "metadata": {
    "scrolled": true
   },
   "outputs": [],
   "source": [
    "if show_policy:\n",
    "    plt.figure(figsize=(10,4)) # create a wide figure (size 10) which is not so tall (size 4)\n",
    "    plt.subplot(1,2,1) # create subplot of 1 row, 2 columns, enable plotting in first cell\n",
    "    plt.plot(rs)\n",
    "    plt.xlabel('steps')\n",
    "    plt.ylabel('reward')\n",
    "    plt.title('Reward per step')\n",
    "    plt.grid()\n",
    "\n",
    "    plt.subplot(1,2,2) # create subplot of 1 row, 2 columns, enable plotting in first cell\n",
    "    plt.plot(np.cumsum(rs)) # Cumulative sum of rewards\n",
    "    plt.xlabel('steps')\n",
    "    plt.ylabel('total reward')\n",
    "    plt.title('Cumulative reward')\n",
    "    plt.grid()\n",
    "\n",
    "    print('Average reward:', np.mean(rs))"
   ]
  },
  {
   "cell_type": "markdown",
   "id": "c4e125f0",
   "metadata": {},
   "source": [
    "For comparing and evaluating classifiers, measure the performance of the classifiers themselves, i.e., the macro-F1 score.\n",
    "\n",
    "Still, the simulation and rewards can help you assess in what situations your robot AI is performing well, and when it is failing. For this use the function `test_policy`, with the default 10 runs."
   ]
  },
  {
   "cell_type": "code",
   "execution_count": 21,
   "id": "1b0a381f",
   "metadata": {},
   "outputs": [
    {
     "name": "stdout",
     "output_type": "stream",
     "text": [
      "Run 1 / 10\n",
      "Success: False\n",
      "Run 2 / 10\n",
      "Success: False\n",
      "Run 3 / 10\n",
      "Success: False\n",
      "Run 4 / 10\n",
      "Success: False\n",
      "Run 5 / 10\n",
      "Success: False\n",
      "Run 6 / 10\n",
      "Success: False\n",
      "Run 7 / 10\n",
      "Success: False\n",
      "Run 8 / 10\n",
      "Success: False\n",
      "Run 9 / 10\n",
      "Success: False\n",
      "Run 10 / 10\n",
      "Success: False\n",
      "\n",
      "average reward: 0.0\n",
      "reached target: 0 / 10\n"
     ]
    }
   ],
   "source": [
    "no_completed, avg_reward = test_policy(policy_dummy, envs_norender[time_id])"
   ]
  },
  {
   "cell_type": "markdown",
   "id": "474c9f70",
   "metadata": {},
   "source": [
    "# Collecting new demonstrations\n",
    "\n",
    "At some point, you might want to collect more human demonstration data to make your method even better.\n",
    "You can do this by:\n",
    "\n",
    "- manually controlling the robot in the simulation yourself to generate new demonstrations\n",
    "- recording the resulting (observation, action) pairs during these demonstrations\n",
    "- saving the good demonstrations to disk to increase your example dataset\n",
    "\n",
    "The code below demonstrates how to do this. The idea is simple: just use the regular `run_simulation()` function, but use a special `policy_human()` policy which simply returns the action based on the keyboard input!"
   ]
  },
  {
   "cell_type": "code",
   "execution_count": 22,
   "id": "b00df200",
   "metadata": {},
   "outputs": [],
   "source": [
    "# a human\n",
    "def policy_human(observation):\n",
    "    # Get the action obtained by the key_press/key_release callbacks from the popup window.\n",
    "    # Note that the human demonstrator (you!) will of course see the environment image in the popup window,\n",
    "    # and ignore the 'observation' input of this function.\n",
    "    # This 'human policy' will therefore return your 'action' response to the visual input by checking\n",
    "    # which keyboard arrows you pressed.\n",
    "    # Note 1: As we don't have an idle action, the time will only progress when you press a key\n",
    "    # Note 2: If you press and key except the arrow keys or ESC, the policy sanity check will fail\n",
    "\n",
    "    if KEY_PRESSED[key.LEFT]: return ACTIONS[0]\n",
    "    elif KEY_PRESSED[key.RIGHT]: return ACTIONS[1]\n",
    "    elif KEY_PRESSED[key.UP]: return ACTIONS[2]"
   ]
  },
  {
   "cell_type": "markdown",
   "id": "3f5f9349",
   "metadata": {},
   "source": [
    "When we use this policy, ensure that the simulator stores and returns all the (observation, action) pairs by setting the `record_data` argument of run_simulation to `True`.\n",
    "You can adjust the `time_id` to get human demonstrations at a variety of times during the day for the training environment. If you want a reproducible initial configuration, you can also set a `seed`."
   ]
  },
  {
   "cell_type": "code",
   "execution_count": 23,
   "id": "cc7cf477",
   "metadata": {},
   "outputs": [],
   "source": [
    "if collect_demo:\n",
    "    time_id = 2 # <-- CHANGE THIS to select the time; can be 0, 1, 2\n",
    "    # NOTE: if an interactive widget is active, this simulation will run slower\n",
    "\n",
    "    rs, rec_obs, rec_actions = run_simulation(\n",
    "        policy_human,          # by using the 'human' policy, YOU determine the robot's actions based on what you see\n",
    "        record_data=True,      # record and return all (observation, action) pairs from the simulation \n",
    "        env=envs[time_id],     # which environment to use\n",
    "        max_steps=1000,        # maximum number of steps to run the simulation\n",
    "        human_control=True,    # when controlling the robot manually\n",
    "        delay=0.07,            # adding a small delay will help you control the robot\n",
    "    )\n",
    "    # Note: with delay=0.05 the simulation runs a bit slower, which makes it easier to give demonstrations\n",
    "    \n",
    "else:\n",
    "    rec_obs = observations\n",
    "    rec_actions = actions"
   ]
  },
  {
   "cell_type": "markdown",
   "id": "b759d7a7",
   "metadata": {},
   "source": [
    "Explore the just collected samples using an interactive slider (if you didn't collect new data you'll explore the pre-recoded demonstrations instead)"
   ]
  },
  {
   "cell_type": "code",
   "execution_count": 24,
   "id": "8083ec27",
   "metadata": {},
   "outputs": [
    {
     "data": {
      "application/vnd.jupyter.widget-view+json": {
       "model_id": "9a6fdb770e14474a996ea3921f331423",
       "version_major": 2,
       "version_minor": 0
      },
      "text/plain": [
       "interactive(children=(IntSlider(value=644, description='idx', max=1289), Output()), _dom_classes=('widget-inte…"
      ]
     },
     "execution_count": 24,
     "metadata": {},
     "output_type": "execute_result"
    }
   ],
   "source": [
    "def plot_sample(idx, observations, actions):\n",
    "    obs = observations[idx]\n",
    "    action = actions[idx]\n",
    "    plt.clf()\n",
    "    plt.imshow(obs)\n",
    "    plt.title(f'{idx}: {action}');\n",
    "\n",
    "ipywidgets.interactive(lambda idx: plot_sample(idx, rec_obs, rec_actions),\n",
    "                       idx=(0,rec_obs.shape[0]-1))"
   ]
  },
  {
   "cell_type": "markdown",
   "id": "0c8cf8de",
   "metadata": {},
   "source": [
    "If you are unhappy with the the demonstration you gave, you can just execute the `run_simulation()` cell above again, until you are satisfied.\n",
    "\n",
    "To save the demonstration to disk, execute the cell below after setting `SAVE_DEMO` to True.\n",
    "\n",
    "**After you have saved the demonstration, don't forget to afterwards IMMEDIATELY set `SAVE_DEMO` back to False to avoid accidentally saving new demonstrations every time you rerun the notebook!!!**\n",
    "\n",
    "Note that the pickle filenames of your recordings will start with `demostud-`, while the originally provided demonstrations start with `demo-`. This makes it easy to load only the original, your, or both types of recordings."
   ]
  },
  {
   "cell_type": "code",
   "execution_count": 25,
   "id": "ce4e67b4",
   "metadata": {},
   "outputs": [
    {
     "name": "stdout",
     "output_type": "stream",
     "text": [
      "Saving demonstration of time 1 to demonstrations/demostud-1-20231026_143724.pickle ...\n"
     ]
    }
   ],
   "source": [
    "SAVE_DEMO = True # <-- CHANGE THIS to 'True' to SAVE the last recording to disk!\n",
    "\n",
    "if SAVE_DEMO: \n",
    "    rec_N = rec_obs.shape[0]\n",
    "\n",
    "    demonstration = {\n",
    "        'observations': rec_obs,\n",
    "        'actions': rec_actions,\n",
    "        'time': time_id * np.ones(rec_N, dtype=int),\n",
    "    }\n",
    "    \n",
    "    # include date+time to filename in YYYYMMDD_HHMMSS format\n",
    "    import datetime\n",
    "    now = datetime.datetime.now()\n",
    "    dt_str = now.strftime('%Y%m%d_%H%M%S')\n",
    "\n",
    "    # Save to disk\n",
    "    save_filename = f'demonstrations/demostud-{time_id}-{dt_str}.pickle'\n",
    "    print(f'Saving demonstration of time {time_id} to {save_filename} ...')\n",
    "    with open(save_filename, 'wb') as fd:\n",
    "        pickle.dump(demonstration, fd)"
   ]
  },
  {
   "cell_type": "markdown",
   "id": "b67f75fe",
   "metadata": {},
   "source": [
    "Ok, that completes the example code.\n",
    "Now it is your turn! Implement your solution to the final assignment below. For full points, make sure you address *all* the numbered items for each section, either by implementing something in code cells, or by providing text in Markdown cells. You are free to add as many code and markdown cells as required. Be sure to first read through all sections before you start, so you know what should go where. We are *not* using nbgrader for this final assignment.\n",
    "\n",
    "**When you are done, double check the \"Deliverables\" section at the start of this notebook on how to prepare your final submission!**\n",
    "\n",
    "Good luck!\n"
   ]
  },
  {
   "cell_type": "markdown",
   "id": "c1edc05e",
   "metadata": {},
   "source": [
    "---\n",
    "\n",
    "# 1. Explore & Inspect the Data (5 points)\n",
    "In this section you should only use the ORIGINALLY provided demo files (i.e. 'demo-*-*.pickle')\n",
    "\n",
    "Add code and markdown cells to address all of the following points:\n",
    "\n",
    "1. Create a visualization that shows three samples from each time of day for which you have demonstrations. <span style=\"float: right;\">(0.5 pt)</span>\n",
    "2. Explain in words what you observe: how do the observations from the times of day vary? <span style=\"float: right;\">(0.5 pt)</span>\n",
    "3. Are the samples i.i.d.? What does that imply for splitting your data? <span style=\"float: right;\">(1 pt)</span>\n",
    "4. Is there a class imbalance? If yes, what are procedures to deal with that? <span style=\"float: right;\">(1 pt)</span>\n",
    "5. Do we have a high risk of conflicting labels for observations? What problems can this cause? <span style=\"float: right;\">(1 pt)</span>\n",
    "6. The data was collected from human demonstrations. What are potential issues with this way of collecting data? <span style=\"float: right;\">(1 pt)</span>\n",
    "\n",
    " "
   ]
  },
  {
   "cell_type": "code",
   "execution_count": 102,
   "id": "a8cd54d5",
   "metadata": {},
   "outputs": [
    {
     "name": "stdout",
     "output_type": "stream",
     "text": [
      "Found 76 demonstrations\n",
      "Done!\n"
     ]
    }
   ],
   "source": [
    "# Look for all the demonstration pickle files in the demonstrations/ directory.\n",
    "#  The originally provided demo files are called: demo-[time_id]-[datetime].pickle\n",
    "#  Any demo files you record yourself are called: demostud-[time_id]-[datetime].pickle\n",
    "\n",
    "# CHANGE THIS IF NEEDED: select the pickle file pattern to match ...\n",
    "\n",
    "DEMO_FILEPATTERN = 'demo-*-*.pickle'      # only use ORIGINALLY provided demo files\n",
    "#DEMO_FILEPATTERN = 'demostud-*-*.pickle'  # only use YOUR own collected demo files\n",
    "#DEMO_FILEPATTERN = 'demo*-*.pickle'        # use ALL available demo files\n",
    "\n",
    "# find the relevant filenames\n",
    "filenames = glob.glob(f'demonstrations/{DEMO_FILEPATTERN}')\n",
    "filenames.sort() # ensure the order is well-defined\n",
    "print(f'Found {len(filenames)} demonstrations')\n",
    "\n",
    "# in a loop, load the found pickle files\n",
    "demonstrations = []\n",
    "for filename in filenames:\n",
    "    with open(filename, 'rb') as fd:\n",
    "        demonstration = pickle.load(fd)\n",
    "        \n",
    "        actions = demonstration['actions']\n",
    "        demonstrations.append(demonstration)\n",
    "        \n",
    "print(\"Done!\")"
   ]
  },
  {
   "cell_type": "code",
   "execution_count": 103,
   "id": "0b8ba663",
   "metadata": {},
   "outputs": [],
   "source": [
    "# we can combine all the observations, actions, and time ids\n",
    "\n",
    "observations = np.concatenate([d['observations'] for d in demonstrations])\n",
    "actions = np.concatenate([d['actions'] for d in demonstrations])\n",
    "time_ids = np.concatenate([d['time'] for d in demonstrations])\n",
    "\n",
    "# pre-processing: subsample and only keep every n-th sample for efficiency\n",
    "# this can speed up training\n",
    "ss = 1\n",
    "observations = observations[::ss]\n",
    "actions = actions[::ss]\n",
    "time_ids = time_ids[::ss]"
   ]
  },
  {
   "cell_type": "code",
   "execution_count": 26,
   "id": "7ef75732",
   "metadata": {},
   "outputs": [
    {
     "data": {
      "image/png": "[encoded data removed]",
      "text/plain": [
       "<Figure size 640x480 with 9 Axes>"
      ]
     },
     "metadata": {},
     "output_type": "display_data"
    }
   ],
   "source": [
    "idx = []\n",
    "idx.append(list(range(4,7)))\n",
    "idx.append(list(range(int(time_ids.shape[0]/2), int(time_ids.shape[0]/2)+3)))\n",
    "idx.append(list(range(time_ids.shape[0]-3, time_ids.shape[0])))\n",
    "\n",
    "fig, axs = plt.subplots(3, 3)\n",
    "\n",
    "\n",
    "\n",
    "for j in range(3):\n",
    "    for i in range(3):\n",
    "        axs[j, i].imshow(observations[idx[j][i]])\n",
    "        axs[j, i].set_title(f\"Time_id: {time_ids[idx[j][i]]}, img_id: {idx[j][i]}\")\n",
    "        axs[j, i].title.set_size(8)"
   ]
  },
  {
   "cell_type": "markdown",
   "id": "52089e61",
   "metadata": {},
   "source": [
    "# 1.2 Observations from data\n",
    "\n",
    "When examining the images gathered from the observations. the following similarities and differences can be found:\n",
    "\n",
    "1. For each time of day the environment regarding cones and walls do not change\n",
    "2. For each new sample the position of the red cube may change\n",
    "3. For each sample the intial orientation of the robot changes\n",
    "4. The images for each time of day only differ in **hue**"
   ]
  },
  {
   "cell_type": "markdown",
   "id": "a55ba43e",
   "metadata": {},
   "source": [
    "# 1.3 Are the samples i.i.d?\n",
    "\n",
    "The demo files in the demonstration folder are sorted from time id 0 to 2, and the list 'observations' simply concatenates all the observations within demonstrations. This means that our observation samples will also be sorted from timeid 0 to 2. Resulting in a sample that is **not** i.i.d.\n",
    "\n",
    "Splitting the data mean taking every n-th element of a list. In our case since the list is sorted, if we split it the resulting list will have the same distribution of time ids as the original list. However this is still not i.i.d. therefore we should shuffle the data. "
   ]
  },
  {
   "cell_type": "code",
   "execution_count": 27,
   "id": "c0b51f42",
   "metadata": {},
   "outputs": [
    {
     "name": "stdout",
     "output_type": "stream",
     "text": [
      "The number of samples with timeid 0:  180\n",
      "The number of samples with timeid 1:  902\n",
      "The number of samples with timeid 2:  208\n"
     ]
    }
   ],
   "source": [
    "N_time0 = np.count_nonzero(time_ids == 0)\n",
    "N_time1 = np.count_nonzero(time_ids == 1)\n",
    "N_time2 = np.count_nonzero(time_ids == 2)\n",
    "\n",
    "print(f\"The number of samples with timeid 0:  {N_time0}\")\n",
    "print(f\"The number of samples with timeid 1:  {N_time1}\")\n",
    "print(f\"The number of samples with timeid 2:  {N_time2}\")"
   ]
  },
  {
   "cell_type": "markdown",
   "id": "c9b5ee42",
   "metadata": {},
   "source": [
    "# 1.4 Is there a class imbalance?\n",
    "\n",
    "There is a class imbalance in our observations as there are fewer samples of timeid = 2 compared to timeid = 0 and 1. This can be by adressed by gathering more data with timeid = 2. \n",
    "\n",
    "If gathering more samples is not possible, a different option is to undersample the majority class. In our case this means taking fewer samples of timeid 0 and 1 to match that of timeid 2. This however means a loss of information.\n",
    "\n",
    "Similarly you can also oversample timeid 2, so duplicating random samples with timeid 2 to increase the sample size. This however can result in overfitting. "
   ]
  },
  {
   "cell_type": "markdown",
   "id": "8b78366b",
   "metadata": {},
   "source": [
    "## 1.5 Do we have a high risk of conflicting labels for observations? What problems can this cause?\n",
    "\n",
    "As all data is generated by humans, a lot of different actions are taken in (basically) the same observation. This could cause conflicting labels, as the training data itself is conflicting. The noise by measurement techniques or in sensor data will be minimal though, which means that all noise probably comes from the human operator."
   ]
  },
  {
   "cell_type": "markdown",
   "id": "c8c6443b",
   "metadata": {},
   "source": [
    "## 1.6 The data was collected from human demonstrations. What are potential issues with this way of collecting data?\n",
    "\n",
    "By using humans to generate data it most certainly will not be the most efficient path to the red cube, as humans often do not take the shortest path to the red cube. Using human generated data could also mean a lot of conflicting data, as mentioned before, where some human might take a left, others might take a right."
   ]
  },
  {
   "cell_type": "markdown",
   "id": "dce1a0f4",
   "metadata": {},
   "source": [
    "# ---\n",
    "\n",
    "# 2. Prepare the Data and Evaluate Features (15 points)\n",
    "\n",
    "In this section you should only use the ORIGINALLY provided demo files (i.e. 'demo-*-*.pickle'). You should pre-process the data, e.g., down-sample, and extract features to create your training data matrix \"X\".\n",
    "\n",
    "<div class=\"alert alert-block alert-warning\">\n",
    "Remember to provide thorough insights, analysis and reasoning behind your design choices and what you see as a consequence of these choices. Try to synthesize rather than describing what you did step by step.\n",
    "</div>\n",
    "\n",
    "## 2.1. Clustering observations from times of day (6 points)\n",
    "\n",
    "Before we turn towards the main task of action classification (section 2.2), let us first try a small unsupervised clustering task. Pretend that we only have the observations, but did not record the time_ids of these observations. The goal is to cluster the observations into k=3 clusters such that 1 cluster (approximately) corresponds to 1 time of day. For this task, you can ignore the actions and time_id information.\n",
    "\n",
    "1. Propose a feature extraction method `feat_extract_clust` which can be used to CLUSTER the samples and (approximately)<br> recover the time_ids. Motivate what you use in your feature extraction method. <span style=\"float: right;\">(2 pt)</span>\n",
    "2. Perform clustering based on the features obtained with `feat_extract_clust`, and compare the results to the true time_id<br> labels. For this you will need to select a statistical measure to compare cluster labels to time_ids. <span style=\"float: right;\">(1 pt)</span>\n",
    "3. Explain what measure you use for comparing the features and why. <span style=\"float: right;\">(2 pt)</span>\n",
    "4. Can you recover the time_ids by clustering? Motivate your answer with your results. <span style=\"float: right;\">(1 pt)</span>"
   ]
  },
  {
   "cell_type": "markdown",
   "id": "c18ad431",
   "metadata": {},
   "source": [
    "# 2.1.1 Feature extraction method\n",
    "\n",
    "Considering we can't use the timeids to determine the time of day, we have to do feature extraction on the RGB images.\n",
    "\n",
    "Because the the images only differ in hue, we can make the image feature transformation from RGB format to HSV format. Where HSV is hue, saturation and value. The transformation from RGB to HSV does not affect the dimensionality of the feature space, therefore making it a suitable option for clustering based on hues."
   ]
  },
  {
   "cell_type": "code",
   "execution_count": 28,
   "id": "c11bfe22",
   "metadata": {},
   "outputs": [
    {
     "name": "stderr",
     "output_type": "stream",
     "text": [
      "C:\\Users\\Dielof\\anaconda3\\envs\\homl3\\lib\\site-packages\\sklearn\\cluster\\_kmeans.py:1334: UserWarning: KMeans is known to have a memory leak on Windows with MKL, when there are less chunks than available threads. You can avoid it by setting the environment variable OMP_NUM_THREADS=6.\n",
      "  warnings.warn(\n"
     ]
    },
    {
     "name": "stdout",
     "output_type": "stream",
     "text": [
      "              precision    recall  f1-score   support\n",
      "\n",
      "           0       0.00      0.00      0.00       180\n",
      "           1       0.50      0.24      0.32       902\n",
      "           2       0.50      0.81      0.62       208\n",
      "\n",
      "    accuracy                           0.30      1290\n",
      "   macro avg       0.33      0.35      0.31      1290\n",
      "weighted avg       0.43      0.30      0.33      1290\n",
      "\n"
     ]
    }
   ],
   "source": [
    "# 2.1.2 Clustering\n",
    "\n",
    "from matplotlib.colors import rgb_to_hsv\n",
    "from sklearn.utils import shuffle\n",
    "from sklearn.cluster import KMeans\n",
    "from sklearn.metrics import classification_report\n",
    "\n",
    "shuffled_obs, shuffled_actions, shuffled_time_ids = shuffle(observations, actions, time_ids, random_state=0)\n",
    "\n",
    "def feat_extract_clust(observations):\n",
    "    obs_f = []\n",
    "    for obs in observations:\n",
    "        # Convert RGB to HSV, extract only H value and flatten image to feature vector\n",
    "        obs_f.append(rgb_to_hsv(obs)[:,:,0].flatten())\n",
    "    \n",
    "    # Run KMeans on the modified set\n",
    "    kmeans = KMeans(n_clusters=3, random_state=2)\n",
    "    y_pred_km = kmeans.fit_predict(obs_f)\n",
    "    return y_pred_km\n",
    "\n",
    "y_pred_km = feat_extract_clust(shuffled_obs)\n",
    "\n",
    "print(classification_report(shuffled_time_ids, y_pred_km))"
   ]
  },
  {
   "cell_type": "markdown",
   "id": "189e33c7",
   "metadata": {},
   "source": [
    "# 2.1.3 Method for comparing features\n",
    "\n",
    "We made the feature transformation from RGB to HSV and did clustering based on the hue of the image. When comparing features, we can compare the hue of two samples. \n",
    "\n",
    "Where colours in RGB  is defined in a 'colour cube' (meaning R, G and B are all linear), HSV is defined in a colour hexdome. Here the hue is defined in a circular colour space, and the saturation and value are linear. Meaning that when we want to compare two different hues, we should take the angular distance between them. A small angular distance between two features mean they have similar hue and a large angular distance means that the hue is different."
   ]
  },
  {
   "cell_type": "markdown",
   "id": "ecf2a235",
   "metadata": {},
   "source": [
    "# 2.1.4 Can you recover time_ids by clustering?\n",
    "\n",
    "Observing the classification report, the accuracy of the KMeans clustering is fairly high at 0.92 but is not perfect. With more fine-tuning this accuracy can be improved however likely not to an accuracy of 1.0. Therefore the time_ids can not be recovered by clustering."
   ]
  },
  {
   "cell_type": "markdown",
   "id": "144d5957",
   "metadata": {},
   "source": [
    "## 2.2. Features for action classification (9 points)\n",
    "\n",
    "Now we turn to feature extraction for the main classification task, which you can reuse also in the later sections of this notebook.\n",
    "\n",
    "1. Explain: Will you use the same extractor as in step 1; Why (not)? <span style=\"float: right;\">(2 pt)</span>\n",
    "2. Propose a feature extraction method `feat_extract` which you will use in the subsequent sections to classify *action*, rather<br> than time_ids. <span style=\"float: right;\">(1 pt)</span>\n",
    "3. Explain: Are there any important hyperparameters in your feature extractor? <span style=\"float: right;\">(2 pt)</span>\n",
    "4. Explain: How will you decide on the values for these hyperparameters? What is the trade-off if this hyperparameter is either (too)<br> low or (too) high? <span style=\"float: right;\">(2.5 pt)</span>\n",
    "5. Explain: What is the dimensionality of your feature space? <span style=\"float: right;\">(0.5 pt)</span>\n",
    "6. Apply your `feat_extract` to all observations to create the data that you will use in the subsequent sections. <span style=\"float: right;\">(1 pt)</span>"
   ]
  },
  {
   "cell_type": "code",
   "execution_count": 29,
   "id": "f5e08ad5",
   "metadata": {},
   "outputs": [],
   "source": [
    "# Add code and markdown cells\n",
    "\n"
   ]
  },
  {
   "cell_type": "markdown",
   "id": "bd09b60f",
   "metadata": {},
   "source": [
    "### 2.2.1 Explain: Will you use the same extractor as in step 1; Why (not)?\n",
    "\n",
    "No, we will not use the same feature transformation. Because the previous extractor was purely to determine the time_id. To determine the correct action the robot must take different features are of importance. Therefore a different feature extraction method must be used."
   ]
  },
  {
   "cell_type": "markdown",
   "id": "9c077643",
   "metadata": {},
   "source": [
    "### 2.2.2 Propose a feature extraction method feat_extract which you will use in the subsequent sections to classify action, rather than time_ids.\n",
    "\n",
    "Because the cube is red and quite distinct from its environment regarding colour, a viable feature extraction method would be colour image segmentation in the HSV colour space. From there you could recognise the cube and create a mask from it. By training a classifier with these masks, the classifier will learn to walk towards the red cube.\n",
    "\n",
    "Additionally we could also provide the classifier with a grayscale image. This to prevent walking into the wall or off the sidewalk. A grayscale image would be better suited than the original image, as removing color would reduce it's dimension (which boosts training performance) and will also weaken the impact of the different time of days, as the impact of color difference will be reduced."
   ]
  },
  {
   "cell_type": "code",
   "execution_count": 112,
   "id": "d771ed6f",
   "metadata": {},
   "outputs": [
    {
     "data": {
      "image/png": "[encoded data removed]",
      "text/plain": [
       "<Figure size 1500x500 with 4 Axes>"
      ]
     },
     "metadata": {},
     "output_type": "display_data"
    }
   ],
   "source": [
    "idx = 100\n",
    "\n",
    "obs_hsv = rgb_to_hsv(observations[idx])\n",
    "fig, ax = plt.subplots(1, 4, figsize=(15,5))\n",
    "ax[0].imshow(obs_hsv[:,:,0], cmap='gray')\n",
    "ax[0].set_title('H-value')\n",
    "ax[1].imshow(obs_hsv[:,:,1], cmap='gray')\n",
    "ax[1].set_title('S-value')\n",
    "ax[2].imshow(obs_hsv[:,:,2], cmap='gray')\n",
    "ax[2].set_title('V-value')\n",
    "ax[3].imshow(np.dot(observations[idx][...,:3], [0.299, 0.587, 0.114]), cmap='gray')\n",
    "ax[3].set_title('Grayscale')\n",
    "plt.show()\n"
   ]
  },
  {
   "cell_type": "markdown",
   "id": "af47d0f3",
   "metadata": {},
   "source": [
    "### 2.2.3 Explain: Are there any important hyperparameters in your feature extractor?\n",
    "\n",
    "For colour image segmentation in HSV color space we first want to convert the image into HSV color space like was done previously. To implement the segmenting we need to define some thresholds for hue and saturation. These thresholds determine which parts of the image we want to include in the mask and are thus hyperparameters.\n",
    "\n",
    "By experimenting with the threshold values in the code cell below we can determine these hyperparameters.\n",
    "\n",
    "For the grayscale conversion the hyperparameters might be less obvious, but we can also tweak the formula for converting RGB to grayscale. As the standard grayscale conversion parameters work sufficiently for now, we'll continue with those."
   ]
  },
  {
   "cell_type": "markdown",
   "id": "23fb93dc",
   "metadata": {},
   "source": [
    "### 2.2.4 Explain: How will you decide on the values for these hyperparameters? What is the trade-off if this hyperparameter is either (too) low or (too) high?\n",
    "\n",
    "As our red cube is represented by a low hue and a high saturation, as can be seen in the images above, we will want to start with a mask that separates everything under a low H-threshold and everything above a high S-threshold and work our way until a red cube becomes visible.\n",
    "\n",
    "Depending on how broad you define the threshold you will accept more or less colours in the feature extraction. A larger threshold will also allow orange hues for example. A smaller threshold on the other hand will only accept 'pure' red colours. \n",
    "\n",
    "This can become an issue with the cones, as the cones are orange, which comes close to our red. It can be seen in the images above both the cones and the cube have similar values for H and S."
   ]
  },
  {
   "cell_type": "markdown",
   "id": "9a2c1960",
   "metadata": {},
   "source": [
    "### 2.2.5 Explain: what is the dimensionality of your feature space\n",
    "\n",
    "As we will generate a mask and a grayscale image as our features (both images with one value per pixel), where both images can be flattened to feature vectors (1-dim), our feature space will be 2-dim as 2x 1-dim vectors make a 2-dim feature space.\n"
   ]
  },
  {
   "cell_type": "markdown",
   "id": "12582a0b",
   "metadata": {},
   "source": [
    "### 2.2.6 Apply your feat_extract to all observations to create the data that you will use in the subsequent sections."
   ]
  },
  {
   "cell_type": "code",
   "execution_count": 125,
   "id": "5c8cc780",
   "metadata": {},
   "outputs": [
    {
     "data": {
      "application/vnd.jupyter.widget-view+json": {
       "model_id": "6cae150e0e9347beb8dfaa581c3b5de1",
       "version_major": 2,
       "version_minor": 0
      },
      "text/plain": [
       "interactive(children=(IntSlider(value=260, description='idx', max=521), Output()), _dom_classes=('widget-inter…"
      ]
     },
     "execution_count": 125,
     "metadata": {},
     "output_type": "execute_result"
    }
   ],
   "source": [
    "# Color segmentation\n",
    "#\n",
    "# As you can see, using the HSV color space produces some promising results for segmenting the red cube.\n",
    "# Only once time_id 2 is reached this falls apart, as the gray color of the sidewalk gets detected.\n",
    "# As we only focus on time_id 1 for now, we keep this issue to solve another time\n",
    "\n",
    "threshold_h = 0.02\n",
    "threshold_s = 0.34\n",
    "\n",
    "def calculate_com(mask):\n",
    "    if not np.any(mask):\n",
    "        # return none if mask is empty\n",
    "        return None    \n",
    "    \n",
    "    mass_x, mass_y = np.where(mask)\n",
    "    # Use median instead of average to be more noise robust\n",
    "    cent_x, cent_y = np.median(mass_x), np.median(mass_y)\n",
    "    return int(cent_x), int(cent_y)\n",
    "\n",
    "def cube_mask(obs, threshold_h, threshold_s):\n",
    "    # Convert observation to HSV and generate a mask where H < threshold_h\n",
    "    obs_hsv = rgb_to_hsv(obs)\n",
    "    h_mask = obs_hsv[:,:,0] < threshold_h\n",
    "    s_mask = obs_hsv[:,:,1] > threshold_s\n",
    "    mask = h_mask*s_mask\n",
    "    return mask\n",
    "    \n",
    "    \n",
    "def plot_sample(idx, observations, threshold_h):\n",
    "    obs = observations[idx]\n",
    "    mask = cube_mask(obs, threshold_h, threshold_s)\n",
    "\n",
    "    # Generate figures showing original, H-value and mask\n",
    "    plt.clf()\n",
    "    fig, ax = plt.subplots(1, 4, figsize=(15,5))\n",
    "    ax[0].imshow(obs)\n",
    "    ax[0].set_title(f'Observation in HSV: {idx}')\n",
    "    ax[1].imshow(rgb_to_hsv(obs)[:,:,0], cmap='gray')\n",
    "    ax[1].set_title('H-value')\n",
    "    ax[2].imshow(rgb_to_hsv(obs)[:,:,1], cmap='gray')\n",
    "    ax[2].set_title('S-value')\n",
    "    ax[3].imshow(mask)\n",
    "    ax[3].set_title(f'Mask with threshold {threshold_h}')\n",
    "    \n",
    "    \n",
    "    # To use basic logic to steer we can calculate the Center of Mass, but not needed when training a classifier.\n",
    "    # We now know how to detect the red cube. \n",
    "    # To steer towards it we need to calculate the center of the mask\n",
    "    # If the red cube is not in frame, do not calculate a CoM.\n",
    "    if np.any(mask):\n",
    "        com = calculate_com(mask)\n",
    "        ax[3].plot(com[1], com[0], 'r+', markersize=15)\n",
    "    plt.show()\n",
    "    \n",
    "\n",
    "ipywidgets.interactive(lambda idx: plot_sample(idx, observations, threshold_h),\n",
    "                       idx=(0,observations.shape[0]-1))"
   ]
  },
  {
   "cell_type": "code",
   "execution_count": 129,
   "id": "9f49b2a2",
   "metadata": {},
   "outputs": [
    {
     "data": {
      "image/png": "[encoded data removed]",
      "text/plain": [
       "<Figure size 1500x500 with 2 Axes>"
      ]
     },
     "metadata": {},
     "output_type": "display_data"
    }
   ],
   "source": [
    "threshold_h = 0.02\n",
    "idx=10\n",
    "\n",
    "def feat_extract(obs):\n",
    "    # Extract all necessary features for classifier training\n",
    "    # Currently we use \n",
    "    #   1. Mask generated from HSV \n",
    "    #   2. Grayscale image\n",
    "    features = []\n",
    "    mask = cube_mask(obs, threshold_h, threshold_s)\n",
    "    features.append(mask.flatten())\n",
    "    grayscale = np.dot(obs[...,:3], [0.299, 0.587, 0.114]) \n",
    "    features.append(grayscale.flatten())\n",
    "    return np.array(features)\n",
    "\n",
    "features = feat_extract(observations[idx])\n",
    "\n",
    "fig, ax = plt.subplots(1, 2, figsize=(15,5))\n",
    "ax[0].imshow(np.reshape(features[0],(60,80)), cmap='gray')\n",
    "ax[0].set_title('Mask')\n",
    "ax[1].imshow(np.reshape(features[1],(60,80)), cmap='gray')\n",
    "ax[1].set_title('Grayscale image')\n",
    "plt.show()\n"
   ]
  },
  {
   "cell_type": "code",
   "execution_count": 130,
   "id": "62a8d756",
   "metadata": {},
   "outputs": [
    {
     "name": "stdout",
     "output_type": "stream",
     "text": [
      "(522, 2, 4800)\n"
     ]
    }
   ],
   "source": [
    "# Extract all features from each observation and put them together in extracted_obs\n",
    "\n",
    "def feat_extract_all(observations):\n",
    "    # extracted_obs index:\n",
    "    # extracted_obs = list[obs_np_array_i[hsv_mask_np_array[], gray_np_array[]]]\n",
    "    extracted_obs = []\n",
    "    for obs in observations:\n",
    "        features = feat_extract(obs)\n",
    "        extracted_obs.append(features)\n",
    "    return np.array(extracted_obs)\n",
    "\n",
    "print(feat_extract_all(observations).shape)"
   ]
  },
  {
   "cell_type": "markdown",
   "id": "33d131ef",
   "metadata": {},
   "source": [
    "----\n",
    "\n",
    "# 3. Single Time of Day Action Classification  (35 points)\n",
    "To get started, we will train and test a model that is only suitable for operating at a single time of day, i.e., at Time 1\n",
    "\n",
    "As a first step split the data into a training, validation, and test set. You can use the originally provided data, or collect your own.\n",
    "\n",
    "<div class=\"alert alert-block alert-warning\">\n",
    "Remember to provide thorough insights, analysis and reasoning behind your design choices and what you see as a consequence of these choices. Try to synthesize rather than describing what you did step by step.\n",
    "</div>\n",
    "\n",
    "\n",
    "## 3.1. Shortlist Promising Models (25 points)\n",
    "1. Compare at least 2 models. One of them needs to be a neural network, one of them needs to be not a neural network.<span style=\"float: right;\">(3 pt)</span>\n",
    "2. For each of the models that you are going to compare, explain what are its relative advantages/disadvantages in terms of training<br> time, test time, and number of model parameters compared to the other choices. Also explain how these considerations relate to<br> the target application, and motivate which type of model would be preferred based on these considerations only (so disregarding<br> the actual quality of the models). <span style=\"float: right;\">(10 pt)</span>\n",
    "3. If needed, perform dimensionality reduction before training your selection models. Explain why it is (not) needed.<span style=\"float: right;\">(1.5 pt)</span>\n",
    "4. Roughly tune those models<span style=\"float: right;\">(1 pt)</span>\n",
    "5. Evaluate the models in terms of performance, bias, variance, etc.<span style=\"float: right;\">(5 pt)</span>\n",
    "6. Please use the macro-F1 score (see sklearn documentation) as your main criterion. Looking at confusion matrices, accuracy etc.<br> might also provide valuable insights. Why is the accuracy score potentially problematic in this setting?<span style=\"float: right;\">(1.5 pt)</span>\n",
    "7. Pick one algorithm to develop further. Motivate your choice of algorithm with your results.<span style=\"float: right;\">(3 pt)</span>\n"
   ]
  },
  {
   "cell_type": "code",
   "execution_count": 100,
   "id": "6d15bce5",
   "metadata": {},
   "outputs": [
    {
     "name": "stdout",
     "output_type": "stream",
     "text": [
      "Loading 76 demonstrations\n",
      "Done!\n"
     ]
    }
   ],
   "source": [
    "# Look for all the demonstration pickle files in the demonstrations/ directory.\n",
    "#  The originally provided demo files are called: demo-[time_id]-[datetime].pickle\n",
    "#  Any demo files you record yourself are called: demostud-[time_id]-[datetime].pickle\n",
    "\n",
    "# CHANGE THIS IF NEEDED: select the pickle file pattern to match ...\n",
    "\n",
    "DEMO_FILEPATTERN = 'demo-*-*.pickle'      # only use ORIGINALLY provided demo files\n",
    "#DEMO_FILEPATTERN = 'demostud-*-*.pickle'  # only use YOUR own collected demo files\n",
    "#DEMO_FILEPATTERN = 'demo*-*.pickle'        # use ALL available demo files\n",
    "\n",
    "# find the relevant filenames\n",
    "filenames = glob.glob(f'demonstrations/{DEMO_FILEPATTERN}')\n",
    "filenames.sort() # ensure the order is well-defined\n",
    "print(f'Loading {len(filenames)} demonstrations')\n",
    "\n",
    "# in a loop, load the found pickle files\n",
    "demonstrations = []\n",
    "for filename in filenames:\n",
    "    with open(filename, 'rb') as fd:\n",
    "        demonstration = pickle.load(fd)\n",
    "        \n",
    "        actions = demonstration['actions']\n",
    "        #print(f'Loaded {actions.shape[0]} samples from {filename} ...')\n",
    "        \n",
    "        demonstrations.append(demonstration)\n",
    "print(\"Done!\")"
   ]
  },
  {
   "cell_type": "code",
   "execution_count": 104,
   "id": "80842851",
   "metadata": {},
   "outputs": [],
   "source": [
    "# we can combine all the observations, actions, and time ids\n",
    "\n",
    "observations = np.concatenate([d['observations'] for d in demonstrations])\n",
    "actions = np.concatenate([d['actions'] for d in demonstrations])\n",
    "time_ids = np.concatenate([d['time'] for d in demonstrations])\n",
    "\n",
    "# pre-processing: subsample and only keep every n-th sample for efficiency\n",
    "# this can speed up training\n",
    "ss = 1\n",
    "observations = observations[::ss]\n",
    "actions = actions[::ss]\n",
    "time_ids = time_ids[::ss]"
   ]
  },
  {
   "cell_type": "code",
   "execution_count": null,
   "id": "ad63f86c",
   "metadata": {},
   "outputs": [],
   "source": [
    "import tensorflow as tf\n",
    "from tensorflow import keras\n",
    "\n",
    "features = feat_extract_all(observations)\n",
    "shuffled_x\n",
    "\n",
    "model = tf.keras.models.Sequential([\n",
    "    tf.keras.layers.Flatten(input_shape=([2])),\n",
    "    tf.keras.layers.Dense(32, activation='relu'),\n",
    "    tf.keras.layers.Dense(32, activation='relu'),\n",
    "    tf.keras.layers.Dense(32, activation='relu'),\n",
    "    tf.keras.layers.Dense(32, activation='relu'),\n",
    "    tf.keras.layers.Dense(2)\n",
    "])\n",
    "\n",
    "\n"
   ]
  },
  {
   "cell_type": "code",
   "execution_count": 131,
   "id": "271299a5",
   "metadata": {},
   "outputs": [],
   "source": [
    "# Merge two lists of equal size to list of tuples. I want to tuple the mask and the corresponding graysale image\n",
    "\n",
    "def merge(list1, list2):\n",
    " \n",
    "    merged_list = [(list1[i], list2[i]) for i in range(0, len(list1))]\n",
    "     \n",
    "    return merged_list"
   ]
  },
  {
   "cell_type": "code",
   "execution_count": 136,
   "id": "9be6f580",
   "metadata": {},
   "outputs": [],
   "source": [
    "from sklearn.model_selection import train_test_split\n",
    "\n",
    "X_mask = np.array([cube_mask(observation, threshold_h, threshold_s) for observation in shuffled_obs])\n",
    "X_mask_flatten = np.array([mask.flatten() for mask in X_mask])\n",
    "\n",
    "\n",
    "y = shuffled_actions\n",
    "\n",
    "X_train_mask, X_test_mask, y_train, y_test = train_test_split(X_mask_flatten, y, test_size = 0.25, random_state = 0)"
   ]
  },
  {
   "cell_type": "code",
   "execution_count": 137,
   "id": "86244027",
   "metadata": {},
   "outputs": [
    {
     "name": "stdout",
     "output_type": "stream",
     "text": [
      "              precision    recall  f1-score   support\n",
      "\n",
      "           0       0.68      0.62      0.65        61\n",
      "           1       0.54      0.12      0.20        56\n",
      "           2       0.79      0.97      0.87       206\n",
      "\n",
      "    accuracy                           0.76       323\n",
      "   macro avg       0.67      0.57      0.57       323\n",
      "weighted avg       0.72      0.76      0.71       323\n",
      "\n"
     ]
    }
   ],
   "source": [
    "from sklearn.ensemble import RandomForestClassifier\n",
    "from sklearn.metrics import accuracy_score\n",
    "\n",
    "rnd_clf = RandomForestClassifier(n_estimators = 500, max_leaf_nodes=16, n_jobs=-1)\n",
    "\n",
    "rnd_clf.fit(X_train_mask, y_train)\n",
    "\n",
    "y_pred_rf = rnd_clf.predict(X_test_mask)\n",
    "\n",
    "print(classification_report(y_test, y_pred_rf))"
   ]
  },
  {
   "cell_type": "code",
   "execution_count": 138,
   "id": "bf61f530",
   "metadata": {},
   "outputs": [],
   "source": [
    "# Steering mechanism\n",
    "def policy_mask(observation):    \n",
    "    \"\"\"\n",
    "    Calculate the location of the center of mass of the cube. \n",
    "    - If it's X-location is inside the middle of the observation; walk forward. \n",
    "    - If the CoM is to the left of the screen: turn right\n",
    "    - If the CoM is to the right of the screen: turn left\n",
    "    - Else: turn right\n",
    "    \n",
    "    Considering cube_com has shape (2, )\n",
    "    \"\"\"\n",
    "    mask = np.transpose(generate_mask(observation, threshold_h).flatten())\n",
    "    mask = mask.reshape(1, -1)\n",
    "    \n",
    "    action_list = rnd_clf.predict(mask)\n",
    "    action = action_list[0]\n",
    "    \n",
    "    # YOUR CODE\n",
    "    #   convert observation to feature vector\n",
    "    #   predict action class given the feature vector using some ML technique\n",
    "    \n",
    "    return action"
   ]
  },
  {
   "cell_type": "code",
   "execution_count": 139,
   "id": "9cb6c9c5",
   "metadata": {},
   "outputs": [],
   "source": [
    "time_id = 2 # <-- CHANGE THIS to select the time; can be 0, 1, 2\n",
    "\n",
    "if show_policy:\n",
    "    # running the simulation with the dummy policy\n",
    "    rs = run_simulation(policy_mask, envs[time_id], max_steps=100)"
   ]
  },
  {
   "cell_type": "code",
   "execution_count": 140,
   "id": "8fd996f4",
   "metadata": {},
   "outputs": [],
   "source": [
    "if show_policy:\n",
    "    plt.figure(figsize=(10,4)) # create a wide figure (size 10) which is not so tall (size 4)\n",
    "    plt.subplot(1,2,1) # create subplot of 1 row, 2 columns, enable plotting in first cell\n",
    "    plt.plot(rs)\n",
    "    plt.xlabel('steps')\n",
    "    plt.ylabel('reward')\n",
    "    plt.title('Reward per step')\n",
    "    plt.grid()\n",
    "\n",
    "    plt.subplot(1,2,2) # create subplot of 1 row, 2 columns, enable plotting in first cell\n",
    "    plt.plot(np.cumsum(rs)) # Cumulative sum of rewards\n",
    "    plt.xlabel('steps')\n",
    "    plt.ylabel('total reward')\n",
    "    plt.title('Cumulative reward')\n",
    "    plt.grid()\n",
    "\n",
    "    print('Average reward:', np.mean(rs))"
   ]
  },
  {
   "cell_type": "code",
   "execution_count": 141,
   "id": "b86fa968",
   "metadata": {},
   "outputs": [
    {
     "name": "stdout",
     "output_type": "stream",
     "text": [
      "Run 1 / 10\n",
      "Success: True\n",
      "Run 2 / 10\n",
      "Success: True\n",
      "Run 3 / 10\n"
     ]
    },
    {
     "name": "stderr",
     "output_type": "stream",
     "text": [
      "\n",
      "KeyboardInterrupt\n",
      "\n"
     ]
    }
   ],
   "source": [
    "no_completed, avg_reward = test_policy(policy_mask, envs_norender[time_id])"
   ]
  },
  {
   "cell_type": "markdown",
   "id": "44f3acad",
   "metadata": {},
   "source": [
    "## 3.2. Fine-Tune the System (10 points)\n",
    "1. What are the most important hyperparameters of your chosen algorithm?<span style=\"float: right;\">(2 pt)</span>\n",
    "2. Perform hyperparameter optimization (including pre-processing steps)<span style=\"float: right;\">(2 pt)</span>\n",
    "3. Compare at least 3 models with different sets of hyperparameters <span style=\"float: right;\">(1 pt)</span>\n",
    "4. Evaluate the final model (similar to \"Shortlist Promising Models\" above)<span style=\"float: right;\">(5 pt)</span>"
   ]
  },
  {
   "cell_type": "code",
   "execution_count": null,
   "id": "8e86175d",
   "metadata": {},
   "outputs": [],
   "source": [
    "# Add code and markdown cells"
   ]
  },
  {
   "cell_type": "markdown",
   "id": "0dcdc06e",
   "metadata": {},
   "source": [
    "---\n",
    "\n",
    "# 4. Enabling Generalization (20 points)\n",
    "Now we are going to train and test a single model that is suitable for operating at all times of the day, i.e., a model that can generalize between times of day and even to unseen times of day, and that is robust to different lighting conditions. The idea is to take the final model you developed above as a starting point and to develop it further for generalization.\n",
    "\n",
    "The simulator provides you access to Time 3. However, this is to be treated as the test set, i.e., you are only allowed to test your model on it as the very final step. I.e., do not tweak your model after running that environment, you would be overfitting to the test data. Performance on the Time 3 environment will NOT influence your grade.\n",
    "\n",
    "\n",
    "1. How can the 3 provided datasets be used to train a model that can generalize, and even more importantly how can they be used to<br> evaluate whether a model can generalize? (Hint: Lecture 2)<span style=\"float: right;\">(2 pt)</span>\n",
    "2. Above you designed features for action classification. Evaluate whether those features are suitable for generalization. If necessary<br> adapt the feature extraction. <span style=\"float: right;\">(2 pt)</span>\n",
    "3. Compare how well models trained just on the data from Time 1 and models trained on data from multiple times of day generalize to<br> unseen times of day (using the approach from the first bullet, do *not* use Time 3 for this comparison). Make sure that this is a fair<br> comparison, e.g., in terms of the amount and quality of the data.<span style=\"float: right;\">(3 pt)</span>\n",
    "4. Discuss at least 2 methods that can be employed to make your model perform better and be robust to the variations we have in this<br> scenario (methods for any step are fine: data collection, data augmentation, pre-processing, model structure, training, etc.)<span style=\"float: right;\">(3 pt)</span>\n",
    "5. Implement at least one of those methods.<span style=\"float: right;\">(1 pt)</span>\n",
    "6. Evaluate the final model (similar to \"Shortlist Promising Models\" above) for generalization making use only of data from Time 0,<br> Time 1, and Time 2.<span style=\"float: right;\">(5 pt)</span>\n",
    "7. Test the final model on the Time 3 environment and discuss its performance.<span style=\"float: right;\">(3 pt)</span>\n",
    "8. Save the parameters of your best multi scenario model to your hard drive (use pickle for sklearn or built-in save/load for keras), you<br> will need to be able to reload your model without training in the next step. Be sure to include the saved parameters in your zip file so<br> we can evaluate your best model too, even without rerunning the notebook up to here.<span style=\"float: right;\">(1 pt)</span>\n",
    "\n",
    "<div class=\"alert alert-block alert-warning\">\n",
    "Remember to provide thorough insights, analysis and reasoning behind your design choices and what you see as a consequence of these choices. Try to synthesize rather than describing what you did step by step.\n",
    "</div>"
   ]
  },
  {
   "cell_type": "code",
   "execution_count": null,
   "id": "fee30157",
   "metadata": {},
   "outputs": [],
   "source": [
    "# Add code and markdown cells"
   ]
  },
  {
   "cell_type": "markdown",
   "id": "b52b5093",
   "metadata": {},
   "source": [
    "---\n",
    "\n",
    "# 5. Present Your Solution (5 points)\n",
    "1. Summarize your main decisions and insights <span style=\"float: right;\">(2.5 pt)</span>\n",
    "2. Create a stand-alone demo. I.e., a block of cells that can be run on its own. For that you will need to load your pre-trained best<br> model you saved in the previous section and run it on Time 3.<span style=\"float: right;\">(2.5 pt)</span>\n"
   ]
  },
  {
   "cell_type": "code",
   "execution_count": null,
   "id": "6c6c1a43",
   "metadata": {},
   "outputs": [],
   "source": [
    "# Add code and markdown cells"
   ]
  }
 ],
 "metadata": {
  "kernelspec": {
   "display_name": "Python 3 (ipykernel)",
   "language": "python",
   "name": "python3"
  },
  "language_info": {
   "codemirror_mode": {
    "name": "ipython",
    "version": 3
   },
   "file_extension": ".py",
   "mimetype": "text/x-python",
   "name": "python",
   "nbconvert_exporter": "python",
   "pygments_lexer": "ipython3",
   "version": "3.10.12"
  }
 },
 "nbformat": 4,
 "nbformat_minor": 5
}
