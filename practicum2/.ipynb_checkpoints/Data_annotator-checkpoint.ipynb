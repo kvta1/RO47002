{
 "cells": [
  {
   "cell_type": "markdown",
   "metadata": {},
   "source": [
    "# RO47002 Machine Learning for Robotics\n",
    "* (c) TU Delft, 2023\n",
    "* Period: 2023-2024, Q1\n",
    "* Course homepage: https://brightspace.tudelft.nl/d2l/home/597271"
   ]
  },
  {
   "cell_type": "markdown",
   "metadata": {},
   "source": [
    "Make sure you fill in any place that says `YOUR CODE HERE` or `YOUR ANSWER HERE`. Moreover, if you see an empty cell, please DO NOT delete it, instead run that cell as you would run all other cells. Please fill in your name(s) and other required details below:"
   ]
  },
  {
   "cell_type": "code",
   "execution_count": 1,
   "metadata": {},
   "outputs": [],
   "source": [
    "GROUP_NUMBER = \"74\"\n",
    "STUDENT_NAME1 = \"Kevin Tran\"\n",
    "STUDENT_NUMBER1 = \"4904672\"\n",
    "STUDENT_NAME2 = \"Dielof van Loon\"\n",
    "STUDENT_NUMBER2 = \"5346894\""
   ]
  },
  {
   "cell_type": "code",
   "execution_count": 2,
   "metadata": {
    "deletable": false,
    "editable": false,
    "nbgrader": {
     "cell_type": "code",
     "checksum": "e3f76d6a626db81c484191482b101edb",
     "grade": true,
     "grade_id": "cell-c35e4c8223095209",
     "locked": true,
     "points": 0,
     "schema_version": 3,
     "solution": false,
     "task": false
    }
   },
   "outputs": [],
   "source": [
    "# Note: this block is a check that you have filled in the above information.\n",
    "# It will throw an AssertionError until all fields are filled\n",
    "assert(GROUP_NUMBER != \"\")\n",
    "assert(STUDENT_NAME1 != \"\")\n",
    "assert(STUDENT_NUMBER1 != \"\")\n",
    "assert(STUDENT_NAME2 != \"\")\n",
    "assert(STUDENT_NUMBER2 != \"\")"
   ]
  },
  {
   "cell_type": "markdown",
   "metadata": {},
   "source": [
    "### General announcements\n",
    "\n",
    "* Do *not* share your solutions, and do *not* copy solutions from others. By submitting your solutions, you claim that you and your lab partner alone are responsible for this code.\n",
    "\n",
    "* Do *not* email questions directly, since we want to provide everybody with the same information and avoid repeating the same answers. Instead, please post your questions regarding this assignment in the correct support forum on Brightspace, this way everybody can benefit from the response. If you do have a particular question that you want to ask directly, please use the scheduled practicum hours to ask a TA.\n",
    "\n",
    "* There is a strict deadline for each assignment. Students are responsible to ensure that they have uploaded their work in time. So, please double check that your upload succeeded to the Brightspace and avoid any late penalties.\n",
    "\n",
    "* This [Jupyter notebook](https://jupyter.org/) uses `nbgrader` to help us with automated tests. `nbgrader` will make various cells in this notebook \"uneditable\" or \"unremovable\" and gives them a special id in the cell metadata. This way, when we run our checks, the system will check the existence of the cell ids and verify the number of points and which checks must be run. While there are ways that you can edit the metadata and work around the restrictions to delete or modify these special cells, you should not do that since then our nbgrader backend will not be able to parse your notebook and give you points for the assignment. You are free to add additional cells, but if you find a cell that you cannot modify or remove, please know that this is on purpose.\n",
    "\n",
    "* This notebook will have in various places a line that throws a `NotImplementedError` exception. These are locations where the assignment requires you to adapt the code! These lines are just there as a reminder for youthat you have not yet adapted that particular piece of code, especially when you execute all the cells. Once your solution code replaced these lines, it should accordingly *not* throw any exceptions anymore.\n",
    "\n",
    "Before you turn this problem in, make sure everything runs as expected. First, **restart the kernel** (in the menubar, select Kernel$\\rightarrow$Restart) and then **run all cells** (in the menubar, select Cell$\\rightarrow$Run All)."
   ]
  },
  {
   "cell_type": "markdown",
   "metadata": {},
   "source": [
    "---"
   ]
  },
  {
   "cell_type": "markdown",
   "metadata": {},
   "source": [
    "# RO4702 - Practicum week 2 - Annotator\n",
    "\n",
    "* Topic: Data collection\n",
    "* Year: 2020-2021\n",
    "* Book chapters: 2, 3"
   ]
  },
  {
   "cell_type": "code",
   "execution_count": 3,
   "metadata": {},
   "outputs": [],
   "source": [
    "# Python ≥3.5 is required\n",
    "import sys\n",
    "assert sys.version_info >= (3, 5)\n",
    "\n",
    "# Scikit-Learn ≥0.20 is required\n",
    "import sklearn\n",
    "assert sklearn.__version__ >= \"0.20\"\n",
    "\n",
    "# Common imports\n",
    "import numpy as np\n",
    "import glob, os\n",
    "import pickle\n",
    "import skimage\n",
    "import skimage.transform\n",
    "\n",
    "# to make this notebook's output stable across runs\n",
    "np.random.seed(42)\n",
    "\n",
    "# To plot pretty figures\n",
    "import matplotlib as mpl\n",
    "import matplotlib.pyplot as plt\n",
    "mpl.rc('axes', labelsize=14)\n",
    "mpl.rc('xtick', labelsize=12)\n",
    "mpl.rc('ytick', labelsize=12)"
   ]
  },
  {
   "cell_type": "code",
   "execution_count": 4,
   "metadata": {},
   "outputs": [],
   "source": [
    "import ipywidgets as widgets\n",
    "from ipywidgets import interact, interactive, IntSlider\n",
    "from IPython.display import display\n",
    "\n",
    "import matplotlib.patches as patches"
   ]
  },
  {
   "cell_type": "markdown",
   "metadata": {},
   "source": [
    "Replace the path below with the path to your image folder"
   ]
  },
  {
   "cell_type": "code",
   "execution_count": 10,
   "metadata": {},
   "outputs": [],
   "source": [
    "IMAGE_DIR = 'C:/Users/kevin/Documents/Robotica/RO47002_ML/Practica/RO47002/practicum2/images/lab_partner1'"
   ]
  },
  {
   "cell_type": "markdown",
   "metadata": {},
   "source": [
    "## Get the Data"
   ]
  },
  {
   "cell_type": "markdown",
   "metadata": {},
   "source": [
    "Read an image, and visualize it"
   ]
  },
  {
   "cell_type": "markdown",
   "metadata": {},
   "source": [
    "## Load all images"
   ]
  },
  {
   "cell_type": "code",
   "execution_count": 11,
   "metadata": {},
   "outputs": [
    {
     "name": "stdout",
     "output_type": "stream",
     "text": [
      "found 30 images in target directory\n"
     ]
    }
   ],
   "source": [
    "filenames = glob.glob(os.path.join(IMAGE_DIR, '*.jpg'))\n",
    "filenames = sorted(filenames)\n",
    "N = len(filenames)\n",
    "print(f'found {N} images in target directory')"
   ]
  },
  {
   "cell_type": "code",
   "execution_count": 12,
   "metadata": {},
   "outputs": [],
   "source": [
    "MAX_SIZE = 1024\n",
    "\n",
    "def load_and_resize_image(filename, overwrite=False):\n",
    "    print(f'loading \"{filename}\" ...')\n",
    "    I = plt.imread(filename)\n",
    "    \n",
    "    # is the width or height too large?\n",
    "    oversize_ratio = max(I.shape[0] / MAX_SIZE, I.shape[1] / MAX_SIZE)\n",
    "    if oversize_ratio > 1.0:\n",
    "        print('resizing image ...')\n",
    "        I = skimage.transform.rescale(I, (1./oversize_ratio, 1/oversize_ratio, 1), anti_aliasing=True)\n",
    "        \n",
    "        # overwrite the old image file after resizing\n",
    "        if overwrite:\n",
    "            print(f'overwriting \"{filename}\" ...')\n",
    "            plt.imsave(filename, I)\n",
    "            \n",
    "    return I"
   ]
  },
  {
   "cell_type": "code",
   "execution_count": 13,
   "metadata": {},
   "outputs": [
    {
     "name": "stdout",
     "output_type": "stream",
     "text": [
      "loading \"C:/Users/kevin/Documents/Robotica/RO47002_ML/Practica/RO47002/practicum2/images/lab_partner1\\IMG20230915162801.jpg\" ...\n",
      "resizing image ...\n",
      "overwriting \"C:/Users/kevin/Documents/Robotica/RO47002_ML/Practica/RO47002/practicum2/images/lab_partner1\\IMG20230915162801.jpg\" ...\n",
      "loading \"C:/Users/kevin/Documents/Robotica/RO47002_ML/Practica/RO47002/practicum2/images/lab_partner1\\IMG20230915162805.jpg\" ...\n",
      "resizing image ...\n",
      "overwriting \"C:/Users/kevin/Documents/Robotica/RO47002_ML/Practica/RO47002/practicum2/images/lab_partner1\\IMG20230915162805.jpg\" ...\n",
      "loading \"C:/Users/kevin/Documents/Robotica/RO47002_ML/Practica/RO47002/practicum2/images/lab_partner1\\IMG20230915162808.jpg\" ...\n",
      "resizing image ...\n",
      "overwriting \"C:/Users/kevin/Documents/Robotica/RO47002_ML/Practica/RO47002/practicum2/images/lab_partner1\\IMG20230915162808.jpg\" ...\n",
      "loading \"C:/Users/kevin/Documents/Robotica/RO47002_ML/Practica/RO47002/practicum2/images/lab_partner1\\IMG20230915162811.jpg\" ...\n",
      "resizing image ...\n",
      "overwriting \"C:/Users/kevin/Documents/Robotica/RO47002_ML/Practica/RO47002/practicum2/images/lab_partner1\\IMG20230915162811.jpg\" ...\n",
      "loading \"C:/Users/kevin/Documents/Robotica/RO47002_ML/Practica/RO47002/practicum2/images/lab_partner1\\IMG20230915162814.jpg\" ...\n",
      "resizing image ...\n",
      "overwriting \"C:/Users/kevin/Documents/Robotica/RO47002_ML/Practica/RO47002/practicum2/images/lab_partner1\\IMG20230915162814.jpg\" ...\n",
      "loading \"C:/Users/kevin/Documents/Robotica/RO47002_ML/Practica/RO47002/practicum2/images/lab_partner1\\IMG20230915162818.jpg\" ...\n",
      "resizing image ...\n",
      "overwriting \"C:/Users/kevin/Documents/Robotica/RO47002_ML/Practica/RO47002/practicum2/images/lab_partner1\\IMG20230915162818.jpg\" ...\n",
      "loading \"C:/Users/kevin/Documents/Robotica/RO47002_ML/Practica/RO47002/practicum2/images/lab_partner1\\IMG20230915162820.jpg\" ...\n",
      "resizing image ...\n",
      "overwriting \"C:/Users/kevin/Documents/Robotica/RO47002_ML/Practica/RO47002/practicum2/images/lab_partner1\\IMG20230915162820.jpg\" ...\n",
      "loading \"C:/Users/kevin/Documents/Robotica/RO47002_ML/Practica/RO47002/practicum2/images/lab_partner1\\IMG20230915162823.jpg\" ...\n",
      "resizing image ...\n",
      "overwriting \"C:/Users/kevin/Documents/Robotica/RO47002_ML/Practica/RO47002/practicum2/images/lab_partner1\\IMG20230915162823.jpg\" ...\n",
      "loading \"C:/Users/kevin/Documents/Robotica/RO47002_ML/Practica/RO47002/practicum2/images/lab_partner1\\IMG20230915162825.jpg\" ...\n",
      "resizing image ...\n",
      "overwriting \"C:/Users/kevin/Documents/Robotica/RO47002_ML/Practica/RO47002/practicum2/images/lab_partner1\\IMG20230915162825.jpg\" ...\n",
      "loading \"C:/Users/kevin/Documents/Robotica/RO47002_ML/Practica/RO47002/practicum2/images/lab_partner1\\IMG20230915162829.jpg\" ...\n",
      "resizing image ...\n",
      "overwriting \"C:/Users/kevin/Documents/Robotica/RO47002_ML/Practica/RO47002/practicum2/images/lab_partner1\\IMG20230915162829.jpg\" ...\n",
      "loading \"C:/Users/kevin/Documents/Robotica/RO47002_ML/Practica/RO47002/practicum2/images/lab_partner1\\IMG20230915162832.jpg\" ...\n",
      "resizing image ...\n",
      "overwriting \"C:/Users/kevin/Documents/Robotica/RO47002_ML/Practica/RO47002/practicum2/images/lab_partner1\\IMG20230915162832.jpg\" ...\n",
      "loading \"C:/Users/kevin/Documents/Robotica/RO47002_ML/Practica/RO47002/practicum2/images/lab_partner1\\IMG20230915162833.jpg\" ...\n",
      "resizing image ...\n",
      "overwriting \"C:/Users/kevin/Documents/Robotica/RO47002_ML/Practica/RO47002/practicum2/images/lab_partner1\\IMG20230915162833.jpg\" ...\n",
      "loading \"C:/Users/kevin/Documents/Robotica/RO47002_ML/Practica/RO47002/practicum2/images/lab_partner1\\IMG20230915162836.jpg\" ...\n",
      "resizing image ...\n",
      "overwriting \"C:/Users/kevin/Documents/Robotica/RO47002_ML/Practica/RO47002/practicum2/images/lab_partner1\\IMG20230915162836.jpg\" ...\n",
      "loading \"C:/Users/kevin/Documents/Robotica/RO47002_ML/Practica/RO47002/practicum2/images/lab_partner1\\IMG20230915162838.jpg\" ...\n",
      "resizing image ...\n",
      "overwriting \"C:/Users/kevin/Documents/Robotica/RO47002_ML/Practica/RO47002/practicum2/images/lab_partner1\\IMG20230915162838.jpg\" ...\n",
      "loading \"C:/Users/kevin/Documents/Robotica/RO47002_ML/Practica/RO47002/practicum2/images/lab_partner1\\IMG20230915162840.jpg\" ...\n",
      "resizing image ...\n",
      "overwriting \"C:/Users/kevin/Documents/Robotica/RO47002_ML/Practica/RO47002/practicum2/images/lab_partner1\\IMG20230915162840.jpg\" ...\n",
      "loading \"C:/Users/kevin/Documents/Robotica/RO47002_ML/Practica/RO47002/practicum2/images/lab_partner1\\IMG20230915162842.jpg\" ...\n",
      "resizing image ...\n",
      "overwriting \"C:/Users/kevin/Documents/Robotica/RO47002_ML/Practica/RO47002/practicum2/images/lab_partner1\\IMG20230915162842.jpg\" ...\n",
      "loading \"C:/Users/kevin/Documents/Robotica/RO47002_ML/Practica/RO47002/practicum2/images/lab_partner1\\IMG20230915162845.jpg\" ...\n",
      "resizing image ...\n",
      "overwriting \"C:/Users/kevin/Documents/Robotica/RO47002_ML/Practica/RO47002/practicum2/images/lab_partner1\\IMG20230915162845.jpg\" ...\n",
      "loading \"C:/Users/kevin/Documents/Robotica/RO47002_ML/Practica/RO47002/practicum2/images/lab_partner1\\IMG20230915162847.jpg\" ...\n",
      "resizing image ...\n",
      "overwriting \"C:/Users/kevin/Documents/Robotica/RO47002_ML/Practica/RO47002/practicum2/images/lab_partner1\\IMG20230915162847.jpg\" ...\n",
      "loading \"C:/Users/kevin/Documents/Robotica/RO47002_ML/Practica/RO47002/practicum2/images/lab_partner1\\IMG20230915162851.jpg\" ...\n",
      "resizing image ...\n",
      "overwriting \"C:/Users/kevin/Documents/Robotica/RO47002_ML/Practica/RO47002/practicum2/images/lab_partner1\\IMG20230915162851.jpg\" ...\n",
      "loading \"C:/Users/kevin/Documents/Robotica/RO47002_ML/Practica/RO47002/practicum2/images/lab_partner1\\IMG20230915162854.jpg\" ...\n",
      "resizing image ...\n",
      "overwriting \"C:/Users/kevin/Documents/Robotica/RO47002_ML/Practica/RO47002/practicum2/images/lab_partner1\\IMG20230915162854.jpg\" ...\n",
      "loading \"C:/Users/kevin/Documents/Robotica/RO47002_ML/Practica/RO47002/practicum2/images/lab_partner1\\IMG20230915162856.jpg\" ...\n",
      "resizing image ...\n",
      "overwriting \"C:/Users/kevin/Documents/Robotica/RO47002_ML/Practica/RO47002/practicum2/images/lab_partner1\\IMG20230915162856.jpg\" ...\n",
      "loading \"C:/Users/kevin/Documents/Robotica/RO47002_ML/Practica/RO47002/practicum2/images/lab_partner1\\IMG20230915162858.jpg\" ...\n",
      "resizing image ...\n",
      "overwriting \"C:/Users/kevin/Documents/Robotica/RO47002_ML/Practica/RO47002/practicum2/images/lab_partner1\\IMG20230915162858.jpg\" ...\n",
      "loading \"C:/Users/kevin/Documents/Robotica/RO47002_ML/Practica/RO47002/practicum2/images/lab_partner1\\IMG20230915162900.jpg\" ...\n",
      "resizing image ...\n",
      "overwriting \"C:/Users/kevin/Documents/Robotica/RO47002_ML/Practica/RO47002/practicum2/images/lab_partner1\\IMG20230915162900.jpg\" ...\n",
      "loading \"C:/Users/kevin/Documents/Robotica/RO47002_ML/Practica/RO47002/practicum2/images/lab_partner1\\IMG20230915162902.jpg\" ...\n",
      "resizing image ...\n",
      "overwriting \"C:/Users/kevin/Documents/Robotica/RO47002_ML/Practica/RO47002/practicum2/images/lab_partner1\\IMG20230915162902.jpg\" ...\n",
      "loading \"C:/Users/kevin/Documents/Robotica/RO47002_ML/Practica/RO47002/practicum2/images/lab_partner1\\IMG20230915162905.jpg\" ...\n",
      "resizing image ...\n",
      "overwriting \"C:/Users/kevin/Documents/Robotica/RO47002_ML/Practica/RO47002/practicum2/images/lab_partner1\\IMG20230915162905.jpg\" ...\n",
      "loading \"C:/Users/kevin/Documents/Robotica/RO47002_ML/Practica/RO47002/practicum2/images/lab_partner1\\IMG20230915162908.jpg\" ...\n",
      "resizing image ...\n",
      "overwriting \"C:/Users/kevin/Documents/Robotica/RO47002_ML/Practica/RO47002/practicum2/images/lab_partner1\\IMG20230915162908.jpg\" ...\n",
      "loading \"C:/Users/kevin/Documents/Robotica/RO47002_ML/Practica/RO47002/practicum2/images/lab_partner1\\IMG20230915162910.jpg\" ...\n",
      "resizing image ...\n",
      "overwriting \"C:/Users/kevin/Documents/Robotica/RO47002_ML/Practica/RO47002/practicum2/images/lab_partner1\\IMG20230915162910.jpg\" ...\n",
      "loading \"C:/Users/kevin/Documents/Robotica/RO47002_ML/Practica/RO47002/practicum2/images/lab_partner1\\IMG20230915162912.jpg\" ...\n",
      "resizing image ...\n",
      "overwriting \"C:/Users/kevin/Documents/Robotica/RO47002_ML/Practica/RO47002/practicum2/images/lab_partner1\\IMG20230915162912.jpg\" ...\n",
      "loading \"C:/Users/kevin/Documents/Robotica/RO47002_ML/Practica/RO47002/practicum2/images/lab_partner1\\IMG20230915162914.jpg\" ...\n",
      "resizing image ...\n",
      "overwriting \"C:/Users/kevin/Documents/Robotica/RO47002_ML/Practica/RO47002/practicum2/images/lab_partner1\\IMG20230915162914.jpg\" ...\n",
      "loading \"C:/Users/kevin/Documents/Robotica/RO47002_ML/Practica/RO47002/practicum2/images/lab_partner1\\IMG20230915162916.jpg\" ...\n"
     ]
    },
    {
     "name": "stdout",
     "output_type": "stream",
     "text": [
      "resizing image ...\n",
      "overwriting \"C:/Users/kevin/Documents/Robotica/RO47002_ML/Practica/RO47002/practicum2/images/lab_partner1\\IMG20230915162916.jpg\" ...\n",
      "loaded 30 images\n"
     ]
    }
   ],
   "source": [
    "overwrite = True\n",
    "\n",
    "Is = [load_and_resize_image(filename, overwrite) for filename in filenames]\n",
    "print('loaded %d images' % len(Is))"
   ]
  },
  {
   "cell_type": "code",
   "execution_count": 14,
   "metadata": {},
   "outputs": [
    {
     "name": "stdout",
     "output_type": "stream",
     "text": [
      "Looking for annotations file \"C:/Users/kevin/Documents/Robotica/RO47002_ML/Practica/RO47002/practicum2/images/lab_partner1\\annots.npy\": NOT found\n",
      "Initializing empty annotations array\n"
     ]
    }
   ],
   "source": [
    "import pickle\n",
    "\n",
    "annot_filename = os.path.join(IMAGE_DIR, 'annots.npy')\n",
    "annot_exists = os.path.isfile(annot_filename)\n",
    "\n",
    "print(f'Looking for annotations file \"{annot_filename}\":', 'found' if annot_exists else 'NOT found')\n",
    "\n",
    "# load annotations\n",
    "if annot_exists:\n",
    "    print('Loading annotations')\n",
    "    annots = pickle.load(open(annot_filename, 'rb'))\n",
    "else:\n",
    "    print('Initializing empty annotations array')\n",
    "    annots = np.zeros((N,4)) # x1, y1, x2, y2"
   ]
  },
  {
   "cell_type": "markdown",
   "metadata": {},
   "source": [
    "### Annotate"
   ]
  },
  {
   "cell_type": "markdown",
   "metadata": {},
   "source": [
    "We will use here `%matplotlib notebook` to enable interactive widgets in this notebook. Interactive widgets can take up a lot of memory howeever, so in other notebooks we might prefer to use `%matplotlib inline` to just save plotted results as images without interaction."
   ]
  },
  {
   "cell_type": "code",
   "execution_count": 15,
   "metadata": {},
   "outputs": [],
   "source": [
    "%matplotlib notebook"
   ]
  },
  {
   "cell_type": "code",
   "execution_count": 16,
   "metadata": {},
   "outputs": [],
   "source": [
    "def annotate_image(idx):\n",
    "    # load image\n",
    "    I = Is[idx]\n",
    "\n",
    "    # create plot\n",
    "    fig = plt.figure()\n",
    "    ax = fig.add_subplot(111)\n",
    "    ax.imshow(I)\n",
    "    plt_points_tip = ax.plot(annots[idx,0], annots[idx,1], 'gx', label='tip (left click)')[0]\n",
    "    plt_points_end = ax.plot(annots[idx,2], annots[idx,3], 'rx', label='end (right click)')[0]\n",
    "    fig.legend()\n",
    "\n",
    "    def onclick(event):\n",
    "        cx, cy = event.xdata, event.ydata # don't use x,y\n",
    "        button = event.button # 1 for left, 2 for right\n",
    "\n",
    "        if button == 1:\n",
    "            plt_points_tip.set_xdata([cx])\n",
    "            plt_points_tip.set_ydata([cy])\n",
    "            annots[idx,0] = cx\n",
    "            annots[idx,1] = cy\n",
    "        else:\n",
    "            plt_points_end.set_xdata([cx])\n",
    "            plt_points_end.set_ydata([cy])\n",
    "            annots[idx,2] = cx\n",
    "            annots[idx,3] = cy\n",
    "\n",
    "    fig.canvas.mpl_connect('button_press_event', onclick)\n",
    "\n",
    "def on_save_button_clicked(b):\n",
    "    print(f'Saving annotations \"{annot_filename}\"')\n",
    "    pickle.dump(annots, open(annot_filename, 'wb'))\n",
    "\n",
    "save_button = widgets.Button(description=\"Save changes!\")\n",
    "save_button.on_click(on_save_button_clicked)"
   ]
  },
  {
   "cell_type": "code",
   "execution_count": 17,
   "metadata": {},
   "outputs": [
    {
     "data": {
      "application/vnd.jupyter.widget-view+json": {
       "model_id": "913eac5f63394f8d9bcf53ffdf4c072d",
       "version_major": 2,
       "version_minor": 0
      },
      "text/plain": [
       "interactive(children=(IntSlider(value=0, continuous_update=False, description='idx', max=29), Output()), _dom_…"
      ]
     },
     "metadata": {},
     "output_type": "display_data"
    },
    {
     "data": {
      "text/plain": [
       "<function __main__.annotate_image(idx)>"
      ]
     },
     "execution_count": 17,
     "metadata": {},
     "output_type": "execute_result"
    }
   ],
   "source": [
    "interact(annotate_image, idx=IntSlider(min=0, max=len(Is)-1, continuous_update=False))"
   ]
  },
  {
   "cell_type": "markdown",
   "metadata": {},
   "source": [
    "### Save your annotations\n",
    "Run the cell below should give us a buttom \"save changes\". Click that buttom and save the annotations into 'annots.npy'"
   ]
  },
  {
   "cell_type": "code",
   "execution_count": 18,
   "metadata": {},
   "outputs": [
    {
     "data": {
      "application/vnd.jupyter.widget-view+json": {
       "model_id": "4adbcdc2f76140cfbf87f4d358235d76",
       "version_major": 2,
       "version_minor": 0
      },
      "text/plain": [
       "Button(description='Save changes!', style=ButtonStyle())"
      ]
     },
     "metadata": {},
     "output_type": "display_data"
    }
   ],
   "source": [
    "display(save_button)"
   ]
  },
  {
   "cell_type": "code",
   "execution_count": null,
   "metadata": {},
   "outputs": [],
   "source": []
  }
 ],
 "metadata": {
  "kernelspec": {
   "display_name": "Python 3 (ipykernel)",
   "language": "python",
   "name": "python3"
  },
  "language_info": {
   "codemirror_mode": {
    "name": "ipython",
    "version": 3
   },
   "file_extension": ".py",
   "mimetype": "text/x-python",
   "name": "python",
   "nbconvert_exporter": "python",
   "pygments_lexer": "ipython3",
   "version": "3.10.12"
  }
 },
 "nbformat": 4,
 "nbformat_minor": 4
}
