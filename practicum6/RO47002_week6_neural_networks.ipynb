{
 "cells": [
  {
   "cell_type": "markdown",
   "metadata": {},
   "source": [
    "# RO47002 Machine Learning for Robotics\n",
    "* (c) TU Delft, 2023\n",
    "* Period: 2023-2024, Q1\n",
    "* Course homepage: https://brightspace.tudelft.nl/d2l/home/597271"
   ]
  },
  {
   "cell_type": "markdown",
   "metadata": {},
   "source": [
    "Make sure you fill in any place that says `YOUR CODE HERE` or `YOUR ANSWER HERE`. Moreover, if you see an empty cell, please DO NOT delete it, instead run that cell as you would run all other cells. Please fill in your name(s) and other required details below:"
   ]
  },
  {
   "cell_type": "code",
   "execution_count": null,
   "metadata": {},
   "outputs": [],
   "source": [
    "GROUP_NUMBER = \"\"\n",
    "STUDENT_NAME1 = \"\"\n",
    "STUDENT_NUMBER1 = \"\"\n",
    "STUDENT_NAME2 = \"\"\n",
    "STUDENT_NUMBER2 = \"\""
   ]
  },
  {
   "cell_type": "code",
   "execution_count": null,
   "metadata": {
    "deletable": false,
    "editable": false,
    "nbgrader": {
     "cell_type": "code",
     "checksum": "e3f76d6a626db81c484191482b101edb",
     "grade": true,
     "grade_id": "cell-c35e4c8223095209",
     "locked": true,
     "points": 0,
     "schema_version": 3,
     "solution": false,
     "task": false
    }
   },
   "outputs": [],
   "source": [
    "# Note: this block is a check that you have filled in the above information.\n",
    "# It will throw an AssertionError until all fields are filled\n",
    "assert(GROUP_NUMBER != \"\")\n",
    "assert(STUDENT_NAME1 != \"\")\n",
    "assert(STUDENT_NUMBER1 != \"\")\n",
    "assert(STUDENT_NAME2 != \"\")\n",
    "assert(STUDENT_NUMBER2 != \"\")"
   ]
  },
  {
   "cell_type": "markdown",
   "metadata": {},
   "source": [
    "### General announcements\n",
    "\n",
    "* Do *not* share your solutions, and do *not* copy solutions from others. By submitting your solutions, you claim that you and your lab partner alone are responsible for this code.\n",
    "\n",
    "* Do *not* email questions directly, since we want to provide everybody with the same information and avoid repeating the same answers. Instead, please post your questions regarding this assignment in the correct support forum on Brightspace, this way everybody can benefit from the response. If you do have a particular question that you want to ask directly, please use the scheduled practicum hours to ask a TA.\n",
    "\n",
    "* There is a strict deadline for each assignment. Students are responsible to ensure that they have uploaded their work in time. So, please double check that your upload succeeded to the Brightspace and avoid any late penalties.\n",
    "\n",
    "* This [Jupyter notebook](https://jupyter.org/) uses `nbgrader` to help us with automated tests. `nbgrader` will make various cells in this notebook \"uneditable\" or \"unremovable\" and gives them a special id in the cell metadata. This way, when we run our checks, the system will check the existence of the cell ids and verify the number of points and which checks must be run. While there are ways that you can edit the metadata and work around the restrictions to delete or modify these special cells, you should not do that since then our nbgrader backend will not be able to parse your notebook and give you points for the assignment. You are free to add additional cells, but if you find a cell that you cannot modify or remove, please know that this is on purpose.\n",
    "\n",
    "* This notebook will have in various places a line that throws a `NotImplementedError` exception. These are locations where the assignment requires you to adapt the code! These lines are just there as a reminder for youthat you have not yet adapted that particular piece of code, especially when you execute all the cells. Once your solution code replaced these lines, it should accordingly *not* throw any exceptions anymore.\n",
    "\n",
    "Before you turn this problem in, make sure everything runs as expected. First, **restart the kernel** (in the menubar, select Kernel$\\rightarrow$Restart) and then **run all cells** (in the menubar, select Cell$\\rightarrow$Run All)."
   ]
  },
  {
   "cell_type": "markdown",
   "metadata": {},
   "source": [
    "---"
   ]
  },
  {
   "cell_type": "markdown",
   "metadata": {
    "deletable": false,
    "editable": false,
    "nbgrader": {
     "cell_type": "markdown",
     "checksum": "aabb5ab64fdd96d456f39712ce7ccd94",
     "grade": false,
     "grade_id": "cell-9716e4cf8e32c75f",
     "locked": true,
     "schema_version": 3,
     "solution": false,
     "task": false
    }
   },
   "source": [
    "# Practicum 6\n",
    "\n",
    "* Topic: Neural networks, back propagation\n",
    "* Before performing this practicum, work through **Book chapter(s): 10, 11**\n",
    "* **Deadline**: Tuesday, 17 October, 2023 12:00\n",
    "\n",
    "## Objectives\n",
    "\n",
    "* Single layer perceptron\n",
    "* Neural network design\n",
    "* Forward-backward propagation\n",
    "* Keras library\n",
    "* Forward kinematics with NN"
   ]
  },
  {
   "cell_type": "markdown",
   "metadata": {},
   "source": [
    "<div class=\"alert alert-info\">\n",
    "    <h1>🎥 <a href=\"https://brightspace.tudelft.nl/d2l/le/content/597271/viewContent/3314488/View\">Lecture 6A - Neural Network - Introduction</a></h1>\n",
    "    It is recommended to to watch this video if you haven't watched it yet. This would motivate you to appreciate the application of Neural Networks.\n",
    "</div>"
   ]
  },
  {
   "cell_type": "markdown",
   "metadata": {
    "deletable": false,
    "editable": false,
    "nbgrader": {
     "cell_type": "markdown",
     "checksum": "2c5fa647778e407e7719f315c549f7d3",
     "grade": false,
     "grade_id": "cell-c93b86b072d0051f",
     "locked": true,
     "schema_version": 3,
     "solution": false,
     "task": false
    }
   },
   "source": [
    "# I : Classification with a Neural Network\n",
    "\n",
    "In this section, you will implement your first neural network, in this case a single layer perceptron. The general methodology to build a neural network is to (a) Define the neural network structure e.g., number of input units, number of hidden units/layers, and number of output units (some times known as logits). (b) Initialize model's parameter, (c) Loop over forward propagation, cost computation, backward propagations for gradients estimation and update network parameters. In the following sections, we will go through all these stages step by step."
   ]
  },
  {
   "cell_type": "markdown",
   "metadata": {
    "deletable": false,
    "editable": false,
    "nbgrader": {
     "cell_type": "markdown",
     "checksum": "37889e0c517ea369309ae5504b1f2e21",
     "grade": false,
     "grade_id": "cell-d22b434c1ca6b86c",
     "locked": true,
     "schema_version": 3,
     "solution": false,
     "task": false
    }
   },
   "source": [
    "![Single Layer Perceptron](extra/network.png)"
   ]
  },
  {
   "cell_type": "markdown",
   "metadata": {
    "deletable": false,
    "editable": false,
    "nbgrader": {
     "cell_type": "markdown",
     "checksum": "0da36346b4d6fb17ab75400340ace3e2",
     "grade": false,
     "grade_id": "cell-1fb8e148aab49c38",
     "locked": true,
     "schema_version": 3,
     "solution": false,
     "task": false
    }
   },
   "source": [
    "### Import required packages\n",
    "\n",
    "Here we import some of the required packages for this notebook.\n",
    "Please note that we need to install keras>=2.9.0 in the homl3 environment for this notebook."
   ]
  },
  {
   "cell_type": "code",
   "execution_count": null,
   "metadata": {
    "deletable": false,
    "editable": false,
    "nbgrader": {
     "cell_type": "code",
     "checksum": "4085ba41900fb9f3e5d980baf2bbc8b1",
     "grade": false,
     "grade_id": "cell-ddef6b37ee3bcea3",
     "locked": true,
     "schema_version": 3,
     "solution": false,
     "task": false
    }
   },
   "outputs": [],
   "source": [
    "!pip install keras==2.10.0"
   ]
  },
  {
   "cell_type": "code",
   "execution_count": null,
   "metadata": {
    "deletable": false,
    "editable": false,
    "nbgrader": {
     "cell_type": "code",
     "checksum": "9e7422061319f815b0c5f5857c83e79b",
     "grade": false,
     "grade_id": "cell-b8d49eb9587ff8e6",
     "locked": true,
     "schema_version": 3,
     "solution": false,
     "task": false
    }
   },
   "outputs": [],
   "source": [
    "# Package imports \n",
    "import numpy as np \n",
    "import matplotlib.pyplot as plt \n",
    "%matplotlib inline\n",
    "\n",
    "import sklearn\n",
    "import sklearn.datasets\n",
    "import sklearn.linear_model\n",
    "from utils import *\n",
    "\n",
    "# set a seed for consistent results\n",
    "np.random.seed(766)"
   ]
  },
  {
   "cell_type": "markdown",
   "metadata": {
    "deletable": false,
    "editable": false,
    "nbgrader": {
     "cell_type": "markdown",
     "checksum": "c5de9d2cf7b98d20a2cf293d4757bae0",
     "grade": false,
     "grade_id": "cell-d7410d50cab7fd1f",
     "locked": true,
     "schema_version": 3,
     "solution": false,
     "task": false
    }
   },
   "source": [
    "## 1: Classifying Flower Petals\n",
    "### 1.1 : Load Dataset\n",
    "Here we will load a \"flower\" 2-class dataset into variables X and Y. Call the function ```create_flower_dataset()``` in the cell below and store the return output into **X** and **Y** variables."
   ]
  },
  {
   "cell_type": "code",
   "execution_count": null,
   "metadata": {
    "deletable": false,
    "nbgrader": {
     "cell_type": "code",
     "checksum": "2da4a082ea75a3eb00faf5223a14c191",
     "grade": false,
     "grade_id": "cell-aef72458de84fc2d",
     "locked": false,
     "schema_version": 3,
     "solution": true,
     "task": false
    }
   },
   "outputs": [],
   "source": [
    "# YOUR CODE HERE\n",
    "raise NotImplementedError()"
   ]
  },
  {
   "cell_type": "code",
   "execution_count": null,
   "metadata": {
    "deletable": false,
    "editable": false,
    "nbgrader": {
     "cell_type": "code",
     "checksum": "167aed39c424a90be5ed3531f17ce6a2",
     "grade": true,
     "grade_id": "cell-f865b972c93f4554",
     "locked": true,
     "points": 0.5,
     "schema_version": 3,
     "solution": false,
     "task": false
    }
   },
   "outputs": [],
   "source": [
    "assert(X is not None and Y is not None)\n",
    "assert(isinstance(X, (np.ndarray, np.generic)) and isinstance(Y, (np.ndarray, np.generic)))\n",
    "assert(X.shape==((2, 400)))\n",
    "assert(Y.shape==((1, 400)))"
   ]
  },
  {
   "cell_type": "markdown",
   "metadata": {
    "deletable": false,
    "editable": false,
    "nbgrader": {
     "cell_type": "markdown",
     "checksum": "5bc9d88d058f06735bed4112b4465699",
     "grade": false,
     "grade_id": "cell-efb86368c1b48bf2",
     "locked": true,
     "schema_version": 3,
     "solution": false,
     "task": false
    }
   },
   "source": [
    "Let's first see the shape inputs (X) and output (Y). We can also visualize the dataset to see distinct classes."
   ]
  },
  {
   "cell_type": "code",
   "execution_count": null,
   "metadata": {
    "deletable": false,
    "editable": false,
    "nbgrader": {
     "cell_type": "code",
     "checksum": "b48167a5d2b4ac7b599a15fa634e9132",
     "grade": false,
     "grade_id": "cell-7e9d14721553960e",
     "locked": true,
     "schema_version": 3,
     "solution": false,
     "task": false
    }
   },
   "outputs": [],
   "source": [
    "print(f'Your input matrix shape is: {X.shape} i.e., with two features x1 and x2, while shape of output vector is: {Y.shape}.')\n",
    "print(f'The number of samples in the dataset is: {X.shape[1]}')\n",
    "# Visualize the data: \n",
    "plt.scatter(X[0, :], X[1, :], c = Y[0, :], s = 80, edgecolors='black', cmap = plt.cm.Spectral); "
   ]
  },
  {
   "cell_type": "markdown",
   "metadata": {
    "deletable": false,
    "editable": false,
    "nbgrader": {
     "cell_type": "markdown",
     "checksum": "7b6581c4358facc2086831a9936b3f45",
     "grade": false,
     "grade_id": "cell-69b8dd3e146293ae",
     "locked": true,
     "schema_version": 3,
     "solution": false,
     "task": false
    }
   },
   "source": [
    "If your data is loaded correctly, then you should see a plot like this:\n",
    "![flower dataset plot](extra/flower_dataset.png)"
   ]
  },
  {
   "cell_type": "markdown",
   "metadata": {},
   "source": [
    "<div class=\"alert alert-info\">\n",
    "    <h1>🎥 <a href=\"https://brightspace.tudelft.nl/d2l/le/content/597271/viewContent/3314492/View\">Lecture 6B - Neural Network - Non-Linearities</a></h1>\n",
    "    The following requires the knowledge covered in this lecture. If you haven't watched the video yet, it's now high time to do so...\n",
    "</div>"
   ]
  },
  {
   "cell_type": "markdown",
   "metadata": {
    "deletable": false,
    "editable": false,
    "nbgrader": {
     "cell_type": "markdown",
     "checksum": "ea1fabfcd37215257f48e30475f91cfe",
     "grade": false,
     "grade_id": "cell-46106f07809e19e8",
     "locked": true,
     "schema_version": 3,
     "solution": false,
     "task": false
    }
   },
   "source": [
    "### 1.2 : Neural Network Model Design\n",
    "The data is clearly not linearly separable. This can be confirmed if you try to fit this data on a linear logistic regression model you learned in the previous practica. So we are now going to create a single layer neural network as already shown in the figure above to see if we can fit the non-linear decision boundary from this dataset.\n",
    "\n",
    "We define our neural network with three variables: <br>\n",
    "    **NX:** Size of input layer <br>\n",
    "    **NH:** Number of units in the hidden layer (for now simply return the variable as it is) <br>\n",
    "    **NY:** Number of logits."
   ]
  },
  {
   "cell_type": "code",
   "execution_count": null,
   "metadata": {
    "deletable": false,
    "nbgrader": {
     "cell_type": "code",
     "checksum": "d529462eb0044593a49962da048758ae",
     "grade": false,
     "grade_id": "cell-c49085bd790b6710",
     "locked": false,
     "schema_version": 3,
     "solution": true,
     "task": false
    }
   },
   "outputs": [],
   "source": [
    "def layer_sizes(X, Y, NH):\n",
    "    # YOUR CODE HERE\n",
    "    raise NotImplementedError()\n",
    "    return NX, NH, NY"
   ]
  },
  {
   "cell_type": "code",
   "execution_count": null,
   "metadata": {
    "deletable": false,
    "editable": false,
    "nbgrader": {
     "cell_type": "code",
     "checksum": "8f4cf4daf741082c2fa0290f9352d8d8",
     "grade": true,
     "grade_id": "cell-007eeba1f19cfc4a",
     "locked": true,
     "points": 1,
     "schema_version": 3,
     "solution": false,
     "task": false
    }
   },
   "outputs": [],
   "source": [
    "X_dummy, temp, Y_dummy = dummy_dataset_1()\n",
    "NX, NH, NY = layer_sizes(X_dummy, Y_dummy, temp)\n",
    "assert(NX==3)\n",
    "assert(NH==8)\n",
    "assert(NY==2)\n",
    "\n",
    "NX, NH, NY = layer_sizes(X, Y, 5)"
   ]
  },
  {
   "cell_type": "markdown",
   "metadata": {
    "deletable": false,
    "editable": false,
    "nbgrader": {
     "cell_type": "markdown",
     "checksum": "ae075e733b1790e06b6830adff386f96",
     "grade": false,
     "grade_id": "cell-e38996487c2f2542",
     "locked": true,
     "schema_version": 3,
     "solution": false,
     "task": false
    }
   },
   "source": [
    "Now we write a function to initialize weights and bias vectors with random values. Your function will take model parameters defined above as arguments, while it will return a dictionary of parameters containing the following: <br>\n",
    "    **WM1**: weight matrix of shape (NH, NX) <br>\n",
    "    **BV1**: bias vector of shape (NH, 1)<br>\n",
    "    **WM2**: weight matrix of shape (NY, NH)<br>\n",
    "    **BV2**: bias vector of shape (NY, 1)<br>\n",
    "    \n",
    "You can use ```np.random.rand(a,b) * 0.01``` to randomly initialze a matrix of shape (a,b). Bias vectors will be initialized with zeros. <br>\n",
    "\n",
    "Hint: ```np.zeros((a,b))```"
   ]
  },
  {
   "cell_type": "code",
   "execution_count": null,
   "metadata": {
    "deletable": false,
    "nbgrader": {
     "cell_type": "code",
     "checksum": "08ed877fd66688a1d23c0f3953d19d9e",
     "grade": false,
     "grade_id": "cell-c5003ca109406f4d",
     "locked": false,
     "schema_version": 3,
     "solution": true,
     "task": false
    }
   },
   "outputs": [],
   "source": [
    "def initialize_parameters(NX, NH, NY):\n",
    "    \n",
    "    np.random.seed(2)\n",
    "    \n",
    "    # YOUR CODE HERE\n",
    "    raise NotImplementedError()\n",
    "    \n",
    "    params = {    \"WM1\": WM1,\n",
    "                  \"BV1\": BV1,\n",
    "                  \"WM2\": WM2,\n",
    "                  \"BV2\": BV2}\n",
    "    \n",
    "    return params"
   ]
  },
  {
   "cell_type": "code",
   "execution_count": null,
   "metadata": {
    "deletable": false,
    "editable": false,
    "nbgrader": {
     "cell_type": "code",
     "checksum": "0d1796db0b73430cfc1fa7068f54fc5a",
     "grade": true,
     "grade_id": "cell-91078662a92f0ac3",
     "locked": true,
     "points": 2,
     "schema_version": 3,
     "solution": false,
     "task": false
    }
   },
   "outputs": [],
   "source": [
    "X_dummy, temp, Y_dummy = dummy_dataset_2()\n",
    "NX, NH, NY = layer_sizes(X_dummy, Y_dummy, temp)\n",
    "parameters = initialize_parameters(NX, NH, NY)\n",
    "\n",
    "assert (parameters[\"WM1\"].shape == (NH, NX))\n",
    "assert (parameters[\"BV1\"].shape == (NH, 1))"
   ]
  },
  {
   "cell_type": "markdown",
   "metadata": {
    "deletable": false,
    "editable": false,
    "nbgrader": {
     "cell_type": "markdown",
     "checksum": "b54f00bd0aeffc52fb77766b6d27ec5a",
     "grade": false,
     "grade_id": "cell-afa869c80f7c754b",
     "locked": true,
     "schema_version": 3,
     "solution": false,
     "task": false
    }
   },
   "source": [
    "### 1.3 : Forward Propagation\n",
    "\n",
    "Now we will implement a forward pass for this network. The equations for the forward pass are given below:\n",
    "$$ $$\n",
    "<font size=\"5\">\n",
    "$$ z^{[l]} = w^{[l]} \\cdot a^{[l-1]}+b^{[l]} $$\n",
    "\n",
    "$$ a^{[l]} = g^{[l]}(z^{[l]}) $$</font>"
   ]
  },
  {
   "cell_type": "markdown",
   "metadata": {
    "deletable": false,
    "editable": false,
    "nbgrader": {
     "cell_type": "markdown",
     "checksum": "9ed046182686e12cd09eea03ef2beea9",
     "grade": false,
     "grade_id": "cell-e6031652165a99bf",
     "locked": true,
     "schema_version": 3,
     "solution": false,
     "task": false
    }
   },
   "source": [
    "### Activation Functions\n",
    "Let us first have a look at activation functions (referred to as $g^{[l]}$ in the above equation. Two activation functions namely \"tanh\" and \"sigmoid\" will be used in this example. Sigmoid is given as follows:\n",
    "<font size=\"5\">$$\\frac{1}{1 + e^{-z}}$$</font>\n",
    "\n",
    "While tanh can be computed with the following equation:\n",
    "<font size=\"5\">$$ \\frac{2}{1 + e^{-2z}} - 1 $$</font>\n",
    "\n",
    "\n",
    "Implement sigmoid function in the following cell, while for tanh you can use ```np.tanh()```."
   ]
  },
  {
   "cell_type": "code",
   "execution_count": null,
   "metadata": {
    "deletable": false,
    "nbgrader": {
     "cell_type": "code",
     "checksum": "ba055fa7da2f897c6e14b761ad084abf",
     "grade": false,
     "grade_id": "cell-1d1c0c4240e21508",
     "locked": false,
     "schema_version": 3,
     "solution": true,
     "task": false
    }
   },
   "outputs": [],
   "source": [
    "def sigmoid(x):\n",
    "    # YOUR CODE HERE\n",
    "    raise NotImplementedError()\n",
    "    return sig"
   ]
  },
  {
   "cell_type": "code",
   "execution_count": null,
   "metadata": {
    "deletable": false,
    "editable": false,
    "nbgrader": {
     "cell_type": "code",
     "checksum": "d5e68addef4088b69f03980dd4e9c668",
     "grade": true,
     "grade_id": "cell-0b2b779cb4ddf29a",
     "locked": true,
     "points": 2,
     "schema_version": 3,
     "solution": false,
     "task": false
    }
   },
   "outputs": [],
   "source": [
    "np.random.seed(434)\n",
    "assert(abs((np.mean(sigmoid(0.5)) - 0.6224593312018546)) < 1e-4) "
   ]
  },
  {
   "cell_type": "markdown",
   "metadata": {
    "deletable": false,
    "editable": false,
    "nbgrader": {
     "cell_type": "markdown",
     "checksum": "b7c7a9eb8ad67beb545dba56e8c42613",
     "grade": false,
     "grade_id": "cell-48b5eb45fd61aebb",
     "locked": true,
     "schema_version": 3,
     "solution": false,
     "task": false
    }
   },
   "source": [
    "Now you need to compute $Z^{[1]}$, $A^{[1]}$, $Z^{[2]}$, $A^{[2]}$ for your neural network exploiting the equations presented above. Store the values in variables e.g., **Z1** for $Z^{[1]}$, **A1** for $A^{[1]}$ and so on. These values are being returned in a dictionary called cache.\n",
    "Note: Use 'tanh' activation in the first layer and 'sigmoid' activation in the second layer."
   ]
  },
  {
   "cell_type": "code",
   "execution_count": null,
   "metadata": {
    "deletable": false,
    "nbgrader": {
     "cell_type": "code",
     "checksum": "81b2210049b3e91532fba8613d0f5afe",
     "grade": false,
     "grade_id": "cell-be859a9441a08f85",
     "locked": false,
     "schema_version": 3,
     "solution": true,
     "task": false
    }
   },
   "outputs": [],
   "source": [
    "def forward_prop(X, parameters): \n",
    "  \n",
    "    # Retrieve each parameter from the dictionary \"params\"\n",
    "    W1 = parameters[\"WM1\"]\n",
    "    # YOUR CODE HERE\n",
    "    raise NotImplementedError()\n",
    "    \n",
    "    # Implement the equations to compute the required activation values.\n",
    "    #Z1 = your code here\n",
    "    #A1 = your code here\n",
    "    #Z2 = your code here\n",
    "    #A2 = your code here\n",
    "    # YOUR CODE HERE\n",
    "    raise NotImplementedError()\n",
    "      \n",
    "    # This cache will be used for backpropagation \n",
    "    cache = {\"Z1\": Z1, \n",
    "             \"A1\": A1, \n",
    "             \"Z2\": Z2, \n",
    "             \"A2\": A2}\n",
    "      \n",
    "    return A2, cache "
   ]
  },
  {
   "cell_type": "code",
   "execution_count": null,
   "metadata": {
    "deletable": false,
    "editable": false,
    "nbgrader": {
     "cell_type": "code",
     "checksum": "207e43bcd9e3b808cb8eb18fbffa970a",
     "grade": true,
     "grade_id": "cell-59027fd6d7389771",
     "locked": true,
     "points": 4,
     "schema_version": 3,
     "solution": false,
     "task": false
    }
   },
   "outputs": [],
   "source": [
    "X_assess, params = forward_propagation_test()\n",
    "A2_assess, cache_assess = forward_prop(X_assess, params)\n",
    "\n",
    "assert(abs((np.squeeze(A2_assess)[0] - 0.5002307023021203)) < 1e-4)\n",
    "assert(abs((np.squeeze(A2_assess)[1] - 0.4998583053049564)) < 1e-4)\n",
    "assert(abs((np.squeeze(A2_assess)[2] - 0.5002396329502165)) < 1e-4)"
   ]
  },
  {
   "cell_type": "markdown",
   "metadata": {},
   "source": [
    "<div class=\"alert alert-info\">\n",
    "    <h1>🎥 <a href=\"https://brightspace.tudelft.nl/d2l/le/content/597271/viewContent/3314494/View\">Lecture 6C - Neural Network - Training</a></h1>\n",
    "    The following requires the knowledge covered in this lecture. If you haven't watched the video yet, it's now high time to do so...\n",
    "</div>"
   ]
  },
  {
   "cell_type": "markdown",
   "metadata": {
    "deletable": false,
    "editable": false,
    "nbgrader": {
     "cell_type": "markdown",
     "checksum": "01be298d18f690eebd6b50c317a252b3",
     "grade": false,
     "grade_id": "cell-baa2f4abd1c21dbc",
     "locked": true,
     "schema_version": 3,
     "solution": false,
     "task": false
    }
   },
   "source": [
    "### 1.4 : Cost Function\n",
    "Now you have a vector A2 (or $\\hat{y}$) for predictions on all the examples in the dataset. We can now compute the cost function comparing the predictions with the ground truth labels. Here we will use cross-entropy cost function, which can be written as follows:\n",
    "$$ $$\n",
    "<font size=\"5\">\n",
    "$$ C = - \\frac{1}{m} \\sum_{i=0}^{m} (y\\log\\hat{y} + (1-y)\\log(1-\\hat{y}))$$ </font>\n",
    "\n",
    "m is the total number of samples "
   ]
  },
  {
   "cell_type": "code",
   "execution_count": null,
   "metadata": {
    "deletable": false,
    "nbgrader": {
     "cell_type": "code",
     "checksum": "4ff344d31597979ce0bb5ead272a939d",
     "grade": false,
     "grade_id": "cell-959d77d14c9c8462",
     "locked": false,
     "schema_version": 3,
     "solution": true,
     "task": false
    }
   },
   "outputs": [],
   "source": [
    "def compute_cost(A2, Y): \n",
    "    m = Y.shape[1] \n",
    "    \n",
    "    # YOUR CODE HERE\n",
    "    raise NotImplementedError()\n",
    "    \n",
    "    # Squeezing to avoid unnecessary dimensions \n",
    "    cost = np.squeeze(cost) \n",
    "    return cost"
   ]
  },
  {
   "cell_type": "code",
   "execution_count": null,
   "metadata": {
    "deletable": false,
    "editable": false,
    "nbgrader": {
     "cell_type": "code",
     "checksum": "79119c0e76359d318abf4117cb6cb925",
     "grade": true,
     "grade_id": "cell-5ffcfada9185b9ff",
     "locked": true,
     "points": 3,
     "schema_version": 3,
     "solution": false,
     "task": false
    }
   },
   "outputs": [],
   "source": [
    "np.random.seed(533)\n",
    "Y_assess = np.random.rand(A2_assess.shape[0], A2_assess.shape[1])\n",
    "\n",
    "cost_assess = compute_cost(A2_assess, Y_assess)\n",
    "assert(abs((cost_assess - 0.6930698639230951)) < 1e-4 )\n",
    "print(cost_assess)"
   ]
  },
  {
   "cell_type": "markdown",
   "metadata": {
    "deletable": false,
    "editable": false,
    "nbgrader": {
     "cell_type": "markdown",
     "checksum": "af75f8adde01258321fa049912f71810",
     "grade": false,
     "grade_id": "cell-1df18a0446db9b3c",
     "locked": true,
     "schema_version": 3,
     "solution": false,
     "task": false
    }
   },
   "source": [
    "### 1.5 : Backpropagation\n",
    "Now its time to implement back propagation algorithm. You will have to estimate derivatives of your activation functions and partial derivatives of the cost function. Remeber that:\n",
    "\n",
    "$$ $$\n",
    "<font size=\"5\">\n",
    "$$ z^{[l]} = w^{[l]} \\cdot a^{[l-1]}+b^{[l]} $$\n",
    "\n",
    "$$ a^{[l]} = \\sigma^{[l]}(z^{[l]}) $$</font>\n",
    "\n",
    "\n",
    "We provide you with the equations of the required derivatives in the following:\n",
    "<font size=\"3\"><ins>\n",
    "    \n",
    "Derivative of sigmoid function (useful in the last layer)</ins></font>\n",
    "$$ $$\n",
    "<font size=\"5\">\n",
    "$$ \\sigma^\\prime(z^{[l]}) = \\sigma(z^{[l]}) \\cdot(1- \\sigma(z^{[l]})) $$</font>\n",
    "$$ $$\n",
    "<font size=\"3\"><ins>Derivative of tanh function (useful in the middel layer)</ins></font>\n",
    "<font size=\"5\">\n",
    "$$ \\sigma^\\prime(z^{[l]}) = 1 - \\sigma(z^{[l]})^2$$</font>\n",
    "$$ $$\n",
    "<font size=\"3\"><ins>Partial derivate of cross-entropy cost function with respect to $z^{[L]}$ (Try yourself to do all the steps to arrive to this final equations! Make good use of the chain rule. )</ins></font>\n",
    "$$ $$\n",
    "<font size=\"5\">\n",
    "$$ \\frac{\\partial C}{\\partial z^{[L]}} = a^{[L]} - y $$</font>\n",
    "$$ $$\n",
    "<font size=\"3\"><ins>Partial derivative of the cost function with respect to $z^{[l]}$</ins></font>\n",
    "$$ $$\n",
    "<font size=\"5\">\n",
    "$$ \\frac{\\partial C}{\\partial z^{[l]}} =  \\frac{\\partial C}{\\partial z^{[l+1]}} \\frac{\\partial z^{[l+1]}}{\\partial z^{[l]}} =(w^{[l + 1]^T} \\cdot \\frac{\\partial C}{\\partial z^{[l+1]}}) \\circ \\sigma^\\prime(z^{[l]})  $$</font>\n",
    "\n",
    "Here <font size=\"5\">$\\cdot$</font> represents matrix multiplication, while <font size=\"5\">$\\circ$</font> represents Hadamard Product."
   ]
  },
  {
   "cell_type": "markdown",
   "metadata": {
    "deletable": false,
    "editable": false,
    "nbgrader": {
     "cell_type": "markdown",
     "checksum": "677117362c7891e79d4bee7591ee9ba0",
     "grade": false,
     "grade_id": "cell-77c8a692d595bb82",
     "locked": true,
     "schema_version": 3,
     "solution": false,
     "task": false
    }
   },
   "source": [
    "<font size=\"3\"><ins>Partial derivative of the cost function with respect to $w^{[l]}$</ins></font>\n",
    "$$ $$\n",
    "<font size=\"5\">\n",
    "$$ \\frac{\\partial C}{\\partial w^{[l]}}=\\frac{\\partial C}{\\partial z^{[l]}} \\frac{\\partial z^{[l]}}{\\partial w^{[l]}}=\\frac{\\partial C}{\\partial z^{[l]}} \\cdot \\sigma^{[l-1]}(z^{[l-1]})^T = \\\\ \\frac{\\partial C}{\\partial z^{[l]}} \\cdot a ^ {[l-1]^T}$$</font>\n",
    "$$ $$\n",
    "<font size=\"3\"><ins>Partial derivative of the cost function with respect to $b^{[l]}$</ins></font>\n",
    "$$ $$\n",
    "<font size=\"5\">\n",
    "$$ \\frac{\\partial C}{\\partial b^{[l]}} = \\frac{\\partial C}{\\partial z^{[l]}} \\frac{\\partial z^{[l]}}{\\partial b^{[l]}}= \\frac{\\partial C}{\\partial z^{[l]}}$$</font>\n",
    "\n",
    "NOTE that the derivatives <font size=\"4\">$\\frac{\\partial C}{\\partial w^{[l]}}$</font> and <font size=\"4\">$\\frac{\\partial C}{\\partial b^{[l]}}$</font> consider input X as only one training example, for a batch of m examples, we will have to average the derivatives over the m."
   ]
  },
  {
   "cell_type": "markdown",
   "metadata": {
    "deletable": false,
    "editable": false,
    "nbgrader": {
     "cell_type": "markdown",
     "checksum": "848b70ddc1e1261aa6a2748a5f2c74b8",
     "grade": false,
     "grade_id": "cell-564e886ea657e31f",
     "locked": true,
     "schema_version": 3,
     "solution": false,
     "task": false
    }
   },
   "source": [
    "### Update rules:\n",
    "\n",
    "Once you compute the gradients, your will have to update the parameters for the next iteration. The update is performed through gradient descent rule which says:\n",
    "<font size=\"5\">\n",
    "$$\\theta = \\theta - \\alpha\\frac{\\partial C}{\\partial \\theta}$$</font>\n",
    "\n",
    "where $\\alpha$ is the learning rate, while $\\theta$ represents a parameter. E.g, for updating weights and bias values you might use the following:\n",
    "$$ $$\n",
    "<font size=\"5\">\n",
    "$$w^{[l]} = w^{[l]} - \\alpha\\frac{\\partial C}{\\partial w^{[l]}}$$\n",
    "\n",
    "$$b^{[l]} = b^{[l]} - \\alpha\\frac{\\partial C}{\\partial b^{[l]}}$$</font>\n",
    "\n",
    "It is important to select an appropriate learning-rate for training of your network. With too large learning rates, the parameters will start bouncing around chaotically and the optimization will not settle in a good spot. However, too small learning rates the optimization might take very long to converge.\n",
    "![Learning Rates](extra/learningrates.jpeg)\n",
    "Image source: https://cs231n.github.io/neural-networks-3/\n",
    "\n",
    "Implement the derivatives and update rule in the following cell:"
   ]
  },
  {
   "cell_type": "code",
   "execution_count": null,
   "metadata": {
    "deletable": false,
    "nbgrader": {
     "cell_type": "code",
     "checksum": "f117246b788d2bb7bd53d774a13fda30",
     "grade": false,
     "grade_id": "cell-6d8ce9291022a3b0",
     "locked": false,
     "schema_version": 3,
     "solution": true,
     "task": false
    }
   },
   "outputs": [],
   "source": [
    "def back_propagate(parameters, cache, X, Y, learning_rate): \n",
    "   \n",
    "    # Retrieve also A1 and A2 from dictionary \"cache\" \n",
    "    A1 = cache['A1'] #first layer result \n",
    "    A2 = cache['A2'] #second layer result\n",
    "   \n",
    "    WM1 = parameters[\"WM1\"].copy()\n",
    "    WM2 = parameters[\"WM2\"].copy()\n",
    "    BV1 = parameters[\"BV1\"].copy()\n",
    "    BV2 = parameters[\"BV2\"].copy()\n",
    "    \n",
    "    m = X.shape[1]\n",
    "  \n",
    "    # Backward propagation: calculate dCdZ1, dCdW1, dCdb1, dCdZ2, dCdW2, dCdb2.\n",
    "    \n",
    "    dCdZ2 = A2 - Y \n",
    "    dCdW2 = (1 / m) * np.dot(dCdZ2, A1.T) \n",
    "    dCdb2 = (1 / m) * np.sum(dCdZ2, axis = 1, keepdims = True) \n",
    "    \n",
    "    # YOUR CODE HERE\n",
    "    raise NotImplementedError()\n",
    "      \n",
    "    # Updating the parameters WM1, WM2, BV1, BV2, according to algorithm \n",
    "    # YOUR CODE HERE\n",
    "    raise NotImplementedError()\n",
    "    \n",
    "    grads = {\"dW1\": dCdW1,\n",
    "             \"db1\": dCdb1,\n",
    "             \"dW2\": dCdW2,\n",
    "             \"db2\": dCdb2}\n",
    "    \n",
    "    parameters = {\"WM1\": WM1,\n",
    "                  \"BV1\": BV1,\n",
    "                  \"WM2\": WM2,\n",
    "                  \"BV2\": BV2}\n",
    "   \n",
    "    return grads, parameters"
   ]
  },
  {
   "cell_type": "code",
   "execution_count": null,
   "metadata": {
    "deletable": false,
    "editable": false,
    "nbgrader": {
     "cell_type": "code",
     "checksum": "2c7c71a489f1b7a1e9006e8749c917ea",
     "grade": true,
     "grade_id": "cell-4a1f5e06ed986218",
     "locked": true,
     "points": 5,
     "schema_version": 3,
     "solution": false,
     "task": false
    }
   },
   "outputs": [],
   "source": [
    "params, cache, X_assess, Y_assess = bp_values()\n",
    "\n",
    "grads_assess, params_new = back_propagate(params, cache_assess, X_assess, Y_assess, 0.01)\n",
    "\n",
    "grads_gt = gt_grads()\n",
    "\n",
    "for k in grads_assess:\n",
    "     assert(np.allclose(grads_assess[k], grads_gt[k], rtol=1e-05, atol=1e-08, equal_nan=False))\n",
    "\n"
   ]
  },
  {
   "cell_type": "markdown",
   "metadata": {
    "deletable": false,
    "editable": false,
    "nbgrader": {
     "cell_type": "markdown",
     "checksum": "59cdc54f6bc43a3d7111ddfaf1666f6a",
     "grade": false,
     "grade_id": "cell-6a7ff0f237eac79e",
     "locked": true,
     "schema_version": 3,
     "solution": false,
     "task": false
    }
   },
   "source": [
    "### 1.6 : Creating a Model\n",
    "Now we will integrate the helper functions we just created to build your neural network in ```model_perceptron()```."
   ]
  },
  {
   "cell_type": "code",
   "execution_count": null,
   "metadata": {
    "deletable": false,
    "editable": false,
    "nbgrader": {
     "cell_type": "code",
     "checksum": "173c42b39c5cd8e041a14df1696d5c80",
     "grade": false,
     "grade_id": "cell-cbce797d691e40ba",
     "locked": true,
     "schema_version": 3,
     "solution": false,
     "task": false
    }
   },
   "outputs": [],
   "source": [
    "def model_perceptron(X, Y, NH, num_iterations, learning_rate, print_cost):\n",
    "    # Here num_iteration is epochs \n",
    "\n",
    "    np.random.seed(643)\n",
    "    NX = X.shape[0]\n",
    "    NY = Y.shape[0]\n",
    "    \n",
    "    # Initialize parameters\n",
    "    parameters = initialize_parameters(NX, NH, NY)\n",
    "    \n",
    "    for i in range(0, num_iterations):\n",
    "    \n",
    "        # Forward propagation. Inputs: \"X, parameters\". return: \"A2, cache\".\n",
    "        A2, cache = forward_prop(X, parameters) \n",
    "\n",
    "        # Cost function. Inputs: \"A2, Y\". Outputs: \"cost\". \n",
    "        cost = compute_cost(A2, Y) \n",
    "        \n",
    "        # Backpropagation. Inputs: \"parameters, cache, X, Y\". Outputs: \"grads\" and \"parameters (updated)\".\n",
    "        grads, parameters = back_propagate(parameters, cache, X, Y, learning_rate) \n",
    "        \n",
    "        # Print the cost every 1000 iterations \n",
    "        if print_cost and i % 1000 == 0: \n",
    "            print (\"Cost after iteration % i: % f\" % (i, cost)) \n",
    "    return parameters"
   ]
  },
  {
   "cell_type": "code",
   "execution_count": null,
   "metadata": {
    "deletable": false,
    "editable": false,
    "nbgrader": {
     "cell_type": "code",
     "checksum": "6c84703b93cdc34235681a5b18210873",
     "grade": false,
     "grade_id": "cell-76f8a91c6728e752",
     "locked": true,
     "schema_version": 3,
     "solution": false,
     "task": false
    }
   },
   "outputs": [],
   "source": [
    "NH = 5\n",
    "parameters = model_perceptron(X, Y, NH, 100000, 0.005, True)"
   ]
  },
  {
   "cell_type": "markdown",
   "metadata": {
    "deletable": false,
    "editable": false,
    "nbgrader": {
     "cell_type": "markdown",
     "checksum": "280747477809cb1778e5a32f68b87ea3",
     "grade": false,
     "grade_id": "cell-ad8fcf02de344f2f",
     "locked": true,
     "schema_version": 3,
     "solution": false,
     "task": false
    }
   },
   "source": [
    "### 1.7 : Predictions\n",
    "Now since our model has been trained, we will create a ```predict``` function to get the predictions on the test set. In this function we will pass the learned parameters along with a matrix of input samples and a threshold variable. This function will pass the input samples through the forward pass of the network and will return the predictions. The threshold variable is used to convert the output probabilities into class values as 0/1."
   ]
  },
  {
   "cell_type": "code",
   "execution_count": null,
   "metadata": {
    "deletable": false,
    "nbgrader": {
     "cell_type": "code",
     "checksum": "93568206aa1b64a4678dfb2902d16c09",
     "grade": false,
     "grade_id": "cell-7934a77246fc8ca6",
     "locked": false,
     "schema_version": 3,
     "solution": true,
     "task": false
    }
   },
   "outputs": [],
   "source": [
    "def predict(parameters, X, thresh):\n",
    "   \n",
    "    # Computes probabilities using forward propagation, and classifies to 0/1 using thresh as the threshold.\n",
    "    # YOUR CODE HERE\n",
    "    raise NotImplementedError()\n",
    "    \n",
    "    return predictions"
   ]
  },
  {
   "cell_type": "code",
   "execution_count": null,
   "metadata": {
    "deletable": false,
    "editable": false,
    "nbgrader": {
     "cell_type": "code",
     "checksum": "4c27ea41c4fd84e75110ee5a169249db",
     "grade": true,
     "grade_id": "cell-bf416c02ff40ba99",
     "locked": true,
     "points": 2,
     "schema_version": 3,
     "solution": false,
     "task": false
    }
   },
   "outputs": [],
   "source": [
    "np.random.seed(34)\n",
    "X_dummy = np.random.rand(X.shape[0], X.shape[1])\n",
    "predicts = predict(parameters, X_dummy, 0.5)\n",
    "assert((abs(np.sum(predicts) - 196) <= 10))"
   ]
  },
  {
   "cell_type": "markdown",
   "metadata": {
    "deletable": false,
    "editable": false,
    "nbgrader": {
     "cell_type": "markdown",
     "checksum": "7b6ec73728f283b40680e922b0d9f717",
     "grade": false,
     "grade_id": "cell-7034e29e1b0c2a5c",
     "locked": true,
     "schema_version": 3,
     "solution": false,
     "task": false
    }
   },
   "source": [
    "Now we predict the output of the network and plot it using ```plot_decision_boundary``` function."
   ]
  },
  {
   "cell_type": "code",
   "execution_count": null,
   "metadata": {
    "deletable": false,
    "editable": false,
    "nbgrader": {
     "cell_type": "code",
     "checksum": "6eca8604dc5643792b88b16cebc73f75",
     "grade": false,
     "grade_id": "cell-8c1c7ab44694e2de",
     "locked": true,
     "schema_version": 3,
     "solution": false,
     "task": false
    }
   },
   "outputs": [],
   "source": [
    "plot_decision_boundary(lambda x: predict(parameters, x.T, 0.5), X, Y)\n",
    "# plt.title(\"Decision Boundary for hidden layer size \" + str(4));"
   ]
  },
  {
   "cell_type": "markdown",
   "metadata": {
    "deletable": false,
    "editable": false,
    "nbgrader": {
     "cell_type": "markdown",
     "checksum": "6cc98e899357244b8c590a9daa56219f",
     "grade": false,
     "grade_id": "cell-57f2a921c7949ff9",
     "locked": true,
     "schema_version": 3,
     "solution": false,
     "task": false
    }
   },
   "source": [
    "If everything works well, then you should be able to see the decision boundary learned by the network which is highly non-linear. The network has learnt the leaf patterns of the flower.\n",
    "![predicted decision boundary](./extra/predict_dec_boundary.png)\n"
   ]
  },
  {
   "cell_type": "markdown",
   "metadata": {
    "deletable": false,
    "editable": false,
    "nbgrader": {
     "cell_type": "markdown",
     "checksum": "52dce2d45a825f2b734201ab07fee35e",
     "grade": false,
     "grade_id": "cell-63e41d0ae031a822",
     "locked": true,
     "schema_version": 3,
     "solution": false,
     "task": false
    }
   },
   "source": [
    "## 2: Classifying a Pen\n",
    "### 2.1 : Create a Neural Network in Keras\n",
    "In this section, we will continue the problem of a pen detector presented in practicum2 and will train an image classifier through a neural network. We will use Keras from Tensorflow2 to write the code of our algorithm. We will start by loading the images files in ```images/mypen``` folder."
   ]
  },
  {
   "cell_type": "code",
   "execution_count": null,
   "metadata": {
    "deletable": false,
    "editable": false,
    "nbgrader": {
     "cell_type": "code",
     "checksum": "65d2612e5ca26db40914ffa84848d76f",
     "grade": false,
     "grade_id": "cell-6823bf4e8ad4a7bc",
     "locked": true,
     "schema_version": 3,
     "solution": false,
     "task": false
    }
   },
   "outputs": [],
   "source": [
    "IMAGE_DIR = 'images/mypen'\n",
    "\n",
    "filenames = list_images(IMAGE_DIR)\n",
    "N = len(filenames)\n",
    "\n",
    "# list all images. There should be 37 images in the images/mypen/ directory\n",
    "Is = [plt.imread(filename) for filename in filenames]\n",
    "print('loaded %d images' % len(Is))"
   ]
  },
  {
   "cell_type": "markdown",
   "metadata": {
    "deletable": false,
    "editable": false,
    "nbgrader": {
     "cell_type": "markdown",
     "checksum": "499a14a949a7e1f033201231e2a7d09a",
     "grade": false,
     "grade_id": "cell-a24ca82691494183",
     "locked": true,
     "schema_version": 3,
     "solution": false,
     "task": false
    }
   },
   "source": [
    "Now we load the annotation files using pickle."
   ]
  },
  {
   "cell_type": "code",
   "execution_count": null,
   "metadata": {
    "deletable": false,
    "editable": false,
    "nbgrader": {
     "cell_type": "code",
     "checksum": "b5c47fb517701e024bd86abc72f61167",
     "grade": false,
     "grade_id": "cell-ebb3d4e6ed71a6ae",
     "locked": true,
     "schema_version": 3,
     "solution": false,
     "task": false
    }
   },
   "outputs": [],
   "source": [
    "import pickle\n",
    "\n",
    "annots = None # store your results in the variable `annots`\n",
    "annot_filename = os.path.join(IMAGE_DIR, 'annots.npy')\n",
    "\n",
    "annots = pickle.load(open(annot_filename, 'rb'))"
   ]
  },
  {
   "cell_type": "markdown",
   "metadata": {
    "deletable": false,
    "editable": false,
    "nbgrader": {
     "cell_type": "markdown",
     "checksum": "c2b35b7f8bacf409ddb8e7e6c203e525",
     "grade": false,
     "grade_id": "cell-9ea13905dac232e7",
     "locked": true,
     "schema_version": 3,
     "solution": false,
     "task": false
    }
   },
   "source": [
    "We load the first image using index ```img_idx = 0``` as a sample to see the annotated points."
   ]
  },
  {
   "cell_type": "code",
   "execution_count": null,
   "metadata": {
    "deletable": false,
    "editable": false,
    "nbgrader": {
     "cell_type": "code",
     "checksum": "eb94e745358df7197e95004a272e2c6b",
     "grade": false,
     "grade_id": "cell-d6d4c55a25f11b8a",
     "locked": true,
     "schema_version": 3,
     "solution": false,
     "task": false
    }
   },
   "outputs": [],
   "source": [
    "img_idx = 0\n",
    "I = Is[img_idx]\n",
    "p1 = annots[img_idx,:2].copy() # point 1, tip of the pen\n",
    "p2 = annots[img_idx,2:].copy() # point 2, end of the pen"
   ]
  },
  {
   "cell_type": "markdown",
   "metadata": {
    "deletable": false,
    "editable": false,
    "nbgrader": {
     "cell_type": "markdown",
     "checksum": "918c8ddbc644210063af40e473912ab8",
     "grade": false,
     "grade_id": "cell-b706ecc0bf6ca2da",
     "locked": true,
     "schema_version": 3,
     "solution": false,
     "task": false
    }
   },
   "source": [
    "Now we sample the images patches around the annotated points. "
   ]
  },
  {
   "cell_type": "code",
   "execution_count": null,
   "metadata": {
    "deletable": false,
    "editable": false,
    "nbgrader": {
     "cell_type": "code",
     "checksum": "65c35b1c3ab639dafacc3618dc7e80d5",
     "grade": false,
     "grade_id": "cell-1da6d0260fd06130",
     "locked": true,
     "schema_version": 3,
     "solution": false,
     "task": false
    }
   },
   "outputs": [],
   "source": [
    "points = sample_points_around_pen(I, p1, p2)"
   ]
  },
  {
   "cell_type": "code",
   "execution_count": null,
   "metadata": {
    "deletable": false,
    "editable": false,
    "nbgrader": {
     "cell_type": "code",
     "checksum": "519bed82caa19e0a8f50eb3cccce463e",
     "grade": false,
     "grade_id": "cell-35633cf048ba8fe4",
     "locked": true,
     "schema_version": 3,
     "solution": false,
     "task": false
    }
   },
   "outputs": [],
   "source": [
    "labels = make_labels_for_points(I, p1, p2, points)\n",
    "plt.figure(figsize=(10,12))\n",
    "plt.imshow(I)\n",
    "plot_labeled_points(points, labels)\n",
    "plt.legend()"
   ]
  },
  {
   "cell_type": "code",
   "execution_count": null,
   "metadata": {
    "deletable": false,
    "editable": false,
    "nbgrader": {
     "cell_type": "code",
     "checksum": "6236a2634de0113b56a23b3d33c185b6",
     "grade": false,
     "grade_id": "cell-b4e9ee6452a5b707",
     "locked": true,
     "schema_version": 3,
     "solution": false,
     "task": false
    }
   },
   "outputs": [],
   "source": [
    "# the target size of the patches after downsizing\n",
    "FEAT_SIZE = (9,9,3)"
   ]
  },
  {
   "cell_type": "markdown",
   "metadata": {
    "deletable": false,
    "editable": false,
    "nbgrader": {
     "cell_type": "markdown",
     "checksum": "e3852282917c9ad474839d7eca15715e",
     "grade": false,
     "grade_id": "cell-9ecf615dda0e1671",
     "locked": true,
     "schema_version": 3,
     "solution": false,
     "task": false
    }
   },
   "source": [
    "Let's divide the images into train and test sets by creating an index. This time randomly select 25 images for as train_imgs and rest of the images as test. Hint: You can use ```random.shuffle()``` to shuffle a python list.\n",
    "Note: The train_imgs should be a list of indices, rather than a list of training images."
   ]
  },
  {
   "cell_type": "code",
   "execution_count": null,
   "metadata": {
    "deletable": false,
    "nbgrader": {
     "cell_type": "code",
     "checksum": "06cfbb29ec421647ec7a8e4dc5e8a1ab",
     "grade": false,
     "grade_id": "cell-2e0b04d4d0987566",
     "locked": false,
     "schema_version": 3,
     "solution": true,
     "task": false
    }
   },
   "outputs": [],
   "source": [
    "import random\n",
    "random.seed(23)\n",
    "indices = list(range(0, len(Is)))\n",
    "\n",
    "# YOUR CODE HERE\n",
    "raise NotImplementedError()"
   ]
  },
  {
   "cell_type": "code",
   "execution_count": null,
   "metadata": {
    "deletable": false,
    "editable": false,
    "nbgrader": {
     "cell_type": "code",
     "checksum": "e3d5b2f872c813ccbb8ad63d1f070821",
     "grade": true,
     "grade_id": "cell-05dc25e5cb04b05a",
     "locked": true,
     "points": 1,
     "schema_version": 3,
     "solution": false,
     "task": false
    }
   },
   "outputs": [],
   "source": [
    "assert(np.sum(indices[:10] != 45))\n",
    "#print(np.shape(test_imgs)[0])"
   ]
  },
  {
   "cell_type": "code",
   "execution_count": null,
   "metadata": {
    "deletable": false,
    "editable": false,
    "nbgrader": {
     "cell_type": "code",
     "checksum": "76ec1058d36f8cd4bbb319b2cc616967",
     "grade": false,
     "grade_id": "cell-0418f36fbcae709f",
     "locked": true,
     "schema_version": 3,
     "solution": false,
     "task": false
    }
   },
   "outputs": [],
   "source": [
    "X_train, y_train, points_train, imgids_train = extract_multiple_images(Is, train_imgs, annots, FEAT_SIZE)"
   ]
  },
  {
   "cell_type": "code",
   "execution_count": null,
   "metadata": {
    "deletable": false,
    "editable": false,
    "nbgrader": {
     "cell_type": "code",
     "checksum": "47f4c7e3b5a85ff4ce10516d7d7bd983",
     "grade": false,
     "grade_id": "cell-0873a1f11f2a6185",
     "locked": true,
     "schema_version": 3,
     "solution": false,
     "task": false
    }
   },
   "outputs": [],
   "source": [
    "X_test, y_test, points_test, imgids_test = extract_multiple_images(Is, test_imgs, annots, FEAT_SIZE)"
   ]
  },
  {
   "cell_type": "code",
   "execution_count": null,
   "metadata": {
    "deletable": false,
    "editable": false,
    "nbgrader": {
     "cell_type": "code",
     "checksum": "331aa38e5848265d849ae435462a06d4",
     "grade": false,
     "grade_id": "cell-429e3a60fa4cf292",
     "locked": true,
     "schema_version": 3,
     "solution": false,
     "task": false
    }
   },
   "outputs": [],
   "source": [
    "plot_samples(X_train, y_train, FEAT_SIZE, nsamples = 12)"
   ]
  },
  {
   "cell_type": "markdown",
   "metadata": {
    "deletable": false,
    "editable": false,
    "nbgrader": {
     "cell_type": "markdown",
     "checksum": "30a3459bde427badefc4135adeffae2e",
     "grade": false,
     "grade_id": "cell-8c11f244c74190bf",
     "locked": true,
     "schema_version": 3,
     "solution": false,
     "task": false
    }
   },
   "source": [
    "### 2.2: Our Neural Network\n",
    "Let us now create our Neural Network for image classification problem using keras. Let us first import required packages."
   ]
  },
  {
   "cell_type": "code",
   "execution_count": null,
   "metadata": {
    "deletable": false,
    "editable": false,
    "nbgrader": {
     "cell_type": "code",
     "checksum": "b672705655a52382c38de06898cbea3e",
     "grade": false,
     "grade_id": "cell-1694d16e57844ef6",
     "locked": true,
     "schema_version": 3,
     "solution": false,
     "task": false
    }
   },
   "outputs": [],
   "source": [
    "import tensorflow as tf\n",
    "from tensorflow import keras"
   ]
  },
  {
   "cell_type": "markdown",
   "metadata": {
    "deletable": false,
    "editable": false,
    "nbgrader": {
     "cell_type": "markdown",
     "checksum": "34734f349b905628f9358d98d4084885",
     "grade": false,
     "grade_id": "cell-d8d40b442519f08b",
     "locked": true,
     "schema_version": 3,
     "solution": false,
     "task": false
    }
   },
   "source": [
    "We then define some variables here. We are going to create a neural network with two hidden layers this time. We need to know the input size of our neural network. This should come from the flattened image patches (number of features in each patch) that we are already have in X_train (or X_test) sets. Extract this value and save it in ```num_input_units``` variable. Similarly, we need to define the number of output neurons or ```num_logits```. This corresponds to the number of classes we have in our dataset. We also define ```NNH_1``` and ```NNH_2``` variables. These corresponds to number of units in hidden layer 1 and hidden layer 2. For now just return the variables as you receive them in the arguments."
   ]
  },
  {
   "cell_type": "code",
   "execution_count": null,
   "metadata": {
    "deletable": false,
    "nbgrader": {
     "cell_type": "code",
     "checksum": "54c3663b47a60771e970f66fde8a13db",
     "grade": false,
     "grade_id": "cell-413d04337a331223",
     "locked": false,
     "schema_version": 3,
     "solution": true,
     "task": false
    }
   },
   "outputs": [],
   "source": [
    "def config_layers(X_train, NNH_1, NNH_2, y_train):\n",
    "    # YOUR CODE HERE\n",
    "    raise NotImplementedError()\n",
    "    return num_input_units, NNH_1, NNH_2, num_logits"
   ]
  },
  {
   "cell_type": "code",
   "execution_count": null,
   "metadata": {
    "deletable": false,
    "editable": false,
    "nbgrader": {
     "cell_type": "code",
     "checksum": "7094367da27985b679b03ec7eedec3c4",
     "grade": true,
     "grade_id": "cell-bb1da89bcaeddf6f",
     "locked": true,
     "points": 2,
     "schema_version": 3,
     "solution": false,
     "task": false
    }
   },
   "outputs": [],
   "source": [
    "X_dummy, y_dummy = get_dummy_images()\n",
    "num_input_units_temp, NNH_1_temp, NNH_2_temp, num_logits_temp = config_layers(X_dummy, 45, 343, y_dummy)\n",
    "assert(num_input_units_temp == 343)\n",
    "assert(num_logits_temp == 7)\n"
   ]
  },
  {
   "cell_type": "markdown",
   "metadata": {
    "deletable": false,
    "editable": false,
    "nbgrader": {
     "cell_type": "markdown",
     "checksum": "c9085e20a612373a9ede81f9122c2432",
     "grade": false,
     "grade_id": "cell-0a6cadc4fb43564b",
     "locked": true,
     "schema_version": 3,
     "solution": false,
     "task": false
    }
   },
   "source": [
    "We are going to use Sequential API of Keras here. Let us import the required layers."
   ]
  },
  {
   "cell_type": "code",
   "execution_count": null,
   "metadata": {
    "deletable": false,
    "editable": false,
    "nbgrader": {
     "cell_type": "code",
     "checksum": "6ee2301b3249b5e84046b5aaedfed856",
     "grade": false,
     "grade_id": "cell-b5b557f115ef1085",
     "locked": true,
     "schema_version": 3,
     "solution": false,
     "task": false
    }
   },
   "outputs": [],
   "source": [
    "from keras.layers import Dense"
   ]
  },
  {
   "cell_type": "markdown",
   "metadata": {
    "deletable": false,
    "editable": false,
    "nbgrader": {
     "cell_type": "markdown",
     "checksum": "7c9068518f2a6935efdf2b51ecabbddc",
     "grade": false,
     "grade_id": "cell-707b942486c119e2",
     "locked": true,
     "schema_version": 3,
     "solution": false,
     "task": false
    }
   },
   "source": [
    "### 2.3:  Design\n",
    "Now we design our actual neural network here. We have provided the code for the first (hidden layer) and the last layers of the network. You have to write the code specifically for the second hidden layer in the following. Note: Use 'relu' as activation function."
   ]
  },
  {
   "cell_type": "code",
   "execution_count": null,
   "metadata": {
    "deletable": false,
    "nbgrader": {
     "cell_type": "code",
     "checksum": "b2fbb59bc6663d9691ec9167e898c0d6",
     "grade": false,
     "grade_id": "cell-9ae1fe7aa706a58b",
     "locked": false,
     "schema_version": 3,
     "solution": true,
     "task": false
    }
   },
   "outputs": [],
   "source": [
    "# We first get the layers config values.\n",
    "num_input_units, NNH_1, NNH_2, num_logits = config_layers(X_train, 173, 67, y_train)\n",
    "\n",
    "image_model = keras.models.Sequential()\n",
    "image_model.add(Dense(NNH_1, input_dim=num_input_units, activation='relu'))\n",
    "# YOUR CODE HERE\n",
    "raise NotImplementedError()\n",
    "image_model.add(Dense(num_logits, activation='softmax'))\n",
    "\n",
    "# model.add(Dropout(rate = 0.2))"
   ]
  },
  {
   "cell_type": "code",
   "execution_count": null,
   "metadata": {
    "deletable": false,
    "editable": false,
    "nbgrader": {
     "cell_type": "code",
     "checksum": "07223f7152700f21b514c2b000377b51",
     "grade": true,
     "grade_id": "cell-98996a59109fef8d",
     "locked": true,
     "points": 1,
     "schema_version": 3,
     "solution": false,
     "task": false
    }
   },
   "outputs": [],
   "source": [
    "layer = image_model.layers[1]\n",
    "assert(isinstance(layer, keras.layers.Dense))\n",
    "assert(layer.output.shape[1] == NNH_2)\n",
    "\n"
   ]
  },
  {
   "cell_type": "markdown",
   "metadata": {
    "deletable": false,
    "editable": false,
    "nbgrader": {
     "cell_type": "markdown",
     "checksum": "a7df1ea5276d1eb32df81303a9856e50",
     "grade": false,
     "grade_id": "cell-8d9ff74d346403a0",
     "locked": true,
     "schema_version": 3,
     "solution": false,
     "task": false
    }
   },
   "source": [
    "We can also print the summary of the model we just created using command ```model.summary()```. Through this we will be able to have insight into our model we just created. We can see a list a layers, their names, types, output shapes and number of parameters in each layer. We can also see total parameters of our network as well as trainable and non-trainable parameters. This might be important when we fine-tune pretrained models or when we are trying to reduce number of parameters in our model."
   ]
  },
  {
   "cell_type": "code",
   "execution_count": null,
   "metadata": {
    "deletable": false,
    "editable": false,
    "nbgrader": {
     "cell_type": "code",
     "checksum": "3ec29b9a8c18b9de0517484fd00c7ad8",
     "grade": false,
     "grade_id": "cell-cb2583068654611e",
     "locked": true,
     "schema_version": 3,
     "solution": false,
     "task": false
    }
   },
   "outputs": [],
   "source": [
    "print(image_model.summary())"
   ]
  },
  {
   "cell_type": "markdown",
   "metadata": {
    "deletable": false,
    "editable": false,
    "nbgrader": {
     "cell_type": "markdown",
     "checksum": "8459b334d6890d8a556686e606e609dd",
     "grade": false,
     "grade_id": "cell-06c6250ee4738841",
     "locked": true,
     "schema_version": 3,
     "solution": false,
     "task": false
    }
   },
   "source": [
    "Moreover, keras provides us a tool ```plot_model``` that we can use to plot our model and then save the plot as an image."
   ]
  },
  {
   "cell_type": "code",
   "execution_count": null,
   "metadata": {
    "deletable": false,
    "editable": false,
    "nbgrader": {
     "cell_type": "code",
     "checksum": "782c89bc0ade449d03842a512a065314",
     "grade": false,
     "grade_id": "cell-f8bf5cda4b3b32a4",
     "locked": true,
     "schema_version": 3,
     "solution": false,
     "task": false
    }
   },
   "outputs": [],
   "source": [
    "keras.utils.plot_model(image_model, to_file='model_plot.png', show_shapes=True, show_layer_names=True)"
   ]
  },
  {
   "cell_type": "markdown",
   "metadata": {
    "deletable": false,
    "editable": false,
    "nbgrader": {
     "cell_type": "markdown",
     "checksum": "ec48c97c189ee67b334c920381ebc82e",
     "grade": false,
     "grade_id": "cell-0596f95cc472e800",
     "locked": true,
     "schema_version": 3,
     "solution": false,
     "task": false
    }
   },
   "source": [
    "### 2.4: Configuration\n",
    "Once we are satisfied with our model design, we can move on to config it. At this stage we will need to chose the type of loss we want to use, the optimizer and metrics that we want keras to pay attention to. Keras provides several loss functions and optimizers, while we can write our own loss functions and can use other optimizers as well. Here we chose to use ```binary_crossentropy``` loss, ```adam``` optimizer and ```accuracy``` as metrics.\n",
    "\n",
    "Compile the model by using ```model.compile``` command. For hint, please see [this](https://keras.io/api/models/model_training_apis/)."
   ]
  },
  {
   "cell_type": "code",
   "execution_count": null,
   "metadata": {
    "deletable": false,
    "nbgrader": {
     "cell_type": "code",
     "checksum": "248b623845d2b59d0679cc55b9610259",
     "grade": false,
     "grade_id": "cell-ba196d339f6b700e",
     "locked": false,
     "schema_version": 3,
     "solution": true,
     "task": false
    }
   },
   "outputs": [],
   "source": [
    "# compile the keras model\n",
    "optimizer = keras.optimizers.Adam(learning_rate=0.001)\n",
    "# YOUR CODE HERE\n",
    "raise NotImplementedError()"
   ]
  },
  {
   "cell_type": "code",
   "execution_count": null,
   "metadata": {
    "deletable": false,
    "editable": false,
    "nbgrader": {
     "cell_type": "code",
     "checksum": "e80f8a2382e838cb37d84daa9f577f98",
     "grade": true,
     "grade_id": "cell-2ed42d440c572890",
     "locked": true,
     "points": 2,
     "schema_version": 3,
     "solution": false,
     "task": false
    }
   },
   "outputs": [],
   "source": [
    "assert(image_model.loss == 'binary_crossentropy')"
   ]
  },
  {
   "cell_type": "markdown",
   "metadata": {
    "deletable": false,
    "editable": false,
    "nbgrader": {
     "cell_type": "markdown",
     "checksum": "40a79878ec2dbe5cc2d7d44f565f22f0",
     "grade": false,
     "grade_id": "cell-e38396f568fea235",
     "locked": true,
     "schema_version": 3,
     "solution": false,
     "task": false
    }
   },
   "source": [
    "Before we move on to train the model, we need to perform one-hot encoding of our y vector. Hot-vector encoding replaces the integer labels in our ground truth vector with new binary style labeling. After one-hot encoding, each category in the dataset is represented by a column in the output label vector.\n",
    "\n",
    "For example see below:\n",
    "\n",
    "    original y vector     one_hot y_matrix\n",
    "    1                       0010\n",
    "    0                       0001\n",
    "    2                       0100\n",
    "    1                       0010\n",
    "    3                       1000\n",
    "    3                       1000\n",
    "    1                       0010\n",
    "    2                       0100\n",
    "    2                       0100\n",
    "    \n",
    "Write a code in the following cell to convert your y vectors (y_train and y_test) into one-hot encoded vectors.\n",
    "Note: You can use the keras function for this."
   ]
  },
  {
   "cell_type": "code",
   "execution_count": null,
   "metadata": {
    "deletable": false,
    "nbgrader": {
     "cell_type": "code",
     "checksum": "b52e1f196defa9a40b7ed07ca6348f42",
     "grade": false,
     "grade_id": "cell-e127485fbbac9cdb",
     "locked": false,
     "schema_version": 3,
     "solution": true,
     "task": false
    }
   },
   "outputs": [],
   "source": [
    "def one_hot_encoding(y_orig):\n",
    "    # YOUR CODE HERE\n",
    "    raise NotImplementedError()\n",
    "    \n",
    "    y_one_hot = y_one_hot.astype(np.uint8)\n",
    "    \n",
    "    return y_one_hot"
   ]
  },
  {
   "cell_type": "code",
   "execution_count": null,
   "metadata": {
    "deletable": false,
    "editable": false,
    "nbgrader": {
     "cell_type": "code",
     "checksum": "ac711ffd4bc8c77bb753abd302f8959c",
     "grade": true,
     "grade_id": "cell-a1cedd5e927b684b",
     "locked": true,
     "points": 2,
     "schema_version": 3,
     "solution": false,
     "task": false
    }
   },
   "outputs": [],
   "source": [
    "y_dummy_one_hot = one_hot_encoding(y_dummy)\n",
    "\n",
    "assert(y_dummy_one_hot.shape == ((len(y_dummy), num_logits_temp)))\n",
    "for i in range(0, len(y_dummy)):\n",
    "    assert(np.sum(y_dummy_one_hot[i,:]) == 1)\n"
   ]
  },
  {
   "cell_type": "markdown",
   "metadata": {},
   "source": [
    "<div class=\"alert alert-info\">\n",
    "    <h1>🎥 <a href=\"https://brightspace.tudelft.nl/d2l/le/content/597271/viewContent/3314496/View\">Lecture 6D - Neural Networks - Problems</a></h1>\n",
    "    The following requires the knowledge covered in this lecture. If you haven't watched the video yet, it's now high time to do so...\n",
    "</div>"
   ]
  },
  {
   "cell_type": "markdown",
   "metadata": {
    "deletable": false,
    "editable": false,
    "nbgrader": {
     "cell_type": "markdown",
     "checksum": "9c219869e4a58e60705b318ceba275a7",
     "grade": false,
     "grade_id": "cell-f3f65a754b80d78e",
     "locked": true,
     "schema_version": 3,
     "solution": false,
     "task": false
    }
   },
   "source": [
    "One last thing before we go on to train our network. While training, it might happen that the performance of the network fluctuates due to some reason. But we would like to save the network that performs the best from all the iterations. So we create a callback, and pass it to the training function of keras, that would only save the best performing model on our disk and would discard rest of the models. We create a checkpoint call back as below:"
   ]
  },
  {
   "cell_type": "code",
   "execution_count": null,
   "metadata": {
    "deletable": false,
    "editable": false,
    "nbgrader": {
     "cell_type": "code",
     "checksum": "f15bd55f3ead0f74563e80bf5d6829c7",
     "grade": false,
     "grade_id": "cell-ac1d484bd03b399e",
     "locked": true,
     "schema_version": 3,
     "solution": false,
     "task": false
    }
   },
   "outputs": [],
   "source": [
    "checkpoint_path = \"learned_weights/weights.best.hdf5\"\n",
    "checkpoint_dir = os.path.dirname(checkpoint_path)\n",
    "\n",
    "import os\n",
    "\n",
    "if not os.path.exists(checkpoint_dir):\n",
    "    os.makedirs(checkpoint_dir)\n",
    "\n",
    "# Create a callback that saves the model's weights\n",
    "cp_callback = tf.keras.callbacks.ModelCheckpoint(filepath=checkpoint_path,\n",
    "                                                 monitor='val_accuracy',\n",
    "                                                 mode='auto',\n",
    "                                                 save_best_only=True,\n",
    "                                                 save_weights_only=False,\n",
    "                                                 save_freq='epoch',\n",
    "                                                 verbose=1)"
   ]
  },
  {
   "cell_type": "markdown",
   "metadata": {
    "deletable": false,
    "editable": false,
    "nbgrader": {
     "cell_type": "markdown",
     "checksum": "e214a5a93b88568f8741596b6ab8b741",
     "grade": false,
     "grade_id": "cell-e4a694f7b70aaa91",
     "locked": true,
     "schema_version": 3,
     "solution": false,
     "task": false
    }
   },
   "source": [
    "Now, we can finally train our network. For this we will use function ```model.fit()```. For details please see [this](https://keras.io/api/models/model_training_apis/). We will define some parameter values and will pass those values to the training function. Please note, that we further divide our training set into train and validation sets. Keras will train on the train set, while it assess the performance of the network "
   ]
  },
  {
   "cell_type": "code",
   "execution_count": null,
   "metadata": {
    "deletable": false,
    "editable": false,
    "nbgrader": {
     "cell_type": "code",
     "checksum": "c8eb5e73198ac0ad5f71ef9fb49e89a9",
     "grade": false,
     "grade_id": "cell-0b70f60540f8c31e",
     "locked": true,
     "schema_version": 3,
     "solution": false,
     "task": false
    }
   },
   "outputs": [],
   "source": [
    "validation_split = 0.33\n",
    "epochs = 30\n",
    "batch_size = 10\n",
    "y_train_one_hot = one_hot_encoding(y_train)\n",
    "\n",
    "history = image_model.fit(X_train, y_train_one_hot, validation_split=validation_split,\\\n",
    "                    epochs=epochs, batch_size=batch_size, callbacks = [cp_callback])"
   ]
  },
  {
   "cell_type": "markdown",
   "metadata": {
    "deletable": false,
    "editable": false,
    "nbgrader": {
     "cell_type": "markdown",
     "checksum": "bb8df875581f26888fa8e3c239db7073",
     "grade": false,
     "grade_id": "cell-9693a5fe3957f101",
     "locked": true,
     "schema_version": 3,
     "solution": false,
     "task": false
    }
   },
   "source": [
    "Let's plot the training logs which we saved in history variable."
   ]
  },
  {
   "cell_type": "code",
   "execution_count": null,
   "metadata": {
    "deletable": false,
    "editable": false,
    "nbgrader": {
     "cell_type": "code",
     "checksum": "6b8e7fe0ed2938a00a50cfe6c7fb4f84",
     "grade": false,
     "grade_id": "cell-645f8027a32e67df",
     "locked": true,
     "schema_version": 3,
     "solution": false,
     "task": false
    }
   },
   "outputs": [],
   "source": [
    "# list all data in history\n",
    "print(history.history.keys())\n",
    "# summarize history for accuracy\n",
    "plt.plot(history.history['accuracy'])\n",
    "plt.plot(history.history['val_accuracy'])\n",
    "plt.title('model accuracy')\n",
    "plt.ylabel('accuracy')\n",
    "plt.xlabel('epoch')\n",
    "plt.legend(['train', 'val'], loc='upper left')\n",
    "plt.show()\n",
    "# summarize history for loss\n",
    "plt.plot(history.history['loss'])\n",
    "plt.plot(history.history['val_loss'])\n",
    "plt.title('model loss')\n",
    "plt.ylabel('loss')\n",
    "plt.xlabel('epoch')\n",
    "plt.legend(['train', 'val'], loc='upper left')\n",
    "plt.show()"
   ]
  },
  {
   "cell_type": "markdown",
   "metadata": {
    "deletable": false,
    "editable": false,
    "nbgrader": {
     "cell_type": "markdown",
     "checksum": "1a703344a390467d353d34ec5b097f7e",
     "grade": false,
     "grade_id": "cell-9f1153004bffbc83",
     "locked": true,
     "schema_version": 3,
     "solution": false,
     "task": false
    }
   },
   "source": [
    "To evaluate the trained model on test set which is still unseen by the network we can use ```model.evaluate()``` function."
   ]
  },
  {
   "cell_type": "code",
   "execution_count": null,
   "metadata": {
    "deletable": false,
    "editable": false,
    "nbgrader": {
     "cell_type": "code",
     "checksum": "81a50d076a88528c1ba7896de88837bc",
     "grade": false,
     "grade_id": "cell-2c771c3a95d3fc6e",
     "locked": true,
     "schema_version": 3,
     "solution": false,
     "task": false
    }
   },
   "outputs": [],
   "source": [
    "y_test_one_hot = one_hot_encoding(y_test)\n",
    "_, accuracy = image_model.evaluate(X_test, y_test_one_hot)\n",
    "print('Accuracy: %.2f' % (accuracy*100))"
   ]
  },
  {
   "cell_type": "markdown",
   "metadata": {
    "deletable": false,
    "editable": false,
    "nbgrader": {
     "cell_type": "markdown",
     "checksum": "2d93acac57540b359aadf8be0e8d9140",
     "grade": false,
     "grade_id": "cell-cd53a078985a1d94",
     "locked": true,
     "schema_version": 3,
     "solution": false,
     "task": false
    }
   },
   "source": [
    "**How would you assess the model plots of training/validation accuracy and loss? Why is the gap between train and validation curves? How would you solve this problem? Hint: Rename one `answer` to `solution`**"
   ]
  },
  {
   "cell_type": "code",
   "execution_count": null,
   "metadata": {
    "deletable": false,
    "nbgrader": {
     "cell_type": "code",
     "checksum": "bad053b2b7e19502a997d6c17899cf27",
     "grade": false,
     "grade_id": "cell-681e0c488db7a40a",
     "locked": false,
     "schema_version": 3,
     "solution": true,
     "task": false
    }
   },
   "outputs": [],
   "source": [
    "reason=''\n",
    "solution=''\n",
    "#reason='The network is overfitting'\n",
    "#reason='The network is underfitting'\n",
    "#answer='We should increase the learning rate'\n",
    "#answer='We should decrease the learning rate'\n",
    "#answer='We should make the network bigger'\n",
    "#answer='We should make the network smaller'\n",
    "#answer='We should stop the training before'\n",
    "#answer='We should apply Dropout'\n",
    "#answer='We should apply L1 Regularization'\n",
    "# YOUR CODE HERE\n",
    "raise NotImplementedError()"
   ]
  },
  {
   "cell_type": "code",
   "execution_count": null,
   "metadata": {
    "deletable": false,
    "editable": false,
    "nbgrader": {
     "cell_type": "code",
     "checksum": "8fc1ccefd2d0de9a6605a527277d9bf2",
     "grade": true,
     "grade_id": "cell-a8764d3ef5d6d485",
     "locked": true,
     "points": 2,
     "schema_version": 3,
     "solution": false,
     "task": false
    }
   },
   "outputs": [],
   "source": [
    "assert(reason!='')\n",
    "assert(solution!='')"
   ]
  },
  {
   "cell_type": "markdown",
   "metadata": {
    "deletable": false,
    "editable": false,
    "nbgrader": {
     "cell_type": "markdown",
     "checksum": "4e9d2af02130ce64398074b26815bb39",
     "grade": false,
     "grade_id": "cell-d075e57f8c2d85b6",
     "locked": true,
     "schema_version": 3,
     "solution": false,
     "task": false
    }
   },
   "source": [
    "Finally, we can predict the output of a given sample (or an input matrix) by using ```model.predict()``` function. Complete the function below to get prediction values when given the model and an input matrix X to the ```our_predict``` function. The raw outputs from the model will be in the form of probabilities. One way of getting outputs in original labels is to find, for each row of predictions, which column has the maximum probability. Implement this in the function below."
   ]
  },
  {
   "cell_type": "code",
   "execution_count": null,
   "metadata": {
    "deletable": false,
    "nbgrader": {
     "cell_type": "code",
     "checksum": "baf1dac2a3db8c6c4c50431f24240faa",
     "grade": false,
     "grade_id": "cell-09300888c0fafadb",
     "locked": false,
     "schema_version": 3,
     "solution": true,
     "task": false
    }
   },
   "outputs": [],
   "source": [
    "def our_predict(model, X):\n",
    "    # YOUR CODE HERE\n",
    "    raise NotImplementedError()\n",
    "    return y_predict, y_predict_raw"
   ]
  },
  {
   "cell_type": "code",
   "execution_count": null,
   "metadata": {
    "deletable": false,
    "editable": false,
    "nbgrader": {
     "cell_type": "code",
     "checksum": "439951219bde096e8093fed38b2b5794",
     "grade": true,
     "grade_id": "cell-f3af3a19a084f7a7",
     "locked": true,
     "points": 2,
     "schema_version": 3,
     "solution": false,
     "task": false
    }
   },
   "outputs": [],
   "source": [
    "y_predict_train, _ = our_predict(image_model, X_train)\n",
    "assert((np.count_nonzero(y_predict_train == y_train)/len(y_train)) > 0.88)"
   ]
  },
  {
   "cell_type": "markdown",
   "metadata": {
    "deletable": false,
    "editable": false,
    "nbgrader": {
     "cell_type": "markdown",
     "checksum": "ff7a911a865cb341ff9bc3c60ab1a2a7",
     "grade": false,
     "grade_id": "cell-1c41e18e3f49194a",
     "locked": true,
     "schema_version": 3,
     "solution": false,
     "task": false
    }
   },
   "source": [
    "We will now use ```plot_image_classification_results``` function, to see the output of our neural network on our test set of pen images."
   ]
  },
  {
   "cell_type": "code",
   "execution_count": null,
   "metadata": {
    "deletable": false,
    "editable": false,
    "nbgrader": {
     "cell_type": "code",
     "checksum": "cb3b875c8c5aab2778e126b84ceede88",
     "grade": false,
     "grade_id": "cell-07acf0aafe39c68e",
     "locked": true,
     "schema_version": 3,
     "solution": false,
     "task": false
    }
   },
   "outputs": [],
   "source": [
    "def plot_image_classification_results(img_idx, y_pred_raw, points, imgids, Is):\n",
    "    mask = imgids == img_idx\n",
    "    points = points[mask,:]\n",
    "    predictions = y_pred_raw[mask,:]\n",
    "    y_pred = np.argmax(predictions, axis = 1)\n",
    "    best_idx1 = predictions[:,1].argmax()\n",
    "    best_idx2 = predictions[:,2].argmax()\n",
    "    \n",
    "    # load image\n",
    "    I = Is[img_idx]\n",
    "\n",
    "    plt.figure()\n",
    "    plt.imshow(I)\n",
    "    plt.plot(points[y_pred==0, 0], points[y_pred==0, 1], '.r')\n",
    "    plt.plot(points[y_pred==3, 0], points[y_pred==3, 1], '.y')\n",
    "    plt.plot(points[y_pred==1, 0], points[y_pred==1, 1], '.g')\n",
    "    plt.plot(points[y_pred==2, 0], points[y_pred==2, 1], '.b')\n",
    "    plt.plot(points[(best_idx1, best_idx2), 0], points[(best_idx1, best_idx2), 1], 'c-', linewidth=2)\n",
    "    plt.plot(points[best_idx1, 0], points[best_idx1, 1], 'co')\n",
    "    plt.show()"
   ]
  },
  {
   "cell_type": "code",
   "execution_count": null,
   "metadata": {
    "deletable": false,
    "editable": false,
    "nbgrader": {
     "cell_type": "code",
     "checksum": "be66ad9adfba5892511c092400fa4e91",
     "grade": false,
     "grade_id": "cell-2d6de232ba9c3c7a",
     "locked": true,
     "schema_version": 3,
     "solution": false,
     "task": false
    }
   },
   "outputs": [],
   "source": [
    "test_img_idxs = np.unique(imgids_test)\n",
    "y_predict, y_predict_raw = our_predict(image_model, X_test)\n",
    "\n",
    "def plot_nth_train_result(n):\n",
    "    plot_image_classification_results(test_img_idxs[n], y_predict_raw, points_test, imgids_test, Is)\n",
    "    \n",
    "ipywidgets.interact(plot_nth_train_result, n=(0,len(test_img_idxs)-1))"
   ]
  },
  {
   "cell_type": "markdown",
   "metadata": {
    "deletable": false,
    "editable": false,
    "nbgrader": {
     "cell_type": "markdown",
     "checksum": "0b9578335f56b8e7c2f7243028b99197",
     "grade": false,
     "grade_id": "cell-96c38267cecd87aa",
     "locked": true,
     "points": 5,
     "schema_version": 3,
     "solution": false,
     "task": true
    }
   },
   "source": [
    "### 2.5 : Train a neural network on your pen images\n",
    "Now its your turn to train a neural network on your own pen images from practicum2. You need to do the following here:\n",
    "\n",
    "1. Combine your pen images with the images of your partner in a single folder.\n",
    "2. Train any classifier from practicum2 on the combined images.\n",
    "3. Develop your neural network as described in this practicum.\n",
    "4. Train your neural network on your combined pen images.\n",
    "5. Compare the results obtained from your neural network with those obtained in step 2.\n",
    "\n",
    "Note: Perform the tasks in multiple cells (do not write all your code in 1 cell). Also explain the code with readable comments. Create as many new cells as you want here. If you have to copy a piece of code from the cells above, only copy the code and DO NOT copy the cells with notebook copy buttons."
   ]
  },
  {
   "cell_type": "code",
   "execution_count": null,
   "metadata": {
    "deletable": false,
    "editable": false,
    "nbgrader": {
     "cell_type": "code",
     "checksum": "b6721215e713e04b21200239dc2dd2a1",
     "grade": false,
     "grade_id": "cell-2e5f3b2955c03f1b",
     "locked": true,
     "schema_version": 3,
     "solution": false,
     "task": false
    }
   },
   "outputs": [],
   "source": [
    "partner1_filenames = list_images('images/lab_partner1')\n",
    "partner2_filenames = list_images('images/lab_partner2')"
   ]
  },
  {
   "cell_type": "code",
   "execution_count": null,
   "metadata": {},
   "outputs": [],
   "source": []
  },
  {
   "cell_type": "markdown",
   "metadata": {},
   "source": [
    "Explain your results here!\n"
   ]
  },
  {
   "cell_type": "markdown",
   "metadata": {
    "deletable": false,
    "editable": false,
    "nbgrader": {
     "cell_type": "markdown",
     "checksum": "91189b06ddea116c990efb2fe48960ea",
     "grade": false,
     "grade_id": "cell-3424f5578de15262",
     "locked": true,
     "schema_version": 3,
     "solution": false,
     "task": false
    }
   },
   "source": [
    "# II : Regression with a Neural Network\n",
    "\n",
    "## 3. Learning Inverse Kinematic Using Artificial Neural Networks\n",
    "\n",
    "In Practicum 4 we learned how to learn to perform a collision avoidance trajectory using a database of expert policies.\n",
    "\n",
    "In case we are dealing with the control of a robotic arm, we can only directly control the joint angles and indirectly the end effector. Usually for the generation of the forward kinematics that relates the joint position with the end effector position,  different mathematical description of the robot are used in the literature, e.g. [Denavit-Hartenberg parameters](https://en.wikipedia.org/wiki/Denavit–Hartenberg_parameters). \n",
    "The main problem is when we have to deal with the inverse kinematics because it happens that the function that describe the forward kinematics is not invertible and/or doesn't have any analytic solution. Different solutions have been proposed in the literature using for example [numerical methods](https://en.m.wikipedia.org/wiki/Inverse_kinematics). \n",
    "\n",
    "In the following part of the assignment we want to learn the Inverse Kinematics of a simple 2 dof planar [SCARA robot](https://www.bing.com/images/search?view=detailV2&ccid=Jaadt6Qp&id=7F1893B3C2B4420570E40BC605E4FAC41B56DF4F&thid=OIP.Jaadt6QpN5EGbi2h6R1mXgHaFn&mediaurl=http%3a%2f%2fwww.engineering.com%2fportals%2f0%2fBlogFiles%2fSCARA-Robot+(1).jpg&exph=485&expw=640&q=scara+robot&simid=608011251659509423&ck=3B70ED2767BB135E6D7A2477F18557A7&selectedIndex=0&FORM=IRPRST&ajaxhist=0) with a Neural Network where we will generate a database with random joint angles **(q1,q2)** and relative **(x,y)** end-effector positions with a Forward Kinematics function. In the training we will consider the end-effector coordinates as **inputs** and the joint angle as label for the **output**.\n",
    "\n",
    "The final goal will be the execution of a trajectory in end-effector coordinates (drawing a square) but controlling the joints using the trained Neural Network Inverse Kinematics. \n",
    "\n",
    "More details about Robot Dynamics and Control will be introduced in the homonym course in the next quartile. "
   ]
  },
  {
   "attachments": {
    "FK-3.png": {
     "image/png": "[encoded data removed]"
    }
   },
   "cell_type": "markdown",
   "metadata": {
    "deletable": false,
    "editable": false,
    "nbgrader": {
     "cell_type": "markdown",
     "checksum": "06989f288258b514ab283010c5624069",
     "grade": false,
     "grade_id": "cell-5de823125561d438",
     "locked": true,
     "schema_version": 3,
     "solution": false,
     "task": false
    }
   },
   "source": [
    "![FK-3.png](attachment:FK-3.png)"
   ]
  },
  {
   "cell_type": "markdown",
   "metadata": {
    "deletable": false,
    "editable": false,
    "nbgrader": {
     "cell_type": "markdown",
     "checksum": "5cff1792c79acfe8a065d12dc0848959",
     "grade": false,
     "grade_id": "cell-79efaff679bebe3e",
     "locked": true,
     "schema_version": 3,
     "solution": false,
     "task": false
    }
   },
   "source": [
    "### 3.1 Neural Network Design\n",
    "Define a Neural Network with \n",
    "1. two inputs\n",
    "2. 4 hidden Dense layers with 32 neurons each\n",
    "3. two outputs\n",
    "4. Use the activation function relu for the hidden layers and no activation for the last layer \n",
    "\n",
    "[Help you out here](https://www.tensorflow.org/api_docs/python/tf/keras/layers) "
   ]
  },
  {
   "cell_type": "code",
   "execution_count": null,
   "metadata": {
    "deletable": false,
    "nbgrader": {
     "cell_type": "code",
     "checksum": "0d034e728ed36c690022a9a8e4d006f1",
     "grade": false,
     "grade_id": "cell-51a24cb4ba61a6c2",
     "locked": false,
     "schema_version": 3,
     "solution": true,
     "task": false
    }
   },
   "outputs": [],
   "source": [
    "seed = 7\n",
    "np.random.seed(seed)\n",
    "\n",
    "X_train = []\n",
    "X_test = []\n",
    "y_train= []\n",
    "y_test = []\n",
    "##define base model\n",
    "model = tf.keras.models.Sequential([\n",
    "  \n",
    "  tf.keras.layers.Flatten(input_shape=([2])),  \n",
    "  # YOUR CODE HERE\n",
    "  raise NotImplementedError()\n",
    "    \n",
    "])"
   ]
  },
  {
   "cell_type": "code",
   "execution_count": null,
   "metadata": {
    "deletable": false,
    "editable": false,
    "nbgrader": {
     "cell_type": "code",
     "checksum": "e3c3c206a765a478822ccc65fe0f74c7",
     "grade": true,
     "grade_id": "cell-51b7e9678f13a89b",
     "locked": true,
     "points": 3,
     "schema_version": 3,
     "solution": false,
     "task": false
    }
   },
   "outputs": [],
   "source": [
    "layer= model.layers[0]\n",
    "assert(isinstance(model.layers[0], keras.layers.Flatten))\n",
    "assert(isinstance(model.layers[1], keras.layers.Dense))\n",
    "assert(isinstance(model.layers[2], keras.layers.Dense))\n",
    "assert(model.layers[4].get_config()['activation']=='relu')"
   ]
  },
  {
   "cell_type": "markdown",
   "metadata": {
    "deletable": false,
    "editable": false,
    "nbgrader": {
     "cell_type": "markdown",
     "checksum": "4ffb4ae18dcd3926a0076b090ae7100e",
     "grade": false,
     "grade_id": "cell-812101baa56309d6",
     "locked": true,
     "schema_version": 3,
     "solution": false,
     "task": false
    }
   },
   "source": [
    "### 3.2 : Configuration\n",
    "Now compile the Keras model\n",
    "* Choose the [mean squared error](https://www.tensorflow.org/api_docs/python/tf/keras/losses/MeanSquaredError)  as cost function\n",
    "* Choose ADAM as optimizer\n",
    "* Select a learning rate equal to 0.001\n"
   ]
  },
  {
   "cell_type": "code",
   "execution_count": null,
   "metadata": {
    "deletable": false,
    "nbgrader": {
     "cell_type": "code",
     "checksum": "c9486d489d555dd4e5ad7f4cbb170031",
     "grade": false,
     "grade_id": "cell-80d700a35ba1ec1b",
     "locked": false,
     "schema_version": 3,
     "solution": true,
     "task": false
    }
   },
   "outputs": [],
   "source": [
    "#loss_fn = \n",
    "#learning_rate =\n",
    "#optimizer =\n",
    "#model.compile()\n",
    "# YOUR CODE HERE\n",
    "raise NotImplementedError()"
   ]
  },
  {
   "cell_type": "code",
   "execution_count": null,
   "metadata": {
    "deletable": false,
    "editable": false,
    "nbgrader": {
     "cell_type": "code",
     "checksum": "a49fb7064a13570f0dab2adc5414b015",
     "grade": true,
     "grade_id": "cell-5999d0d28fe4c158",
     "locked": true,
     "points": 3,
     "schema_version": 3,
     "solution": false,
     "task": false
    }
   },
   "outputs": [],
   "source": [
    "assert(loss_fn.name=='mean_squared_error')"
   ]
  },
  {
   "attachments": {
    "scara-2.png": {
     "image/png": "[encoded data removed]"
    }
   },
   "cell_type": "markdown",
   "metadata": {
    "deletable": false,
    "editable": false,
    "nbgrader": {
     "cell_type": "markdown",
     "checksum": "84087b22744a1f9c5cc58ef07c3700c7",
     "grade": false,
     "grade_id": "cell-90be70a8fd14b3d0",
     "locked": true,
     "schema_version": 3,
     "solution": false,
     "task": false
    }
   },
   "source": [
    "### 3.3 : Generate training data\n",
    "We have to generate random samples from the forward kinematics. \n",
    "![scara-2.png](attachment:scara-2.png)"
   ]
  },
  {
   "cell_type": "code",
   "execution_count": null,
   "metadata": {
    "deletable": false,
    "editable": false,
    "nbgrader": {
     "cell_type": "code",
     "checksum": "28016563ea4da788d7e844e652621ac6",
     "grade": false,
     "grade_id": "cell-1f4efbcdaad2c1a9",
     "locked": true,
     "schema_version": 3,
     "solution": false,
     "task": false
    }
   },
   "outputs": [],
   "source": [
    "# Function for the generation of the database with random samples of the joint angles and the relative forward kinematics\n",
    "\n",
    "def data_gen(q1_min, q1_max, q2_min, q2_max):\n",
    "    data_scara = []\n",
    "    for i in range(20000):\n",
    "        deg2rad = np.pi/180.0\n",
    "        Q1 = random.uniform(q1_min*deg2rad, q1_max*deg2rad)\n",
    "        Q2 = random.uniform(q2_min*deg2rad, q2_max*deg2rad)\n",
    "        x=0.5*np.cos(Q1)+0.5*np.cos(Q1+Q2) #Forward kinematic x position\n",
    "        y=0.5*np.sin(Q1)+0.5*np.sin(Q1+Q2) #Forward kinematic y position\n",
    "        data_scara.append([x, y, Q1, Q2])\n",
    "    return np.array(data_scara)"
   ]
  },
  {
   "cell_type": "markdown",
   "metadata": {
    "deletable": false,
    "editable": false,
    "nbgrader": {
     "cell_type": "markdown",
     "checksum": "7379ceb282406b22350183d5b37a4fe9",
     "grade": false,
     "grade_id": "cell-38cc833c1b0ed45a",
     "locked": true,
     "schema_version": 3,
     "solution": false,
     "task": false
    }
   },
   "source": [
    "Let's define the physical joint limits of our robot. Let's choose -180 deg and 180 deg for both the joints. "
   ]
  },
  {
   "cell_type": "code",
   "execution_count": null,
   "metadata": {
    "deletable": false,
    "nbgrader": {
     "cell_type": "code",
     "checksum": "774974d0c939de1987236bae7e2126dc",
     "grade": false,
     "grade_id": "cell-c808535eb9c848c0",
     "locked": false,
     "schema_version": 3,
     "solution": true,
     "task": false
    }
   },
   "outputs": [],
   "source": [
    "# YOUR CODE HERE\n",
    "raise NotImplementedError()"
   ]
  },
  {
   "cell_type": "code",
   "execution_count": null,
   "metadata": {
    "deletable": false,
    "editable": false,
    "nbgrader": {
     "cell_type": "code",
     "checksum": "048fd59fd02f3322cab9e6d6fe05b35e",
     "grade": true,
     "grade_id": "cell-5477aae19c6c2907",
     "locked": true,
     "points": 1,
     "schema_version": 3,
     "solution": false,
     "task": false
    }
   },
   "outputs": [],
   "source": [
    "assert(q1_min==-180)\n",
    "assert(q2_max==180)"
   ]
  },
  {
   "cell_type": "code",
   "execution_count": null,
   "metadata": {
    "deletable": false,
    "editable": false,
    "nbgrader": {
     "cell_type": "code",
     "checksum": "e8b45cd143b2989544cfbe1cb7f6bd50",
     "grade": false,
     "grade_id": "cell-ffe85eea7c98546a",
     "locked": true,
     "schema_version": 3,
     "solution": false,
     "task": false
    }
   },
   "outputs": [],
   "source": [
    "# Generate the dataset\n",
    "dataset = data_gen(q1_min, q1_max, q2_min, q2_max) #Generation of the dataset"
   ]
  },
  {
   "cell_type": "markdown",
   "metadata": {
    "deletable": false,
    "editable": false,
    "nbgrader": {
     "cell_type": "markdown",
     "checksum": "2cc957bbb78bf358765f53a7ab5f66a2",
     "grade": false,
     "grade_id": "cell-664e64716ff55a15",
     "locked": true,
     "schema_version": 3,
     "solution": false,
     "task": false
    }
   },
   "source": [
    "\n",
    "Divide the dataset with a ratio 8:2"
   ]
  },
  {
   "cell_type": "code",
   "execution_count": null,
   "metadata": {
    "deletable": false,
    "nbgrader": {
     "cell_type": "code",
     "checksum": "a9b1656b3b78b5ac228e1c9df6a6b575",
     "grade": false,
     "grade_id": "cell-d62658dbdaaef6c4",
     "locked": false,
     "schema_version": 3,
     "solution": true,
     "task": false
    }
   },
   "outputs": [],
   "source": [
    "#X_train = dataset[,:2]\n",
    "#Y_train = dataset[,2:]\n",
    "#X_test = dataset[,:2]\n",
    "#Y_test = dataset[,2:]\n",
    "\n",
    "# YOUR CODE HERE\n",
    "raise NotImplementedError()"
   ]
  },
  {
   "cell_type": "code",
   "execution_count": null,
   "metadata": {
    "deletable": false,
    "editable": false,
    "nbgrader": {
     "cell_type": "code",
     "checksum": "1a1763d32a3f59093793829551994562",
     "grade": true,
     "grade_id": "cell-4defadb318aaf2a1",
     "locked": true,
     "points": 2,
     "schema_version": 3,
     "solution": false,
     "task": false
    }
   },
   "outputs": [],
   "source": [
    "assert(X_train.shape[0] is not None)\n",
    "assert(Y_train.shape[0] is not None)\n",
    "assert(X_test.shape[0] is not None)\n",
    "assert(Y_test.shape[0] is not None)\n"
   ]
  },
  {
   "cell_type": "markdown",
   "metadata": {
    "deletable": false,
    "editable": false,
    "nbgrader": {
     "cell_type": "markdown",
     "checksum": "247923d8158722b258b13fad66cd3bfb",
     "grade": false,
     "grade_id": "cell-0c466319bf21e0e3",
     "locked": true,
     "schema_version": 3,
     "solution": false,
     "task": false
    }
   },
   "source": [
    "### 3.4 : Fit the model"
   ]
  },
  {
   "cell_type": "code",
   "execution_count": null,
   "metadata": {
    "deletable": false,
    "editable": false,
    "nbgrader": {
     "cell_type": "code",
     "checksum": "7d1ac38d80935a06dcb5c1e162a07956",
     "grade": false,
     "grade_id": "cell-51b0b55bfaebe58f",
     "locked": true,
     "schema_version": 3,
     "solution": false,
     "task": false
    }
   },
   "outputs": [],
   "source": [
    "model.fit(X_train, Y_train, epochs=20)\n",
    "model.evaluate(X_test,  Y_test, verbose=2)"
   ]
  },
  {
   "cell_type": "markdown",
   "metadata": {
    "deletable": false,
    "editable": false,
    "nbgrader": {
     "cell_type": "markdown",
     "checksum": "07e9cfecfd195add94087ddb987990a1",
     "grade": false,
     "grade_id": "cell-f98431b7e72a8c02",
     "locked": true,
     "schema_version": 3,
     "solution": false,
     "task": false
    }
   },
   "source": [
    "**The accuracy is not really high and it does not improve with the training. Let's use the inverse kinematics for drawing a square in the workspace:**"
   ]
  },
  {
   "cell_type": "code",
   "execution_count": null,
   "metadata": {
    "deletable": false,
    "editable": false,
    "nbgrader": {
     "cell_type": "code",
     "checksum": "ace26425b7c892b0312701cbf07d138f",
     "grade": false,
     "grade_id": "cell-6514f7d6ef7c6d93",
     "locked": true,
     "schema_version": 3,
     "solution": false,
     "task": false
    }
   },
   "outputs": [],
   "source": [
    "from plot_scara import ScaraPlot"
   ]
  },
  {
   "cell_type": "code",
   "execution_count": null,
   "metadata": {
    "deletable": false,
    "editable": false,
    "nbgrader": {
     "cell_type": "code",
     "checksum": "19b8198cd2d071b53dae76ce33a09190",
     "grade": false,
     "grade_id": "cell-5b8a0f6d25a51ae8",
     "locked": true,
     "schema_version": 3,
     "solution": false,
     "task": false
    }
   },
   "outputs": [],
   "source": [
    "L=0.8\n",
    "corner=[-0.4, -0.4]\n",
    "sp = ScaraPlot(model, L, corner)\n",
    "\n",
    "# plot final path\n",
    "sp.plot_frame(sp.num_frames-1)\n",
    "plt.title('full path')\n",
    "\n",
    "# interactive\n",
    "ipywidgets.interact(sp.plot_frame, f=(0,sp.num_frames-1))"
   ]
  },
  {
   "cell_type": "code",
   "execution_count": null,
   "metadata": {
    "deletable": false,
    "editable": false,
    "nbgrader": {
     "cell_type": "code",
     "checksum": "ab813cbd14942a0dd8409d6a60a09742",
     "grade": false,
     "grade_id": "cell-0bce3352b7135ef8",
     "locked": true,
     "schema_version": 3,
     "solution": false,
     "task": false
    }
   },
   "outputs": [],
   "source": [
    "def plot_q(model, L, corner):\n",
    "    import matplotlib.pyplot as plt\n",
    "    n=100\n",
    "    x=np.array([ np.linspace(0,L, n),  np.linspace(L,L, n), np.linspace(L,0,n), np.linspace(0,0, n),]).reshape(4*n)\n",
    "    x=x+corner[0]\n",
    "    y=np.array([np.linspace(0, 0,n), np.linspace(0,L, n), np.linspace(L,L, n),  np.linspace(L, 0, n)]).reshape(4*n)\n",
    "    y=y+corner[1]\n",
    "    EE=np.array([x,y]).T\n",
    "    q_pred=(model.predict(EE))\n",
    "    print(q_pred.shape)\n",
    "    plt.plot(q_pred[:,0], '*')\n",
    "    plt.plot(q_pred[:,1], '*' )\n",
    "    plt.axvline(x=0,   linestyle='--', color='r')\n",
    "    plt.axvline(x=100, linestyle='--', color='r')\n",
    "    plt.axvline(x=200, linestyle='--', color='r')\n",
    "    plt.axvline(x=300, linestyle='--', color='r')\n",
    "    plt.axvline(x=400, linestyle='--', color='r')\n",
    "    #legend([q_pred[:,0],q_pred[:,1]], labels=[\"q1\", \"q2\"])\n",
    "    #ax.legend()\n",
    "    plt.legend(['q1', 'q2'])\n",
    "    plt.xlabel('step')\n",
    "    plt.ylabel('angle (rad)')\n",
    "    plt.show()"
   ]
  },
  {
   "cell_type": "code",
   "execution_count": null,
   "metadata": {
    "deletable": false,
    "editable": false,
    "nbgrader": {
     "cell_type": "code",
     "checksum": "049abc34904a45347e59dfbee7436c68",
     "grade": false,
     "grade_id": "cell-7de5e88a2d9a67ba",
     "locked": true,
     "schema_version": 3,
     "solution": false,
     "task": false
    }
   },
   "outputs": [],
   "source": [
    "plot_q(model, L, corner)"
   ]
  },
  {
   "cell_type": "markdown",
   "metadata": {
    "deletable": false,
    "editable": false,
    "nbgrader": {
     "cell_type": "markdown",
     "checksum": "4c99b9f7fa27c8f6526502ff278522af",
     "grade": false,
     "grade_id": "cell-736db029f7c0e3a0",
     "locked": true,
     "schema_version": 3,
     "solution": false,
     "task": false
    }
   },
   "source": [
    "**Give your comments about the (bad) results adding the final result of the drawing. Why is this happening? Use plot_q for plotting the value of predicted q in the execution of the task**  "
   ]
  },
  {
   "cell_type": "code",
   "execution_count": null,
   "metadata": {
    "deletable": false,
    "nbgrader": {
     "cell_type": "code",
     "checksum": "446ce83bbe307cae9aebbd64ecf36eeb",
     "grade": false,
     "grade_id": "cell-53534f43b6ac822f",
     "locked": false,
     "schema_version": 3,
     "solution": true,
     "task": false
    }
   },
   "outputs": [],
   "source": [
    "answer1=''\n",
    "answer2=''\n",
    "#answer='the learning rate is too small'\n",
    "#answer='the neural network is too small'\n",
    "#answer='the neural network is too big'\n",
    "#answer = 'there is an ambiguity in the database'\n",
    "#answer='the neural network is under fitting'\n",
    "#answwer = 'the neural network is over fitting'\n",
    "# YOUR CODE HERE\n",
    "raise NotImplementedError()"
   ]
  },
  {
   "cell_type": "code",
   "execution_count": null,
   "metadata": {
    "deletable": false,
    "editable": false,
    "nbgrader": {
     "cell_type": "code",
     "checksum": "3750af6ef870ec63c0d97f14fb19a047",
     "grade": true,
     "grade_id": "cell-737f356aacfde8e6",
     "locked": true,
     "points": 2,
     "schema_version": 3,
     "solution": false,
     "task": false
    }
   },
   "outputs": [],
   "source": [
    "assert(answer1!='')\n",
    "assert(answer2!='')"
   ]
  },
  {
   "attachments": {
    "elbow.png": {
     "image/png": "[encoded data removed]"
    }
   },
   "cell_type": "markdown",
   "metadata": {
    "deletable": false,
    "editable": false,
    "nbgrader": {
     "cell_type": "markdown",
     "checksum": "9c145c9f5bb782754bfeb7dd05cd7852",
     "grade": false,
     "grade_id": "cell-3dbbb87839a703c0",
     "locked": true,
     "schema_version": 3,
     "solution": false,
     "task": false
    }
   },
   "source": [
    "### 3.6 : Performance Improvement\n",
    "After the reflection of your previous point, train the forward kinematics only with elbow left configurations ![elbow.png](attachment:elbow.png)"
   ]
  },
  {
   "cell_type": "code",
   "execution_count": null,
   "metadata": {
    "deletable": false,
    "nbgrader": {
     "cell_type": "code",
     "checksum": "113be790c651fbc6b08aed2bb108a644",
     "grade": false,
     "grade_id": "cell-178872b8a282c246",
     "locked": false,
     "schema_version": 3,
     "solution": true,
     "task": false
    }
   },
   "outputs": [],
   "source": [
    "q1_min=-180\n",
    "q1_max=180\n",
    "#q2_min=\n",
    "#q2_max=\n",
    "# YOUR CODE HERE\n",
    "raise NotImplementedError()"
   ]
  },
  {
   "cell_type": "code",
   "execution_count": null,
   "metadata": {
    "deletable": false,
    "editable": false,
    "nbgrader": {
     "cell_type": "code",
     "checksum": "37e25b30d1091fadac09d005a1cdea1d",
     "grade": true,
     "grade_id": "cell-0f85bce91036b3a2",
     "locked": true,
     "points": 2,
     "schema_version": 3,
     "solution": false,
     "task": false
    }
   },
   "outputs": [],
   "source": [
    "assert(q2_min is not None)\n",
    "assert(q2_max is not None)\n"
   ]
  },
  {
   "cell_type": "code",
   "execution_count": null,
   "metadata": {
    "deletable": false,
    "editable": false,
    "nbgrader": {
     "cell_type": "code",
     "checksum": "510977c6068a292e876be63e6c8fbb54",
     "grade": false,
     "grade_id": "cell-3fdbc9decef902e0",
     "locked": true,
     "schema_version": 3,
     "solution": false,
     "task": false
    }
   },
   "outputs": [],
   "source": [
    "dataset = data_gen(q1_min, q1_max, q2_min, q2_max)\n",
    "X = dataset[:18000,:2]\n",
    "Y = dataset[:18000,2:]\n",
    "X_test = dataset[18000:,:2]\n",
    "Y_test = dataset[18000:,2:]\n",
    "model.fit(X, Y, epochs=20)\n",
    "model.evaluate(X_test,  Y_test, verbose=2)"
   ]
  },
  {
   "cell_type": "markdown",
   "metadata": {
    "deletable": false,
    "editable": false,
    "nbgrader": {
     "cell_type": "markdown",
     "checksum": "788aba5db0bdf95aed7f2d8b39b034bf",
     "grade": false,
     "grade_id": "cell-387bdf289ffed233",
     "locked": true,
     "schema_version": 3,
     "solution": false,
     "task": false
    }
   },
   "source": [
    "**Let's make again a test of drawing the square**"
   ]
  },
  {
   "cell_type": "code",
   "execution_count": null,
   "metadata": {
    "deletable": false,
    "editable": false,
    "nbgrader": {
     "cell_type": "code",
     "checksum": "8b1ebf2ae5a6c2a59ccdafcc87f62826",
     "grade": false,
     "grade_id": "cell-bf1121721cdcb327",
     "locked": true,
     "schema_version": 3,
     "solution": false,
     "task": false
    }
   },
   "outputs": [],
   "source": [
    "L=0.8\n",
    "corner=[-0.4, -0.4]\n",
    "\n",
    "sp = ScaraPlot(model, L, corner)\n",
    "\n",
    "# plot final path\n",
    "sp.plot_frame(sp.num_frames-1)\n",
    "plt.title('full path')\n",
    "\n",
    "# interactive\n",
    "ipywidgets.interact(sp.plot_frame, f=(0,sp.num_frames-1))"
   ]
  },
  {
   "cell_type": "code",
   "execution_count": null,
   "metadata": {
    "deletable": false,
    "editable": false,
    "nbgrader": {
     "cell_type": "code",
     "checksum": "f93060307b7d96cf8d630646b739bb51",
     "grade": false,
     "grade_id": "cell-9bff8b680c95a2e4",
     "locked": true,
     "schema_version": 3,
     "solution": false,
     "task": false
    }
   },
   "outputs": [],
   "source": [
    "plot_q(model, L, corner)"
   ]
  },
  {
   "cell_type": "markdown",
   "metadata": {
    "deletable": false,
    "editable": false,
    "nbgrader": {
     "cell_type": "markdown",
     "checksum": "bd892b865658bae9b2f1ccd7b4f90eb8",
     "grade": false,
     "grade_id": "cell-a71a439aed515ff2",
     "locked": true,
     "schema_version": 3,
     "solution": false,
     "task": false
    }
   },
   "source": [
    "**Did the performance improve?**"
   ]
  },
  {
   "cell_type": "code",
   "execution_count": null,
   "metadata": {
    "deletable": false,
    "nbgrader": {
     "cell_type": "code",
     "checksum": "da339bffa7fc496487de886154ef0d09",
     "grade": false,
     "grade_id": "cell-6892399fadf8f86d",
     "locked": false,
     "schema_version": 3,
     "solution": true,
     "task": false
    }
   },
   "outputs": [],
   "source": [
    "answer=''\n",
    "#answer='YES'\n",
    "#answer='NO'\n",
    "#answer='I CANNOT JUDGE'\n",
    "# YOUR CODE HERE\n",
    "raise NotImplementedError()"
   ]
  },
  {
   "cell_type": "code",
   "execution_count": null,
   "metadata": {
    "deletable": false,
    "editable": false,
    "nbgrader": {
     "cell_type": "code",
     "checksum": "fdd1939f7b9a9f06c84f839d6446b514",
     "grade": true,
     "grade_id": "cell-e256cc96fd9656f2",
     "locked": true,
     "points": 2,
     "schema_version": 3,
     "solution": false,
     "task": false
    }
   },
   "outputs": [],
   "source": [
    "assert(answer!= '')"
   ]
  },
  {
   "cell_type": "markdown",
   "metadata": {
    "deletable": false,
    "editable": false,
    "nbgrader": {
     "cell_type": "markdown",
     "checksum": "403e476537985caffdc936e712459058",
     "grade": false,
     "grade_id": "cell-a909b2286c37621f",
     "locked": true,
     "schema_version": 3,
     "solution": false,
     "task": false
    }
   },
   "source": [
    " **What happened at the end of the 3rd side drawing? Give your answer down below. Use the output of plot_q for explaining what is happening. Is this just a numerical issue or it also has physical motivation?**"
   ]
  },
  {
   "cell_type": "code",
   "execution_count": null,
   "metadata": {
    "deletable": false,
    "nbgrader": {
     "cell_type": "code",
     "checksum": "b2ed491a970be1c5cb6e4d156e2a24eb",
     "grade": false,
     "grade_id": "cell-909bf0ae14ac45ad",
     "locked": false,
     "schema_version": 3,
     "solution": true,
     "task": false
    }
   },
   "outputs": [],
   "source": [
    "answer=''\n",
    "#answer='the network is close to a numerical instability'\n",
    "#answer='physical motivation, the robot is approaching its joint angle limitations'\n",
    "#answer='both'\n",
    "# YOUR CODE HERE\n",
    "raise NotImplementedError()"
   ]
  },
  {
   "cell_type": "code",
   "execution_count": null,
   "metadata": {
    "deletable": false,
    "editable": false,
    "nbgrader": {
     "cell_type": "code",
     "checksum": "fbb833db8eae2bdd08573042bdbe624a",
     "grade": true,
     "grade_id": "cell-d1100a971b9ef859",
     "locked": true,
     "points": 2,
     "schema_version": 3,
     "solution": false,
     "task": false
    }
   },
   "outputs": [],
   "source": [
    "assert(answer!='')"
   ]
  },
  {
   "cell_type": "markdown",
   "metadata": {
    "deletable": false,
    "editable": false,
    "nbgrader": {
     "cell_type": "markdown",
     "checksum": "37b3c2edfa1beb96c7f092cf47aefd58",
     "grade": false,
     "grade_id": "cell-6024597dd73ce9b6",
     "locked": true,
     "schema_version": 3,
     "solution": false,
     "task": false
    }
   },
   "source": [
    "**Let's draw a smaller square.**"
   ]
  },
  {
   "cell_type": "code",
   "execution_count": null,
   "metadata": {
    "deletable": false,
    "editable": false,
    "nbgrader": {
     "cell_type": "code",
     "checksum": "62a38e9d65b8deab1596e406d4d5906e",
     "grade": false,
     "grade_id": "cell-f2acdddb7bdbc709",
     "locked": true,
     "schema_version": 3,
     "solution": false,
     "task": false
    }
   },
   "outputs": [],
   "source": [
    "L=0.3\n",
    "corner=[0.4, -0.4]\n",
    "sp = ScaraPlot(model, L, corner)\n",
    "\n",
    "# plot final path\n",
    "sp.plot_frame(sp.num_frames-1)\n",
    "plt.title('full path')\n",
    "\n",
    "# interactive\n",
    "ipywidgets.interact(sp.plot_frame, f=(0,sp.num_frames-1))"
   ]
  },
  {
   "cell_type": "code",
   "execution_count": null,
   "metadata": {
    "deletable": false,
    "editable": false,
    "nbgrader": {
     "cell_type": "code",
     "checksum": "4977d6533b9036ae72b5bbe025dc21e8",
     "grade": false,
     "grade_id": "cell-791eb605ad8f2341",
     "locked": true,
     "schema_version": 3,
     "solution": false,
     "task": false
    }
   },
   "outputs": [],
   "source": [
    "plot_q(model, L, corner)"
   ]
  },
  {
   "cell_type": "markdown",
   "metadata": {
    "deletable": false,
    "editable": false,
    "nbgrader": {
     "cell_type": "markdown",
     "checksum": "008d5305e7dcf8728786d901e56153c0",
     "grade": false,
     "grade_id": "cell-5bc0c87c40457ff8",
     "locked": true,
     "schema_version": 3,
     "solution": false,
     "task": false
    }
   },
   "source": [
    "**Did the performance of the drawing improve? What is the difference with the previous drawing?**"
   ]
  },
  {
   "cell_type": "code",
   "execution_count": null,
   "metadata": {
    "deletable": false,
    "nbgrader": {
     "cell_type": "code",
     "checksum": "4a3dbda15216820e7dc7d11af169e5c4",
     "grade": false,
     "grade_id": "cell-9d39ce220f1eed93",
     "locked": false,
     "schema_version": 3,
     "solution": true,
     "task": false
    }
   },
   "outputs": [],
   "source": [
    "answer=''\n",
    "#answer='Performance is the same'\n",
    "#answer='Performance is better because no joint inversions are required to complete the task.'\n",
    "#answer='Performance is better because the trajectory is smaller.'\n",
    "#answer='Performance is worse '\n",
    "# YOUR CODE HERE\n",
    "raise NotImplementedError()"
   ]
  },
  {
   "cell_type": "code",
   "execution_count": null,
   "metadata": {
    "deletable": false,
    "editable": false,
    "nbgrader": {
     "cell_type": "code",
     "checksum": "458261a52b252df96145557e19058577",
     "grade": true,
     "grade_id": "cell-03c9315d587da679",
     "locked": true,
     "points": 2,
     "schema_version": 3,
     "solution": false,
     "task": false
    }
   },
   "outputs": [],
   "source": [
    "assert(answer!='')"
   ]
  },
  {
   "cell_type": "markdown",
   "metadata": {
    "deletable": false,
    "editable": false,
    "nbgrader": {
     "cell_type": "markdown",
     "checksum": "53f08f462ea82a084f55e37e4891a89a",
     "grade": false,
     "grade_id": "cell-3043c40024aed835",
     "locked": true,
     "schema_version": 3,
     "solution": false,
     "task": false
    }
   },
   "source": [
    "**Let's plot the last square**"
   ]
  },
  {
   "cell_type": "code",
   "execution_count": null,
   "metadata": {
    "deletable": false,
    "editable": false,
    "nbgrader": {
     "cell_type": "code",
     "checksum": "da7fa134c41cc169bc10780d04703c88",
     "grade": false,
     "grade_id": "cell-bb288c4d4965ca84",
     "locked": true,
     "schema_version": 3,
     "solution": false,
     "task": false
    }
   },
   "outputs": [],
   "source": [
    "L=0.6\n",
    "corner=[0.5, -0.4]\n",
    "sp = ScaraPlot(model, L, corner)\n",
    "\n",
    "# plot final path\n",
    "sp.plot_frame(sp.num_frames-1)\n",
    "plt.title('full path')\n",
    "\n",
    "# interactive\n",
    "ipywidgets.interact(sp.plot_frame, f=(0,sp.num_frames-1))"
   ]
  },
  {
   "cell_type": "code",
   "execution_count": null,
   "metadata": {
    "deletable": false,
    "editable": false,
    "nbgrader": {
     "cell_type": "code",
     "checksum": "51a94d3162c2c20eac331006620a7df5",
     "grade": false,
     "grade_id": "cell-e54de2762729b7da",
     "locked": true,
     "schema_version": 3,
     "solution": false,
     "task": false
    }
   },
   "outputs": [],
   "source": [
    "plot_q(model, L, corner)"
   ]
  },
  {
   "cell_type": "markdown",
   "metadata": {
    "deletable": false,
    "editable": false,
    "nbgrader": {
     "cell_type": "markdown",
     "checksum": "cbc9e2086b957f348b005a95bddb8760",
     "grade": false,
     "grade_id": "cell-d80ab5290204a6d9",
     "locked": true,
     "schema_version": 3,
     "solution": false,
     "task": false
    }
   },
   "source": [
    "**In the second segment the robot does strange trajectories also going in elbow-right configuration. Why is this happening? Give your comment below**"
   ]
  },
  {
   "cell_type": "code",
   "execution_count": null,
   "metadata": {
    "deletable": false,
    "nbgrader": {
     "cell_type": "code",
     "checksum": "7b21256230d69c720407f8d7a4a42e2c",
     "grade": false,
     "grade_id": "cell-37312aaf61a2dbbc",
     "locked": false,
     "schema_version": 3,
     "solution": true,
     "task": false
    }
   },
   "outputs": [],
   "source": [
    "answer1=''\n",
    "answer2=''\n",
    "#answer='The network is underfitting'\n",
    "#answer='The network is overfitting.'\n",
    "#answer='The network is evaluated in point outside the training area'\n",
    "#answer='We need to record more data'\n",
    "#answer= 'The queried points are not feasible from physical point of view'\n",
    "# YOUR CODE HERE\n",
    "raise NotImplementedError()"
   ]
  },
  {
   "cell_type": "code",
   "execution_count": null,
   "metadata": {
    "deletable": false,
    "editable": false,
    "nbgrader": {
     "cell_type": "code",
     "checksum": "e3f86e0ba34326bd0b15bac822a5fdf0",
     "grade": true,
     "grade_id": "cell-b467da47a031c9de",
     "locked": true,
     "points": 2,
     "schema_version": 3,
     "solution": false,
     "task": false
    }
   },
   "outputs": [],
   "source": [
    "assert(answer1!='')\n",
    "assert(answer2!='')"
   ]
  },
  {
   "cell_type": "markdown",
   "metadata": {
    "deletable": false,
    "editable": false,
    "nbgrader": {
     "cell_type": "markdown",
     "checksum": "bb267b5d03fead1e9b7045f30ae661f8",
     "grade": false,
     "grade_id": "cell-655b6f786166c712",
     "locked": true,
     "schema_version": 3,
     "solution": false,
     "task": false
    }
   },
   "source": [
    "**Give your final comment on dataset inconsistency, fitting discontinuities with a continuous regressor, feasibility of the control when applying this to a real robot, and the extrapolation/interpolation problem. Give your comment about how the Neural Network structure could be improved for the purpose of Inverse Kinematics**"
   ]
  },
  {
   "cell_type": "markdown",
   "metadata": {
    "deletable": false,
    "nbgrader": {
     "cell_type": "markdown",
     "checksum": "dacc2c22d1aceaec730d08ab08b9fcfb",
     "grade": true,
     "grade_id": "cell-65c60520edca2060",
     "locked": false,
     "points": 2,
     "schema_version": 3,
     "solution": true,
     "task": false
    }
   },
   "source": [
    "YOUR ANSWER HERE"
   ]
  }
 ],
 "metadata": {
  "kernelspec": {
   "display_name": "Python 3 (ipykernel)",
   "language": "python",
   "name": "python3"
  },
  "language_info": {
   "codemirror_mode": {
    "name": "ipython",
    "version": 3
   },
   "file_extension": ".py",
   "mimetype": "text/x-python",
   "name": "python",
   "nbconvert_exporter": "python",
   "pygments_lexer": "ipython3",
   "version": "3.10.12"
  }
 },
 "nbformat": 4,
 "nbformat_minor": 4
}
